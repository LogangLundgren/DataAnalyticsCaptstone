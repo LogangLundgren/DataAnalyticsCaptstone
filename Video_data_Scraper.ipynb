{
  "nbformat": 4,
  "nbformat_minor": 0,
  "metadata": {
    "colab": {
      "provenance": []
    },
    "kernelspec": {
      "name": "python3",
      "display_name": "Python 3"
    },
    "language_info": {
      "name": "python"
    }
  },
  "cells": [
    {
      "cell_type": "code",
      "execution_count": null,
      "metadata": {
        "colab": {
          "base_uri": "https://localhost:8080/"
        },
        "id": "fbdVOTukEGX3",
        "outputId": "cf5da5eb-9e4c-44ac-dfd4-660530b70b18"
      },
      "outputs": [
        {
          "output_type": "stream",
          "name": "stdout",
          "text": [
            "Mounted at /content/drive\n",
            "Collecting mediapipe\n",
            "  Downloading mediapipe-0.10.21-cp311-cp311-manylinux_2_28_x86_64.whl.metadata (9.7 kB)\n",
            "Requirement already satisfied: opencv-python in /usr/local/lib/python3.11/dist-packages (4.11.0.86)\n",
            "Requirement already satisfied: pandas in /usr/local/lib/python3.11/dist-packages (2.2.2)\n",
            "Requirement already satisfied: tqdm in /usr/local/lib/python3.11/dist-packages (4.67.1)\n",
            "Requirement already satisfied: absl-py in /usr/local/lib/python3.11/dist-packages (from mediapipe) (1.4.0)\n",
            "Requirement already satisfied: attrs>=19.1.0 in /usr/local/lib/python3.11/dist-packages (from mediapipe) (25.1.0)\n",
            "Requirement already satisfied: flatbuffers>=2.0 in /usr/local/lib/python3.11/dist-packages (from mediapipe) (25.2.10)\n",
            "Requirement already satisfied: jax in /usr/local/lib/python3.11/dist-packages (from mediapipe) (0.4.33)\n",
            "Requirement already satisfied: jaxlib in /usr/local/lib/python3.11/dist-packages (from mediapipe) (0.4.33)\n",
            "Requirement already satisfied: matplotlib in /usr/local/lib/python3.11/dist-packages (from mediapipe) (3.10.0)\n",
            "Requirement already satisfied: numpy<2 in /usr/local/lib/python3.11/dist-packages (from mediapipe) (1.26.4)\n",
            "Requirement already satisfied: opencv-contrib-python in /usr/local/lib/python3.11/dist-packages (from mediapipe) (4.11.0.86)\n",
            "Requirement already satisfied: protobuf<5,>=4.25.3 in /usr/local/lib/python3.11/dist-packages (from mediapipe) (4.25.6)\n",
            "Collecting sounddevice>=0.4.4 (from mediapipe)\n",
            "  Downloading sounddevice-0.5.1-py3-none-any.whl.metadata (1.4 kB)\n",
            "Requirement already satisfied: sentencepiece in /usr/local/lib/python3.11/dist-packages (from mediapipe) (0.2.0)\n",
            "Requirement already satisfied: python-dateutil>=2.8.2 in /usr/local/lib/python3.11/dist-packages (from pandas) (2.8.2)\n",
            "Requirement already satisfied: pytz>=2020.1 in /usr/local/lib/python3.11/dist-packages (from pandas) (2025.1)\n",
            "Requirement already satisfied: tzdata>=2022.7 in /usr/local/lib/python3.11/dist-packages (from pandas) (2025.1)\n",
            "Requirement already satisfied: six>=1.5 in /usr/local/lib/python3.11/dist-packages (from python-dateutil>=2.8.2->pandas) (1.17.0)\n",
            "Requirement already satisfied: CFFI>=1.0 in /usr/local/lib/python3.11/dist-packages (from sounddevice>=0.4.4->mediapipe) (1.17.1)\n",
            "Requirement already satisfied: ml-dtypes>=0.2.0 in /usr/local/lib/python3.11/dist-packages (from jax->mediapipe) (0.4.1)\n",
            "Requirement already satisfied: opt-einsum in /usr/local/lib/python3.11/dist-packages (from jax->mediapipe) (3.4.0)\n",
            "Requirement already satisfied: scipy>=1.10 in /usr/local/lib/python3.11/dist-packages (from jax->mediapipe) (1.13.1)\n",
            "Requirement already satisfied: contourpy>=1.0.1 in /usr/local/lib/python3.11/dist-packages (from matplotlib->mediapipe) (1.3.1)\n",
            "Requirement already satisfied: cycler>=0.10 in /usr/local/lib/python3.11/dist-packages (from matplotlib->mediapipe) (0.12.1)\n",
            "Requirement already satisfied: fonttools>=4.22.0 in /usr/local/lib/python3.11/dist-packages (from matplotlib->mediapipe) (4.56.0)\n",
            "Requirement already satisfied: kiwisolver>=1.3.1 in /usr/local/lib/python3.11/dist-packages (from matplotlib->mediapipe) (1.4.8)\n",
            "Requirement already satisfied: packaging>=20.0 in /usr/local/lib/python3.11/dist-packages (from matplotlib->mediapipe) (24.2)\n",
            "Requirement already satisfied: pillow>=8 in /usr/local/lib/python3.11/dist-packages (from matplotlib->mediapipe) (11.1.0)\n",
            "Requirement already satisfied: pyparsing>=2.3.1 in /usr/local/lib/python3.11/dist-packages (from matplotlib->mediapipe) (3.2.1)\n",
            "Requirement already satisfied: pycparser in /usr/local/lib/python3.11/dist-packages (from CFFI>=1.0->sounddevice>=0.4.4->mediapipe) (2.22)\n",
            "Downloading mediapipe-0.10.21-cp311-cp311-manylinux_2_28_x86_64.whl (35.6 MB)\n",
            "\u001b[2K   \u001b[90m━━━━━━━━━━━━━━━━━━━━━━━━━━━━━━━━━━━━━━━━\u001b[0m \u001b[32m35.6/35.6 MB\u001b[0m \u001b[31m47.1 MB/s\u001b[0m eta \u001b[36m0:00:00\u001b[0m\n",
            "\u001b[?25hDownloading sounddevice-0.5.1-py3-none-any.whl (32 kB)\n",
            "Installing collected packages: sounddevice, mediapipe\n",
            "Successfully installed mediapipe-0.10.21 sounddevice-0.5.1\n"
          ]
        }
      ],
      "source": [
        "from google.colab import drive\n",
        "import os\n",
        "\n",
        "# Mount Google Drive\n",
        "drive.mount('/content/drive')\n",
        "\n",
        "# Install dependencies\n",
        "!pip install mediapipe opencv-python pandas tqdm\n"
      ]
    },
    {
      "cell_type": "code",
      "source": [
        "import cv2\n",
        "import mediapipe as mp\n",
        "import os\n",
        "import pandas as pd\n",
        "import numpy as np\n",
        "from tqdm import tqdm\n",
        "from google.colab import drive\n",
        "\n",
        "# Mount Google Drive\n",
        "drive.mount('/content/drive')\n",
        "\n",
        "# Define paths\n",
        "INPUT_DIR = \"/content/drive/My Drive/lifting videos/lifting videos\"\n",
        "OUTPUT_DIR = \"/content/drive/My Drive/lifting videos/processed_data\"\n",
        "\n",
        "# Ensure output directory exists\n",
        "os.makedirs(OUTPUT_DIR, exist_ok=True)\n",
        "\n",
        "# Initialize MediaPipe\n",
        "mp_drawing = mp.solutions.drawing_utils\n",
        "mp_pose = mp.solutions.pose\n",
        "\n",
        "def extract_keypoints(video_path):\n",
        "    cap = cv2.VideoCapture(video_path)\n",
        "\n",
        "    if not cap.isOpened():\n",
        "        print(f\"⚠️ Error: Could not open {video_path}\")\n",
        "        return None\n",
        "\n",
        "    keypoints_list = []\n",
        "    max_landmarks = 0  # Track max number of keypoints detected\n",
        "\n",
        "    with mp_pose.Pose(min_detection_confidence=0.5, min_tracking_confidence=0.5) as pose:\n",
        "        while cap.isOpened():\n",
        "            ret, frame = cap.read()\n",
        "            if not ret:\n",
        "                break\n",
        "\n",
        "            # Convert to RGB\n",
        "            rgb_frame = cv2.cvtColor(frame, cv2.COLOR_BGR2RGB)\n",
        "            results = pose.process(rgb_frame)\n",
        "\n",
        "            # Extract keypoints\n",
        "            if results.pose_landmarks:\n",
        "                keypoints = [coord for landmark in results.pose_landmarks.landmark for coord in (landmark.x, landmark.y, landmark.z, landmark.visibility)]\n",
        "                keypoints_list.append(keypoints)\n",
        "                max_landmarks = max(max_landmarks, len(keypoints))\n",
        "\n",
        "    cap.release()\n",
        "\n",
        "    # Normalize all rows to have the same length\n",
        "    for i in range(len(keypoints_list)):\n",
        "        while len(keypoints_list[i]) < max_landmarks:\n",
        "            keypoints_list[i].append(np.nan)\n",
        "\n",
        "    return keypoints_list, max_landmarks\n",
        "\n",
        "# Iterate through all exercise folders and videos\n",
        "exercise_folders = [folder for folder in os.listdir(INPUT_DIR) if os.path.isdir(os.path.join(INPUT_DIR, folder))]\n",
        "\n",
        "print(\"🚀 Processing all exercise videos...\\n\")\n",
        "\n",
        "for exercise in tqdm(exercise_folders, desc=\"Processing Exercise Folders\"):\n",
        "    print(f\"📂 Processing Exercise: {exercise}\\n\")\n",
        "\n",
        "    exercise_path = os.path.join(INPUT_DIR, exercise)\n",
        "    output_exercise_path = os.path.join(OUTPUT_DIR, exercise)\n",
        "\n",
        "    os.makedirs(output_exercise_path, exist_ok=True)\n",
        "\n",
        "    video_files = [file for file in os.listdir(exercise_path) if file.endswith(('.mp4', '.avi', '.mov'))]\n",
        "\n",
        "    for video in tqdm(video_files, desc=f\"Processing Videos in {exercise}\"):\n",
        "        video_path = os.path.join(exercise_path, video)\n",
        "        print(f\"🎥 Processing Video: {video}\")\n",
        "\n",
        "        keypoints_list, max_landmarks = extract_keypoints(video_path)\n",
        "\n",
        "        if keypoints_list:\n",
        "            # Generate column names dynamically\n",
        "            column_names = []\n",
        "            for i in range(max_landmarks // 4):\n",
        "                column_names.extend([f\"x{i}\", f\"y{i}\", f\"z{i}\", f\"visibility{i}\"])\n",
        "\n",
        "            # Convert to DataFrame and save as CSV\n",
        "            df = pd.DataFrame(keypoints_list, columns=column_names)\n",
        "            csv_filename = os.path.splitext(video)[0] + \".csv\"\n",
        "            df.to_csv(os.path.join(output_exercise_path, csv_filename), index=False)\n",
        "\n",
        "        print(f\"✅ Saved keypoints for {video} to CSV\\n\")\n",
        "\n",
        "print(\"🚀 All videos processed and CSV files saved!\")\n"
      ],
      "metadata": {
        "colab": {
          "base_uri": "https://localhost:8080/"
        },
        "id": "KjCNPA9SEsCO",
        "outputId": "dde33263-2dad-45e8-8ba3-989158591f2e"
      },
      "execution_count": null,
      "outputs": [
        {
          "output_type": "stream",
          "name": "stdout",
          "text": [
            "Drive already mounted at /content/drive; to attempt to forcibly remount, call drive.mount(\"/content/drive\", force_remount=True).\n",
            "🚀 Processing all exercise videos...\n",
            "\n"
          ]
        },
        {
          "output_type": "stream",
          "name": "stderr",
          "text": [
            "\rProcessing Exercise Folders:   0%|          | 0/22 [00:00<?, ?it/s]"
          ]
        },
        {
          "output_type": "stream",
          "name": "stdout",
          "text": [
            "📂 Processing Exercise: tricep Pushdown\n",
            "\n"
          ]
        },
        {
          "output_type": "stream",
          "name": "stderr",
          "text": [
            "\n",
            "Processing Videos in tricep Pushdown:   0%|          | 0/50 [00:00<?, ?it/s]\u001b[A"
          ]
        },
        {
          "output_type": "stream",
          "name": "stdout",
          "text": [
            "🎥 Processing Video: tricep pushdown_33.mp4\n"
          ]
        },
        {
          "output_type": "stream",
          "name": "stderr",
          "text": [
            "\n",
            "Processing Videos in tricep Pushdown:   2%|▏         | 1/50 [00:05<04:19,  5.30s/it]\u001b[A"
          ]
        },
        {
          "output_type": "stream",
          "name": "stdout",
          "text": [
            "✅ Saved keypoints for tricep pushdown_33.mp4 to CSV\n",
            "\n",
            "🎥 Processing Video: tricep pushdown_2.mp4\n"
          ]
        },
        {
          "output_type": "stream",
          "name": "stderr",
          "text": [
            "\n",
            "Processing Videos in tricep Pushdown:   4%|▍         | 2/50 [00:09<03:35,  4.49s/it]\u001b[A"
          ]
        },
        {
          "output_type": "stream",
          "name": "stdout",
          "text": [
            "✅ Saved keypoints for tricep pushdown_2.mp4 to CSV\n",
            "\n",
            "🎥 Processing Video: tricep pushdown_20.mp4\n"
          ]
        },
        {
          "output_type": "stream",
          "name": "stderr",
          "text": [
            "\n",
            "Processing Videos in tricep Pushdown:   6%|▌         | 3/50 [00:12<03:08,  4.01s/it]\u001b[A"
          ]
        },
        {
          "output_type": "stream",
          "name": "stdout",
          "text": [
            "✅ Saved keypoints for tricep pushdown_20.mp4 to CSV\n",
            "\n",
            "🎥 Processing Video: tricep pushdown_25.mp4\n"
          ]
        },
        {
          "output_type": "stream",
          "name": "stderr",
          "text": [
            "\n",
            "Processing Videos in tricep Pushdown:   8%|▊         | 4/50 [00:17<03:13,  4.21s/it]\u001b[A"
          ]
        },
        {
          "output_type": "stream",
          "name": "stdout",
          "text": [
            "✅ Saved keypoints for tricep pushdown_25.mp4 to CSV\n",
            "\n",
            "🎥 Processing Video: tricep pushdown_16.mp4\n"
          ]
        },
        {
          "output_type": "stream",
          "name": "stderr",
          "text": [
            "\n",
            "Processing Videos in tricep Pushdown:  10%|█         | 5/50 [00:21<03:11,  4.26s/it]\u001b[A"
          ]
        },
        {
          "output_type": "stream",
          "name": "stdout",
          "text": [
            "✅ Saved keypoints for tricep pushdown_16.mp4 to CSV\n",
            "\n",
            "🎥 Processing Video: tricep pushdown_17.mp4\n"
          ]
        },
        {
          "output_type": "stream",
          "name": "stderr",
          "text": [
            "\n",
            "Processing Videos in tricep Pushdown:  12%|█▏        | 6/50 [00:25<03:07,  4.26s/it]\u001b[A"
          ]
        },
        {
          "output_type": "stream",
          "name": "stdout",
          "text": [
            "✅ Saved keypoints for tricep pushdown_17.mp4 to CSV\n",
            "\n",
            "🎥 Processing Video: tricep pushdown_15.mp4\n"
          ]
        },
        {
          "output_type": "stream",
          "name": "stderr",
          "text": [
            "\n",
            "Processing Videos in tricep Pushdown:  14%|█▍        | 7/50 [00:30<03:03,  4.26s/it]\u001b[A"
          ]
        },
        {
          "output_type": "stream",
          "name": "stdout",
          "text": [
            "✅ Saved keypoints for tricep pushdown_15.mp4 to CSV\n",
            "\n",
            "🎥 Processing Video: tricep pushdown_13.mp4\n"
          ]
        },
        {
          "output_type": "stream",
          "name": "stderr",
          "text": [
            "\n",
            "Processing Videos in tricep Pushdown:  16%|█▌        | 8/50 [00:33<02:45,  3.94s/it]\u001b[A"
          ]
        },
        {
          "output_type": "stream",
          "name": "stdout",
          "text": [
            "✅ Saved keypoints for tricep pushdown_13.mp4 to CSV\n",
            "\n",
            "🎥 Processing Video: tricep pushdown_26.mp4\n"
          ]
        },
        {
          "output_type": "stream",
          "name": "stderr",
          "text": [
            "\n",
            "Processing Videos in tricep Pushdown:  18%|█▊        | 9/50 [00:36<02:37,  3.83s/it]\u001b[A"
          ]
        },
        {
          "output_type": "stream",
          "name": "stdout",
          "text": [
            "✅ Saved keypoints for tricep pushdown_26.mp4 to CSV\n",
            "\n",
            "🎥 Processing Video: tricep pushdown_1.mp4\n"
          ]
        },
        {
          "output_type": "stream",
          "name": "stderr",
          "text": [
            "\n",
            "Processing Videos in tricep Pushdown:  20%|██        | 10/50 [00:41<02:47,  4.19s/it]\u001b[A"
          ]
        },
        {
          "output_type": "stream",
          "name": "stdout",
          "text": [
            "✅ Saved keypoints for tricep pushdown_1.mp4 to CSV\n",
            "\n",
            "🎥 Processing Video: tricep pushdown_23.mp4\n"
          ]
        },
        {
          "output_type": "stream",
          "name": "stderr",
          "text": [
            "\n",
            "Processing Videos in tricep Pushdown:  22%|██▏       | 11/50 [00:45<02:37,  4.03s/it]\u001b[A"
          ]
        },
        {
          "output_type": "stream",
          "name": "stdout",
          "text": [
            "✅ Saved keypoints for tricep pushdown_23.mp4 to CSV\n",
            "\n",
            "🎥 Processing Video: tricep pushdown_36.mp4\n"
          ]
        },
        {
          "output_type": "stream",
          "name": "stderr",
          "text": [
            "\n",
            "Processing Videos in tricep Pushdown:  24%|██▍       | 12/50 [00:48<02:20,  3.68s/it]\u001b[A"
          ]
        },
        {
          "output_type": "stream",
          "name": "stdout",
          "text": [
            "✅ Saved keypoints for tricep pushdown_36.mp4 to CSV\n",
            "\n",
            "🎥 Processing Video: tricep pushdown_27.mp4\n"
          ]
        },
        {
          "output_type": "stream",
          "name": "stderr",
          "text": [
            "\n",
            "Processing Videos in tricep Pushdown:  26%|██▌       | 13/50 [00:52<02:19,  3.76s/it]\u001b[A"
          ]
        },
        {
          "output_type": "stream",
          "name": "stdout",
          "text": [
            "✅ Saved keypoints for tricep pushdown_27.mp4 to CSV\n",
            "\n",
            "🎥 Processing Video: tricep pushdown_28.mp4\n"
          ]
        },
        {
          "output_type": "stream",
          "name": "stderr",
          "text": [
            "\n",
            "Processing Videos in tricep Pushdown:  28%|██▊       | 14/50 [00:58<02:43,  4.53s/it]\u001b[A"
          ]
        },
        {
          "output_type": "stream",
          "name": "stdout",
          "text": [
            "✅ Saved keypoints for tricep pushdown_28.mp4 to CSV\n",
            "\n",
            "🎥 Processing Video: tricep pushdown_12.mp4\n"
          ]
        },
        {
          "output_type": "stream",
          "name": "stderr",
          "text": [
            "\n",
            "Processing Videos in tricep Pushdown:  30%|███       | 15/50 [01:03<02:39,  4.57s/it]\u001b[A"
          ]
        },
        {
          "output_type": "stream",
          "name": "stdout",
          "text": [
            "✅ Saved keypoints for tricep pushdown_12.mp4 to CSV\n",
            "\n",
            "🎥 Processing Video: tricep pushdown_14.mp4\n"
          ]
        },
        {
          "output_type": "stream",
          "name": "stderr",
          "text": [
            "\n",
            "Processing Videos in tricep Pushdown:  32%|███▏      | 16/50 [01:06<02:16,  4.03s/it]\u001b[A"
          ]
        },
        {
          "output_type": "stream",
          "name": "stdout",
          "text": [
            "✅ Saved keypoints for tricep pushdown_14.mp4 to CSV\n",
            "\n",
            "🎥 Processing Video: tricep pushdown_31.mp4\n"
          ]
        },
        {
          "output_type": "stream",
          "name": "stderr",
          "text": [
            "\n",
            "Processing Videos in tricep Pushdown:  34%|███▍      | 17/50 [01:11<02:24,  4.37s/it]\u001b[A"
          ]
        },
        {
          "output_type": "stream",
          "name": "stdout",
          "text": [
            "✅ Saved keypoints for tricep pushdown_31.mp4 to CSV\n",
            "\n",
            "🎥 Processing Video: tricep pushdown_39.mp4\n"
          ]
        },
        {
          "output_type": "stream",
          "name": "stderr",
          "text": [
            "\n",
            "Processing Videos in tricep Pushdown:  36%|███▌      | 18/50 [01:20<03:02,  5.70s/it]\u001b[A"
          ]
        },
        {
          "output_type": "stream",
          "name": "stdout",
          "text": [
            "✅ Saved keypoints for tricep pushdown_39.mp4 to CSV\n",
            "\n",
            "🎥 Processing Video: tricep pushdown_18.mp4\n"
          ]
        },
        {
          "output_type": "stream",
          "name": "stderr",
          "text": [
            "\n",
            "Processing Videos in tricep Pushdown:  38%|███▊      | 19/50 [01:25<02:57,  5.73s/it]\u001b[A"
          ]
        },
        {
          "output_type": "stream",
          "name": "stdout",
          "text": [
            "✅ Saved keypoints for tricep pushdown_18.mp4 to CSV\n",
            "\n",
            "🎥 Processing Video: tricep pushdown_29.mp4\n"
          ]
        },
        {
          "output_type": "stream",
          "name": "stderr",
          "text": [
            "\n",
            "Processing Videos in tricep Pushdown:  40%|████      | 20/50 [01:30<02:39,  5.32s/it]\u001b[A"
          ]
        },
        {
          "output_type": "stream",
          "name": "stdout",
          "text": [
            "✅ Saved keypoints for tricep pushdown_29.mp4 to CSV\n",
            "\n",
            "🎥 Processing Video: tricep pushdown_30.mp4\n"
          ]
        },
        {
          "output_type": "stream",
          "name": "stderr",
          "text": [
            "\n",
            "Processing Videos in tricep Pushdown:  42%|████▏     | 21/50 [01:36<02:42,  5.61s/it]\u001b[A"
          ]
        },
        {
          "output_type": "stream",
          "name": "stdout",
          "text": [
            "✅ Saved keypoints for tricep pushdown_30.mp4 to CSV\n",
            "\n",
            "🎥 Processing Video: tricep pushdown_37.mp4\n"
          ]
        },
        {
          "output_type": "stream",
          "name": "stderr",
          "text": [
            "\n",
            "Processing Videos in tricep Pushdown:  44%|████▍     | 22/50 [01:40<02:19,  4.99s/it]\u001b[A"
          ]
        },
        {
          "output_type": "stream",
          "name": "stdout",
          "text": [
            "✅ Saved keypoints for tricep pushdown_37.mp4 to CSV\n",
            "\n",
            "🎥 Processing Video: tricep pushdown_19.mp4\n"
          ]
        },
        {
          "output_type": "stream",
          "name": "stderr",
          "text": [
            "\n",
            "Processing Videos in tricep Pushdown:  46%|████▌     | 23/50 [01:44<02:14,  4.96s/it]\u001b[A"
          ]
        },
        {
          "output_type": "stream",
          "name": "stdout",
          "text": [
            "✅ Saved keypoints for tricep pushdown_19.mp4 to CSV\n",
            "\n",
            "🎥 Processing Video: tricep pushdown_35.mp4\n"
          ]
        },
        {
          "output_type": "stream",
          "name": "stderr",
          "text": [
            "\n",
            "Processing Videos in tricep Pushdown:  48%|████▊     | 24/50 [01:48<01:55,  4.43s/it]\u001b[A"
          ]
        },
        {
          "output_type": "stream",
          "name": "stdout",
          "text": [
            "✅ Saved keypoints for tricep pushdown_35.mp4 to CSV\n",
            "\n",
            "🎥 Processing Video: tricep pushdown_21.mp4\n"
          ]
        },
        {
          "output_type": "stream",
          "name": "stderr",
          "text": [
            "\n",
            "Processing Videos in tricep Pushdown:  50%|█████     | 25/50 [01:51<01:39,  3.97s/it]\u001b[A"
          ]
        },
        {
          "output_type": "stream",
          "name": "stdout",
          "text": [
            "✅ Saved keypoints for tricep pushdown_21.mp4 to CSV\n",
            "\n",
            "🎥 Processing Video: tricep pushdown_10.mp4\n"
          ]
        },
        {
          "output_type": "stream",
          "name": "stderr",
          "text": [
            "\n",
            "Processing Videos in tricep Pushdown:  52%|█████▏    | 26/50 [01:56<01:45,  4.41s/it]\u001b[A"
          ]
        },
        {
          "output_type": "stream",
          "name": "stdout",
          "text": [
            "✅ Saved keypoints for tricep pushdown_10.mp4 to CSV\n",
            "\n",
            "🎥 Processing Video: tricep pushdown_3.mp4\n"
          ]
        },
        {
          "output_type": "stream",
          "name": "stderr",
          "text": [
            "\n",
            "Processing Videos in tricep Pushdown:  54%|█████▍    | 27/50 [01:59<01:34,  4.09s/it]\u001b[A"
          ]
        },
        {
          "output_type": "stream",
          "name": "stdout",
          "text": [
            "✅ Saved keypoints for tricep pushdown_3.mp4 to CSV\n",
            "\n",
            "🎥 Processing Video: tricep pushdown_38.mp4\n"
          ]
        },
        {
          "output_type": "stream",
          "name": "stderr",
          "text": [
            "\n",
            "Processing Videos in tricep Pushdown:  56%|█████▌    | 28/50 [02:04<01:36,  4.39s/it]\u001b[A"
          ]
        },
        {
          "output_type": "stream",
          "name": "stdout",
          "text": [
            "✅ Saved keypoints for tricep pushdown_38.mp4 to CSV\n",
            "\n",
            "🎥 Processing Video: tricep pushdown_32.mp4\n"
          ]
        },
        {
          "output_type": "stream",
          "name": "stderr",
          "text": [
            "\n",
            "Processing Videos in tricep Pushdown:  58%|█████▊    | 29/50 [02:11<01:46,  5.09s/it]\u001b[A"
          ]
        },
        {
          "output_type": "stream",
          "name": "stdout",
          "text": [
            "✅ Saved keypoints for tricep pushdown_32.mp4 to CSV\n",
            "\n",
            "🎥 Processing Video: tricep pushdown_24.mp4\n"
          ]
        },
        {
          "output_type": "stream",
          "name": "stderr",
          "text": [
            "\n",
            "Processing Videos in tricep Pushdown:  60%|██████    | 30/50 [02:16<01:38,  4.94s/it]\u001b[A"
          ]
        },
        {
          "output_type": "stream",
          "name": "stdout",
          "text": [
            "✅ Saved keypoints for tricep pushdown_24.mp4 to CSV\n",
            "\n",
            "🎥 Processing Video: tricep pushdown_11.mp4\n"
          ]
        },
        {
          "output_type": "stream",
          "name": "stderr",
          "text": [
            "\n",
            "Processing Videos in tricep Pushdown:  62%|██████▏   | 31/50 [02:22<01:38,  5.20s/it]\u001b[A"
          ]
        },
        {
          "output_type": "stream",
          "name": "stdout",
          "text": [
            "✅ Saved keypoints for tricep pushdown_11.mp4 to CSV\n",
            "\n",
            "🎥 Processing Video: tricep pushdown_22.mp4\n"
          ]
        },
        {
          "output_type": "stream",
          "name": "stderr",
          "text": [
            "\n",
            "Processing Videos in tricep Pushdown:  64%|██████▍   | 32/50 [02:25<01:23,  4.65s/it]\u001b[A"
          ]
        },
        {
          "output_type": "stream",
          "name": "stdout",
          "text": [
            "✅ Saved keypoints for tricep pushdown_22.mp4 to CSV\n",
            "\n",
            "🎥 Processing Video: tricep pushdown_34.mp4\n"
          ]
        },
        {
          "output_type": "stream",
          "name": "stderr",
          "text": [
            "\n",
            "Processing Videos in tricep Pushdown:  66%|██████▌   | 33/50 [02:28<01:11,  4.20s/it]\u001b[A"
          ]
        },
        {
          "output_type": "stream",
          "name": "stdout",
          "text": [
            "✅ Saved keypoints for tricep pushdown_34.mp4 to CSV\n",
            "\n",
            "🎥 Processing Video: tricep pushdown_40.mp4\n"
          ]
        },
        {
          "output_type": "stream",
          "name": "stderr",
          "text": [
            "\n",
            "Processing Videos in tricep Pushdown:  68%|██████▊   | 34/50 [02:46<02:15,  8.45s/it]\u001b[A"
          ]
        },
        {
          "output_type": "stream",
          "name": "stdout",
          "text": [
            "✅ Saved keypoints for tricep pushdown_40.mp4 to CSV\n",
            "\n",
            "🎥 Processing Video: tricep pushdown_45.mp4\n"
          ]
        },
        {
          "output_type": "stream",
          "name": "stderr",
          "text": [
            "\n",
            "Processing Videos in tricep Pushdown:  70%|███████   | 35/50 [02:55<02:08,  8.59s/it]\u001b[A"
          ]
        },
        {
          "output_type": "stream",
          "name": "stdout",
          "text": [
            "✅ Saved keypoints for tricep pushdown_45.mp4 to CSV\n",
            "\n",
            "🎥 Processing Video: tricep pushdown_44.mp4\n"
          ]
        },
        {
          "output_type": "stream",
          "name": "stderr",
          "text": [
            "\n",
            "Processing Videos in tricep Pushdown:  72%|███████▏  | 36/50 [03:05<02:05,  8.94s/it]\u001b[A"
          ]
        },
        {
          "output_type": "stream",
          "name": "stdout",
          "text": [
            "✅ Saved keypoints for tricep pushdown_44.mp4 to CSV\n",
            "\n",
            "🎥 Processing Video: tricep pushdown_42.mp4\n"
          ]
        },
        {
          "output_type": "stream",
          "name": "stderr",
          "text": [
            "\n",
            "Processing Videos in tricep Pushdown:  74%|███████▍  | 37/50 [03:26<02:41, 12.45s/it]\u001b[A"
          ]
        },
        {
          "output_type": "stream",
          "name": "stdout",
          "text": [
            "✅ Saved keypoints for tricep pushdown_42.mp4 to CSV\n",
            "\n",
            "🎥 Processing Video: tricep pushdown_9.mp4\n"
          ]
        },
        {
          "output_type": "stream",
          "name": "stderr",
          "text": [
            "\n",
            "Processing Videos in tricep Pushdown:  76%|███████▌  | 38/50 [03:28<01:51,  9.27s/it]\u001b[A"
          ]
        },
        {
          "output_type": "stream",
          "name": "stdout",
          "text": [
            "✅ Saved keypoints for tricep pushdown_9.mp4 to CSV\n",
            "\n",
            "🎥 Processing Video: tricep pushdown_50.mp4\n"
          ]
        },
        {
          "output_type": "stream",
          "name": "stderr",
          "text": [
            "\n",
            "Processing Videos in tricep Pushdown:  78%|███████▊  | 39/50 [03:37<01:43,  9.43s/it]\u001b[A"
          ]
        },
        {
          "output_type": "stream",
          "name": "stdout",
          "text": [
            "✅ Saved keypoints for tricep pushdown_50.mp4 to CSV\n",
            "\n",
            "🎥 Processing Video: tricep pushdown_43.mp4\n"
          ]
        },
        {
          "output_type": "stream",
          "name": "stderr",
          "text": [
            "\n",
            "Processing Videos in tricep Pushdown:  80%|████████  | 40/50 [03:47<01:34,  9.44s/it]\u001b[A"
          ]
        },
        {
          "output_type": "stream",
          "name": "stdout",
          "text": [
            "✅ Saved keypoints for tricep pushdown_43.mp4 to CSV\n",
            "\n",
            "🎥 Processing Video: tricep pushdown_49.mp4\n"
          ]
        },
        {
          "output_type": "stream",
          "name": "stderr",
          "text": [
            "\n",
            "Processing Videos in tricep Pushdown:  82%|████████▏ | 41/50 [04:07<01:53, 12.65s/it]\u001b[A"
          ]
        },
        {
          "output_type": "stream",
          "name": "stdout",
          "text": [
            "✅ Saved keypoints for tricep pushdown_49.mp4 to CSV\n",
            "\n",
            "🎥 Processing Video: tricep pushdown_6.mp4\n"
          ]
        },
        {
          "output_type": "stream",
          "name": "stderr",
          "text": [
            "\n",
            "Processing Videos in tricep Pushdown:  84%|████████▍ | 42/50 [04:11<01:19,  9.93s/it]\u001b[A"
          ]
        },
        {
          "output_type": "stream",
          "name": "stdout",
          "text": [
            "✅ Saved keypoints for tricep pushdown_6.mp4 to CSV\n",
            "\n",
            "🎥 Processing Video: tricep pushdown_5.mp4\n"
          ]
        },
        {
          "output_type": "stream",
          "name": "stderr",
          "text": [
            "\n",
            "Processing Videos in tricep Pushdown:  86%|████████▌ | 43/50 [04:14<00:56,  8.01s/it]\u001b[A"
          ]
        },
        {
          "output_type": "stream",
          "name": "stdout",
          "text": [
            "✅ Saved keypoints for tricep pushdown_5.mp4 to CSV\n",
            "\n",
            "🎥 Processing Video: tricep pushdown_7.mp4\n"
          ]
        },
        {
          "output_type": "stream",
          "name": "stderr",
          "text": [
            "\n",
            "Processing Videos in tricep Pushdown:  88%|████████▊ | 44/50 [04:19<00:43,  7.18s/it]\u001b[A"
          ]
        },
        {
          "output_type": "stream",
          "name": "stdout",
          "text": [
            "✅ Saved keypoints for tricep pushdown_7.mp4 to CSV\n",
            "\n",
            "🎥 Processing Video: tricep pushdown_47.mp4\n"
          ]
        },
        {
          "output_type": "stream",
          "name": "stderr",
          "text": [
            "\n",
            "Processing Videos in tricep Pushdown:  90%|█████████ | 45/50 [04:24<00:31,  6.33s/it]\u001b[A"
          ]
        },
        {
          "output_type": "stream",
          "name": "stdout",
          "text": [
            "✅ Saved keypoints for tricep pushdown_47.mp4 to CSV\n",
            "\n",
            "🎥 Processing Video: tricep pushdown_8.mp4\n"
          ]
        },
        {
          "output_type": "stream",
          "name": "stderr",
          "text": [
            "\n",
            "Processing Videos in tricep Pushdown:  92%|█████████▏| 46/50 [04:29<00:24,  6.06s/it]\u001b[A"
          ]
        },
        {
          "output_type": "stream",
          "name": "stdout",
          "text": [
            "✅ Saved keypoints for tricep pushdown_8.mp4 to CSV\n",
            "\n",
            "🎥 Processing Video: tricep pushdown_4.mp4\n"
          ]
        },
        {
          "output_type": "stream",
          "name": "stderr",
          "text": [
            "\n",
            "Processing Videos in tricep Pushdown:  94%|█████████▍| 47/50 [04:33<00:15,  5.28s/it]\u001b[A"
          ]
        },
        {
          "output_type": "stream",
          "name": "stdout",
          "text": [
            "✅ Saved keypoints for tricep pushdown_4.mp4 to CSV\n",
            "\n",
            "🎥 Processing Video: tricep pushdown_46.mp4\n"
          ]
        },
        {
          "output_type": "stream",
          "name": "stderr",
          "text": [
            "\n",
            "Processing Videos in tricep Pushdown:  96%|█████████▌| 48/50 [04:43<00:13,  6.87s/it]\u001b[A"
          ]
        },
        {
          "output_type": "stream",
          "name": "stdout",
          "text": [
            "✅ Saved keypoints for tricep pushdown_46.mp4 to CSV\n",
            "\n",
            "🎥 Processing Video: tricep pushdown_41.mp4\n"
          ]
        },
        {
          "output_type": "stream",
          "name": "stderr",
          "text": [
            "\n",
            "Processing Videos in tricep Pushdown:  98%|█████████▊| 49/50 [04:54<00:08,  8.17s/it]\u001b[A"
          ]
        },
        {
          "output_type": "stream",
          "name": "stdout",
          "text": [
            "✅ Saved keypoints for tricep pushdown_41.mp4 to CSV\n",
            "\n",
            "🎥 Processing Video: tricep pushdown_48.mp4\n"
          ]
        },
        {
          "output_type": "stream",
          "name": "stderr",
          "text": [
            "\n",
            "Processing Videos in tricep Pushdown: 100%|██████████| 50/50 [05:07<00:00,  6.14s/it]\n",
            "Processing Exercise Folders:   5%|▍         | 1/22 [05:07<1:47:30, 307.19s/it]"
          ]
        },
        {
          "output_type": "stream",
          "name": "stdout",
          "text": [
            "✅ Saved keypoints for tricep pushdown_48.mp4 to CSV\n",
            "\n",
            "📂 Processing Exercise: shoulder press\n",
            "\n"
          ]
        },
        {
          "output_type": "stream",
          "name": "stderr",
          "text": [
            "\n",
            "Processing Videos in shoulder press:   0%|          | 0/13 [00:00<?, ?it/s]\u001b[A"
          ]
        },
        {
          "output_type": "stream",
          "name": "stdout",
          "text": [
            "🎥 Processing Video: shoulder press_10.mp4\n"
          ]
        },
        {
          "output_type": "stream",
          "name": "stderr",
          "text": [
            "\n",
            "Processing Videos in shoulder press:   8%|▊         | 1/13 [00:15<03:08, 15.72s/it]\u001b[A"
          ]
        },
        {
          "output_type": "stream",
          "name": "stdout",
          "text": [
            "✅ Saved keypoints for shoulder press_10.mp4 to CSV\n",
            "\n",
            "🎥 Processing Video: shoulder press_11.mp4\n"
          ]
        },
        {
          "output_type": "stream",
          "name": "stderr",
          "text": [
            "\n",
            "Processing Videos in shoulder press:  15%|█▌        | 2/13 [00:25<02:15, 12.29s/it]\u001b[A"
          ]
        },
        {
          "output_type": "stream",
          "name": "stdout",
          "text": [
            "✅ Saved keypoints for shoulder press_11.mp4 to CSV\n",
            "\n",
            "🎥 Processing Video: shoulder press_13.mp4\n"
          ]
        },
        {
          "output_type": "stream",
          "name": "stderr",
          "text": [
            "\n",
            "Processing Videos in shoulder press:  23%|██▎       | 3/13 [00:33<01:41, 10.20s/it]\u001b[A"
          ]
        },
        {
          "output_type": "stream",
          "name": "stdout",
          "text": [
            "✅ Saved keypoints for shoulder press_13.mp4 to CSV\n",
            "\n",
            "🎥 Processing Video: shoulder press_17.mp4\n"
          ]
        },
        {
          "output_type": "stream",
          "name": "stderr",
          "text": [
            "\n",
            "Processing Videos in shoulder press:  31%|███       | 4/13 [00:45<01:38, 10.91s/it]\u001b[A"
          ]
        },
        {
          "output_type": "stream",
          "name": "stdout",
          "text": [
            "✅ Saved keypoints for shoulder press_17.mp4 to CSV\n",
            "\n",
            "🎥 Processing Video: shoulder press_14.mp4\n"
          ]
        },
        {
          "output_type": "stream",
          "name": "stderr",
          "text": [
            "\n",
            "Processing Videos in shoulder press:  38%|███▊      | 5/13 [00:54<01:21, 10.16s/it]\u001b[A"
          ]
        },
        {
          "output_type": "stream",
          "name": "stdout",
          "text": [
            "✅ Saved keypoints for shoulder press_14.mp4 to CSV\n",
            "\n",
            "🎥 Processing Video: shoulder press_12.mp4\n"
          ]
        },
        {
          "output_type": "stream",
          "name": "stderr",
          "text": [
            "\n",
            "Processing Videos in shoulder press:  46%|████▌     | 6/13 [01:05<01:12, 10.42s/it]\u001b[A"
          ]
        },
        {
          "output_type": "stream",
          "name": "stdout",
          "text": [
            "✅ Saved keypoints for shoulder press_12.mp4 to CSV\n",
            "\n",
            "🎥 Processing Video: shoulder press_15.mp4\n"
          ]
        },
        {
          "output_type": "stream",
          "name": "stderr",
          "text": [
            "\n",
            "Processing Videos in shoulder press:  54%|█████▍    | 7/13 [01:16<01:05, 10.90s/it]\u001b[A"
          ]
        },
        {
          "output_type": "stream",
          "name": "stdout",
          "text": [
            "✅ Saved keypoints for shoulder press_15.mp4 to CSV\n",
            "\n",
            "🎥 Processing Video: shoulder press_16.mp4\n"
          ]
        },
        {
          "output_type": "stream",
          "name": "stderr",
          "text": [
            "\n",
            "Processing Videos in shoulder press:  62%|██████▏   | 8/13 [01:30<00:58, 11.78s/it]\u001b[A"
          ]
        },
        {
          "output_type": "stream",
          "name": "stdout",
          "text": [
            "✅ Saved keypoints for shoulder press_16.mp4 to CSV\n",
            "\n",
            "🎥 Processing Video: shoulder press_5.mp4\n"
          ]
        },
        {
          "output_type": "stream",
          "name": "stderr",
          "text": [
            "\n",
            "Processing Videos in shoulder press:  69%|██████▉   | 9/13 [01:44<00:49, 12.41s/it]\u001b[A"
          ]
        },
        {
          "output_type": "stream",
          "name": "stdout",
          "text": [
            "✅ Saved keypoints for shoulder press_5.mp4 to CSV\n",
            "\n",
            "🎥 Processing Video: shoulder press_7.mp4\n"
          ]
        },
        {
          "output_type": "stream",
          "name": "stderr",
          "text": [
            "\n",
            "Processing Videos in shoulder press:  77%|███████▋  | 10/13 [01:58<00:39, 13.03s/it]\u001b[A"
          ]
        },
        {
          "output_type": "stream",
          "name": "stdout",
          "text": [
            "✅ Saved keypoints for shoulder press_7.mp4 to CSV\n",
            "\n",
            "🎥 Processing Video: shoulder press_8.mp4\n"
          ]
        },
        {
          "output_type": "stream",
          "name": "stderr",
          "text": [
            "\n",
            "Processing Videos in shoulder press:  85%|████████▍ | 11/13 [02:05<00:22, 11.22s/it]\u001b[A"
          ]
        },
        {
          "output_type": "stream",
          "name": "stdout",
          "text": [
            "✅ Saved keypoints for shoulder press_8.mp4 to CSV\n",
            "\n",
            "🎥 Processing Video: shoulder press_9.mp4\n"
          ]
        },
        {
          "output_type": "stream",
          "name": "stderr",
          "text": [
            "\n",
            "Processing Videos in shoulder press:  92%|█████████▏| 12/13 [02:20<00:12, 12.11s/it]\u001b[A"
          ]
        },
        {
          "output_type": "stream",
          "name": "stdout",
          "text": [
            "✅ Saved keypoints for shoulder press_9.mp4 to CSV\n",
            "\n",
            "🎥 Processing Video: shoulder press_6.mp4\n"
          ]
        },
        {
          "output_type": "stream",
          "name": "stderr",
          "text": [
            "\n",
            "Processing Videos in shoulder press: 100%|██████████| 13/13 [02:26<00:00, 11.29s/it]\n",
            "Processing Exercise Folders:   9%|▉         | 2/22 [07:34<1:10:57, 212.85s/it]"
          ]
        },
        {
          "output_type": "stream",
          "name": "stdout",
          "text": [
            "✅ Saved keypoints for shoulder press_6.mp4 to CSV\n",
            "\n",
            "📂 Processing Exercise: plank\n",
            "\n"
          ]
        },
        {
          "output_type": "stream",
          "name": "stderr",
          "text": [
            "\n",
            "Processing Videos in plank:   0%|          | 0/6 [00:00<?, ?it/s]\u001b[A"
          ]
        },
        {
          "output_type": "stream",
          "name": "stdout",
          "text": [
            "🎥 Processing Video: plank_4.mp4\n"
          ]
        },
        {
          "output_type": "stream",
          "name": "stderr",
          "text": [
            "\n",
            "Processing Videos in plank:  17%|█▋        | 1/6 [00:06<00:33,  6.66s/it]\u001b[A"
          ]
        },
        {
          "output_type": "stream",
          "name": "stdout",
          "text": [
            "✅ Saved keypoints for plank_4.mp4 to CSV\n",
            "\n",
            "🎥 Processing Video: plank_3.mp4\n"
          ]
        },
        {
          "output_type": "stream",
          "name": "stderr",
          "text": [
            "\n",
            "Processing Videos in plank:  33%|███▎      | 2/6 [00:10<00:18,  4.71s/it]\u001b[A"
          ]
        },
        {
          "output_type": "stream",
          "name": "stdout",
          "text": [
            "✅ Saved keypoints for plank_3.mp4 to CSV\n",
            "\n",
            "🎥 Processing Video: plank_2.mp4\n"
          ]
        },
        {
          "output_type": "stream",
          "name": "stderr",
          "text": [
            "\n",
            "Processing Videos in plank:  50%|█████     | 3/6 [00:26<00:30, 10.08s/it]\u001b[A"
          ]
        },
        {
          "output_type": "stream",
          "name": "stdout",
          "text": [
            "✅ Saved keypoints for plank_2.mp4 to CSV\n",
            "\n",
            "🎥 Processing Video: plank_7.mp4\n"
          ]
        },
        {
          "output_type": "stream",
          "name": "stderr",
          "text": [
            "\n",
            "Processing Videos in plank:  67%|██████▋   | 4/6 [04:47<03:38, 109.29s/it]\u001b[A"
          ]
        },
        {
          "output_type": "stream",
          "name": "stdout",
          "text": [
            "✅ Saved keypoints for plank_7.mp4 to CSV\n",
            "\n",
            "🎥 Processing Video: plank_6.mp4\n"
          ]
        },
        {
          "output_type": "stream",
          "name": "stderr",
          "text": [
            "\n",
            "Processing Videos in plank:  83%|████████▎ | 5/6 [05:16<01:20, 80.39s/it] \u001b[A"
          ]
        },
        {
          "output_type": "stream",
          "name": "stdout",
          "text": [
            "✅ Saved keypoints for plank_6.mp4 to CSV\n",
            "\n",
            "🎥 Processing Video: plank_5.mp4\n"
          ]
        },
        {
          "output_type": "stream",
          "name": "stderr",
          "text": [
            "\n",
            "Processing Videos in plank: 100%|██████████| 6/6 [05:47<00:00, 57.98s/it]\n",
            "Processing Exercise Folders:  14%|█▎        | 3/22 [13:21<1:26:55, 274.52s/it]"
          ]
        },
        {
          "output_type": "stream",
          "name": "stdout",
          "text": [
            "✅ Saved keypoints for plank_5.mp4 to CSV\n",
            "\n",
            "📂 Processing Exercise: squat\n",
            "\n"
          ]
        },
        {
          "output_type": "stream",
          "name": "stderr",
          "text": [
            "\n",
            "Processing Videos in squat:   0%|          | 0/23 [00:00<?, ?it/s]\u001b[A"
          ]
        },
        {
          "output_type": "stream",
          "name": "stdout",
          "text": [
            "🎥 Processing Video: squat_12.mp4\n"
          ]
        },
        {
          "output_type": "stream",
          "name": "stderr",
          "text": [
            "\n",
            "Processing Videos in squat:   4%|▍         | 1/23 [00:06<02:31,  6.89s/it]\u001b[A"
          ]
        },
        {
          "output_type": "stream",
          "name": "stdout",
          "text": [
            "✅ Saved keypoints for squat_12.mp4 to CSV\n",
            "\n",
            "🎥 Processing Video: squat_14.mp4\n"
          ]
        },
        {
          "output_type": "stream",
          "name": "stderr",
          "text": [
            "\n",
            "Processing Videos in squat:   9%|▊         | 2/23 [00:11<01:51,  5.33s/it]\u001b[A"
          ]
        },
        {
          "output_type": "stream",
          "name": "stdout",
          "text": [
            "✅ Saved keypoints for squat_14.mp4 to CSV\n",
            "\n",
            "🎥 Processing Video: squat_11.mp4\n"
          ]
        },
        {
          "output_type": "stream",
          "name": "stderr",
          "text": [
            "\n",
            "Processing Videos in squat:  13%|█▎        | 3/23 [00:18<02:06,  6.34s/it]\u001b[A"
          ]
        },
        {
          "output_type": "stream",
          "name": "stdout",
          "text": [
            "✅ Saved keypoints for squat_11.mp4 to CSV\n",
            "\n",
            "🎥 Processing Video: squat_13.mp4\n"
          ]
        },
        {
          "output_type": "stream",
          "name": "stderr",
          "text": [
            "\n",
            "Processing Videos in squat:  17%|█▋        | 4/23 [00:24<01:55,  6.10s/it]\u001b[A"
          ]
        },
        {
          "output_type": "stream",
          "name": "stdout",
          "text": [
            "✅ Saved keypoints for squat_13.mp4 to CSV\n",
            "\n",
            "🎥 Processing Video: squat_10.mp4\n"
          ]
        },
        {
          "output_type": "stream",
          "name": "stderr",
          "text": [
            "\n",
            "Processing Videos in squat:  22%|██▏       | 5/23 [00:32<02:05,  6.98s/it]\u001b[A"
          ]
        },
        {
          "output_type": "stream",
          "name": "stdout",
          "text": [
            "✅ Saved keypoints for squat_10.mp4 to CSV\n",
            "\n",
            "🎥 Processing Video: squat_23.mp4\n"
          ]
        },
        {
          "output_type": "stream",
          "name": "stderr",
          "text": [
            "\n",
            "Processing Videos in squat:  26%|██▌       | 6/23 [00:52<03:13, 11.40s/it]\u001b[A"
          ]
        },
        {
          "output_type": "stream",
          "name": "stdout",
          "text": [
            "✅ Saved keypoints for squat_23.mp4 to CSV\n",
            "\n",
            "🎥 Processing Video: squat_19.mp4\n"
          ]
        },
        {
          "output_type": "stream",
          "name": "stderr",
          "text": [
            "\n",
            "Processing Videos in squat:  30%|███       | 7/23 [00:59<02:36,  9.77s/it]\u001b[A"
          ]
        },
        {
          "output_type": "stream",
          "name": "stdout",
          "text": [
            "✅ Saved keypoints for squat_19.mp4 to CSV\n",
            "\n",
            "🎥 Processing Video: squat_17.mp4\n"
          ]
        },
        {
          "output_type": "stream",
          "name": "stderr",
          "text": [
            "\n",
            "Processing Videos in squat:  35%|███▍      | 8/23 [01:04<02:06,  8.44s/it]\u001b[A"
          ]
        },
        {
          "output_type": "stream",
          "name": "stdout",
          "text": [
            "✅ Saved keypoints for squat_17.mp4 to CSV\n",
            "\n",
            "🎥 Processing Video: squat_24.mp4\n"
          ]
        },
        {
          "output_type": "stream",
          "name": "stderr",
          "text": [
            "\n",
            "Processing Videos in squat:  39%|███▉      | 9/23 [01:13<01:57,  8.40s/it]\u001b[A"
          ]
        },
        {
          "output_type": "stream",
          "name": "stdout",
          "text": [
            "✅ Saved keypoints for squat_24.mp4 to CSV\n",
            "\n",
            "🎥 Processing Video: squat_18.mp4\n"
          ]
        },
        {
          "output_type": "stream",
          "name": "stderr",
          "text": [
            "\n",
            "Processing Videos in squat:  43%|████▎     | 10/23 [01:18<01:34,  7.29s/it]\u001b[A"
          ]
        },
        {
          "output_type": "stream",
          "name": "stdout",
          "text": [
            "✅ Saved keypoints for squat_18.mp4 to CSV\n",
            "\n",
            "🎥 Processing Video: squat_15.mp4\n"
          ]
        },
        {
          "output_type": "stream",
          "name": "stderr",
          "text": [
            "\n",
            "Processing Videos in squat:  48%|████▊     | 11/23 [01:30<01:47,  8.95s/it]\u001b[A"
          ]
        },
        {
          "output_type": "stream",
          "name": "stdout",
          "text": [
            "✅ Saved keypoints for squat_15.mp4 to CSV\n",
            "\n",
            "🎥 Processing Video: squat_16.mp4\n"
          ]
        },
        {
          "output_type": "stream",
          "name": "stderr",
          "text": [
            "\n",
            "Processing Videos in squat:  52%|█████▏    | 12/23 [01:33<01:16,  6.94s/it]\u001b[A"
          ]
        },
        {
          "output_type": "stream",
          "name": "stdout",
          "text": [
            "✅ Saved keypoints for squat_16.mp4 to CSV\n",
            "\n",
            "🎥 Processing Video: squat_25.mp4\n"
          ]
        },
        {
          "output_type": "stream",
          "name": "stderr",
          "text": [
            "\n",
            "Processing Videos in squat:  57%|█████▋    | 13/23 [01:48<01:33,  9.36s/it]\u001b[A"
          ]
        },
        {
          "output_type": "stream",
          "name": "stdout",
          "text": [
            "✅ Saved keypoints for squat_25.mp4 to CSV\n",
            "\n",
            "🎥 Processing Video: squat_21.mp4\n"
          ]
        },
        {
          "output_type": "stream",
          "name": "stderr",
          "text": [
            "\n",
            "Processing Videos in squat:  61%|██████    | 14/23 [02:03<01:40, 11.12s/it]\u001b[A"
          ]
        },
        {
          "output_type": "stream",
          "name": "stdout",
          "text": [
            "✅ Saved keypoints for squat_21.mp4 to CSV\n",
            "\n",
            "🎥 Processing Video: squat_22.mp4\n"
          ]
        },
        {
          "output_type": "stream",
          "name": "stderr",
          "text": [
            "\n",
            "Processing Videos in squat:  65%|██████▌   | 15/23 [02:19<01:41, 12.73s/it]\u001b[A"
          ]
        },
        {
          "output_type": "stream",
          "name": "stdout",
          "text": [
            "✅ Saved keypoints for squat_22.mp4 to CSV\n",
            "\n",
            "🎥 Processing Video: squat_20.mp4\n"
          ]
        },
        {
          "output_type": "stream",
          "name": "stderr",
          "text": [
            "\n",
            "Processing Videos in squat:  70%|██████▉   | 16/23 [02:31<01:26, 12.31s/it]\u001b[A"
          ]
        },
        {
          "output_type": "stream",
          "name": "stdout",
          "text": [
            "✅ Saved keypoints for squat_20.mp4 to CSV\n",
            "\n",
            "🎥 Processing Video: squat_28.mp4\n"
          ]
        },
        {
          "output_type": "stream",
          "name": "stderr",
          "text": [
            "\n",
            "Processing Videos in squat:  74%|███████▍  | 17/23 [02:48<01:22, 13.77s/it]\u001b[A"
          ]
        },
        {
          "output_type": "stream",
          "name": "stdout",
          "text": [
            "✅ Saved keypoints for squat_28.mp4 to CSV\n",
            "\n",
            "🎥 Processing Video: squat_26.mp4\n"
          ]
        },
        {
          "output_type": "stream",
          "name": "stderr",
          "text": [
            "\n",
            "Processing Videos in squat:  78%|███████▊  | 18/23 [03:03<01:11, 14.38s/it]\u001b[A"
          ]
        },
        {
          "output_type": "stream",
          "name": "stdout",
          "text": [
            "✅ Saved keypoints for squat_26.mp4 to CSV\n",
            "\n",
            "🎥 Processing Video: squat_29.mp4\n"
          ]
        },
        {
          "output_type": "stream",
          "name": "stderr",
          "text": [
            "\n",
            "Processing Videos in squat:  83%|████████▎ | 19/23 [03:06<00:43, 10.89s/it]\u001b[A"
          ]
        },
        {
          "output_type": "stream",
          "name": "stdout",
          "text": [
            "✅ Saved keypoints for squat_29.mp4 to CSV\n",
            "\n",
            "🎥 Processing Video: squat_27.mp4\n"
          ]
        },
        {
          "output_type": "stream",
          "name": "stderr",
          "text": [
            "\n",
            "Processing Videos in squat:  87%|████████▋ | 20/23 [03:35<00:48, 16.28s/it]\u001b[A"
          ]
        },
        {
          "output_type": "stream",
          "name": "stdout",
          "text": [
            "✅ Saved keypoints for squat_27.mp4 to CSV\n",
            "\n",
            "🎥 Processing Video: squat_9.mp4\n"
          ]
        },
        {
          "output_type": "stream",
          "name": "stderr",
          "text": [
            "\n",
            "Processing Videos in squat:  91%|█████████▏| 21/23 [03:41<00:26, 13.13s/it]\u001b[A"
          ]
        },
        {
          "output_type": "stream",
          "name": "stdout",
          "text": [
            "✅ Saved keypoints for squat_9.mp4 to CSV\n",
            "\n",
            "🎥 Processing Video: squat_7.mp4\n"
          ]
        },
        {
          "output_type": "stream",
          "name": "stderr",
          "text": [
            "\n",
            "Processing Videos in squat:  96%|█████████▌| 22/23 [03:44<00:09,  9.98s/it]\u001b[A"
          ]
        },
        {
          "output_type": "stream",
          "name": "stdout",
          "text": [
            "✅ Saved keypoints for squat_7.mp4 to CSV\n",
            "\n",
            "🎥 Processing Video: squat_8.mp4\n"
          ]
        },
        {
          "output_type": "stream",
          "name": "stderr",
          "text": [
            "\n",
            "Processing Videos in squat: 100%|██████████| 23/23 [03:50<00:00, 10.01s/it]\n",
            "Processing Exercise Folders:  18%|█▊        | 4/22 [17:12<1:17:06, 257.03s/it]"
          ]
        },
        {
          "output_type": "stream",
          "name": "stdout",
          "text": [
            "✅ Saved keypoints for squat_8.mp4 to CSV\n",
            "\n",
            "📂 Processing Exercise: russian twist\n",
            "\n"
          ]
        },
        {
          "output_type": "stream",
          "name": "stderr",
          "text": [
            "\n",
            "Processing Videos in russian twist:   0%|          | 0/12 [00:00<?, ?it/s]\u001b[A"
          ]
        },
        {
          "output_type": "stream",
          "name": "stdout",
          "text": [
            "🎥 Processing Video: russian twist_11.mp4\n"
          ]
        },
        {
          "output_type": "stream",
          "name": "stderr",
          "text": [
            "\n",
            "Processing Videos in russian twist:   8%|▊         | 1/12 [00:08<01:37,  8.86s/it]\u001b[A"
          ]
        },
        {
          "output_type": "stream",
          "name": "stdout",
          "text": [
            "✅ Saved keypoints for russian twist_11.mp4 to CSV\n",
            "\n",
            "🎥 Processing Video: russian twist_3.mp4\n"
          ]
        },
        {
          "output_type": "stream",
          "name": "stderr",
          "text": [
            "\n",
            "Processing Videos in russian twist:  17%|█▋        | 2/12 [00:19<01:37,  9.71s/it]\u001b[A"
          ]
        },
        {
          "output_type": "stream",
          "name": "stdout",
          "text": [
            "✅ Saved keypoints for russian twist_3.mp4 to CSV\n",
            "\n",
            "🎥 Processing Video: russian twist_13.mp4\n"
          ]
        },
        {
          "output_type": "stream",
          "name": "stderr",
          "text": [
            "\n",
            "Processing Videos in russian twist:  25%|██▌       | 3/12 [00:27<01:22,  9.19s/it]\u001b[A"
          ]
        },
        {
          "output_type": "stream",
          "name": "stdout",
          "text": [
            "✅ Saved keypoints for russian twist_13.mp4 to CSV\n",
            "\n",
            "🎥 Processing Video: russian twist_10.mp4\n"
          ]
        },
        {
          "output_type": "stream",
          "name": "stderr",
          "text": [
            "\n",
            "Processing Videos in russian twist:  33%|███▎      | 4/12 [00:35<01:08,  8.52s/it]\u001b[A"
          ]
        },
        {
          "output_type": "stream",
          "name": "stdout",
          "text": [
            "✅ Saved keypoints for russian twist_10.mp4 to CSV\n",
            "\n",
            "🎥 Processing Video: russian twist_4.mp4\n"
          ]
        },
        {
          "output_type": "stream",
          "name": "stderr",
          "text": [
            "\n",
            "Processing Videos in russian twist:  42%|████▏     | 5/12 [01:00<01:41, 14.47s/it]\u001b[A"
          ]
        },
        {
          "output_type": "stream",
          "name": "stdout",
          "text": [
            "✅ Saved keypoints for russian twist_4.mp4 to CSV\n",
            "\n",
            "🎥 Processing Video: russian twist_12.mp4\n"
          ]
        },
        {
          "output_type": "stream",
          "name": "stderr",
          "text": [
            "\n",
            "Processing Videos in russian twist:  50%|█████     | 6/12 [01:06<01:10, 11.77s/it]\u001b[A"
          ]
        },
        {
          "output_type": "stream",
          "name": "stdout",
          "text": [
            "✅ Saved keypoints for russian twist_12.mp4 to CSV\n",
            "\n",
            "🎥 Processing Video: russian twist_2.mp4\n"
          ]
        },
        {
          "output_type": "stream",
          "name": "stderr",
          "text": [
            "\n",
            "Processing Videos in russian twist:  58%|█████▊    | 7/12 [01:16<00:56, 11.23s/it]\u001b[A"
          ]
        },
        {
          "output_type": "stream",
          "name": "stdout",
          "text": [
            "✅ Saved keypoints for russian twist_2.mp4 to CSV\n",
            "\n",
            "🎥 Processing Video: russian twist_5.mp4\n"
          ]
        },
        {
          "output_type": "stream",
          "name": "stderr",
          "text": [
            "\n",
            "Processing Videos in russian twist:  67%|██████▋   | 8/12 [02:18<01:48, 27.14s/it]\u001b[A"
          ]
        },
        {
          "output_type": "stream",
          "name": "stdout",
          "text": [
            "✅ Saved keypoints for russian twist_5.mp4 to CSV\n",
            "\n",
            "🎥 Processing Video: russian twist_8.mp4\n"
          ]
        },
        {
          "output_type": "stream",
          "name": "stderr",
          "text": [
            "\n",
            "Processing Videos in russian twist:  75%|███████▌  | 9/12 [02:32<01:09, 23.10s/it]\u001b[A"
          ]
        },
        {
          "output_type": "stream",
          "name": "stdout",
          "text": [
            "✅ Saved keypoints for russian twist_8.mp4 to CSV\n",
            "\n",
            "🎥 Processing Video: russian twist_7.mp4\n"
          ]
        },
        {
          "output_type": "stream",
          "name": "stderr",
          "text": [
            "\n",
            "Processing Videos in russian twist:  83%|████████▎ | 10/12 [02:43<00:38, 19.49s/it]\u001b[A"
          ]
        },
        {
          "output_type": "stream",
          "name": "stdout",
          "text": [
            "✅ Saved keypoints for russian twist_7.mp4 to CSV\n",
            "\n",
            "🎥 Processing Video: russian twist_6.mp4\n"
          ]
        },
        {
          "output_type": "stream",
          "name": "stderr",
          "text": [
            "\n",
            "Processing Videos in russian twist:  92%|█████████▏| 11/12 [03:08<00:20, 20.96s/it]\u001b[A"
          ]
        },
        {
          "output_type": "stream",
          "name": "stdout",
          "text": [
            "✅ Saved keypoints for russian twist_6.mp4 to CSV\n",
            "\n",
            "🎥 Processing Video: russian twist_9.mp4\n"
          ]
        },
        {
          "output_type": "stream",
          "name": "stderr",
          "text": [
            "\n",
            "Processing Videos in russian twist: 100%|██████████| 12/12 [03:19<00:00, 16.65s/it]\n",
            "Processing Exercise Folders:  23%|██▎       | 5/22 [20:31<1:06:58, 236.38s/it]"
          ]
        },
        {
          "output_type": "stream",
          "name": "stdout",
          "text": [
            "✅ Saved keypoints for russian twist_9.mp4 to CSV\n",
            "\n",
            "📂 Processing Exercise: pull Up\n",
            "\n"
          ]
        },
        {
          "output_type": "stream",
          "name": "stderr",
          "text": [
            "\n",
            "Processing Videos in pull Up:   0%|          | 0/26 [00:00<?, ?it/s]\u001b[A"
          ]
        },
        {
          "output_type": "stream",
          "name": "stdout",
          "text": [
            "🎥 Processing Video: pull up_10.mp4\n"
          ]
        },
        {
          "output_type": "stream",
          "name": "stderr",
          "text": [
            "\n",
            "Processing Videos in pull Up:   4%|▍         | 1/26 [00:11<04:40, 11.23s/it]\u001b[A"
          ]
        },
        {
          "output_type": "stream",
          "name": "stdout",
          "text": [
            "✅ Saved keypoints for pull up_10.mp4 to CSV\n",
            "\n",
            "🎥 Processing Video: pull up_1.mp4\n"
          ]
        },
        {
          "output_type": "stream",
          "name": "stderr",
          "text": [
            "\n",
            "Processing Videos in pull Up:   8%|▊         | 2/26 [00:39<08:35, 21.47s/it]\u001b[A"
          ]
        },
        {
          "output_type": "stream",
          "name": "stdout",
          "text": [
            "✅ Saved keypoints for pull up_1.mp4 to CSV\n",
            "\n",
            "🎥 Processing Video: pull up_11.mp4\n"
          ]
        },
        {
          "output_type": "stream",
          "name": "stderr",
          "text": [
            "\n",
            "Processing Videos in pull Up:  12%|█▏        | 3/26 [00:49<06:09, 16.07s/it]\u001b[A"
          ]
        },
        {
          "output_type": "stream",
          "name": "stdout",
          "text": [
            "✅ Saved keypoints for pull up_11.mp4 to CSV\n",
            "\n",
            "🎥 Processing Video: pull up_12.mp4\n"
          ]
        },
        {
          "output_type": "stream",
          "name": "stderr",
          "text": [
            "\n",
            "Processing Videos in pull Up:  15%|█▌        | 4/26 [00:57<04:47, 13.07s/it]\u001b[A"
          ]
        },
        {
          "output_type": "stream",
          "name": "stdout",
          "text": [
            "✅ Saved keypoints for pull up_12.mp4 to CSV\n",
            "\n",
            "🎥 Processing Video: pull up_18.mp4\n"
          ]
        },
        {
          "output_type": "stream",
          "name": "stderr",
          "text": [
            "\n",
            "Processing Videos in pull Up:  19%|█▉        | 5/26 [01:03<03:33, 10.19s/it]\u001b[A"
          ]
        },
        {
          "output_type": "stream",
          "name": "stdout",
          "text": [
            "✅ Saved keypoints for pull up_18.mp4 to CSV\n",
            "\n",
            "🎥 Processing Video: pull up_2.mp4\n"
          ]
        },
        {
          "output_type": "stream",
          "name": "stderr",
          "text": [
            "\n",
            "Processing Videos in pull Up:  23%|██▎       | 6/26 [01:26<04:51, 14.59s/it]\u001b[A"
          ]
        },
        {
          "output_type": "stream",
          "name": "stdout",
          "text": [
            "✅ Saved keypoints for pull up_2.mp4 to CSV\n",
            "\n",
            "🎥 Processing Video: pull up_13.mp4\n"
          ]
        },
        {
          "output_type": "stream",
          "name": "stderr",
          "text": [
            "\n",
            "Processing Videos in pull Up:  27%|██▋       | 7/26 [01:43<04:55, 15.56s/it]\u001b[A"
          ]
        },
        {
          "output_type": "stream",
          "name": "stdout",
          "text": [
            "✅ Saved keypoints for pull up_13.mp4 to CSV\n",
            "\n",
            "🎥 Processing Video: pull up_26.mp4\n"
          ]
        },
        {
          "output_type": "stream",
          "name": "stderr",
          "text": [
            "\n",
            "Processing Videos in pull Up:  31%|███       | 8/26 [01:49<03:41, 12.31s/it]\u001b[A"
          ]
        },
        {
          "output_type": "stream",
          "name": "stdout",
          "text": [
            "✅ Saved keypoints for pull up_26.mp4 to CSV\n",
            "\n",
            "🎥 Processing Video: pull up_20.mp4\n"
          ]
        },
        {
          "output_type": "stream",
          "name": "stderr",
          "text": [
            "\n",
            "Processing Videos in pull Up:  35%|███▍      | 9/26 [02:03<03:42, 13.09s/it]\u001b[A"
          ]
        },
        {
          "output_type": "stream",
          "name": "stdout",
          "text": [
            "✅ Saved keypoints for pull up_20.mp4 to CSV\n",
            "\n",
            "🎥 Processing Video: pull up_22.mp4\n"
          ]
        },
        {
          "output_type": "stream",
          "name": "stderr",
          "text": [
            "\n",
            "Processing Videos in pull Up:  38%|███▊      | 10/26 [02:12<03:07, 11.75s/it]\u001b[A"
          ]
        },
        {
          "output_type": "stream",
          "name": "stdout",
          "text": [
            "✅ Saved keypoints for pull up_22.mp4 to CSV\n",
            "\n",
            "🎥 Processing Video: pull up_15.mp4\n"
          ]
        },
        {
          "output_type": "stream",
          "name": "stderr",
          "text": [
            "\n",
            "Processing Videos in pull Up:  42%|████▏     | 11/26 [02:21<02:42, 10.87s/it]\u001b[A"
          ]
        },
        {
          "output_type": "stream",
          "name": "stdout",
          "text": [
            "✅ Saved keypoints for pull up_15.mp4 to CSV\n",
            "\n",
            "🎥 Processing Video: pull up_19.mp4\n"
          ]
        },
        {
          "output_type": "stream",
          "name": "stderr",
          "text": [
            "\n",
            "Processing Videos in pull Up:  46%|████▌     | 12/26 [02:23<01:56,  8.29s/it]\u001b[A"
          ]
        },
        {
          "output_type": "stream",
          "name": "stdout",
          "text": [
            "✅ Saved keypoints for pull up_19.mp4 to CSV\n",
            "\n",
            "🎥 Processing Video: pull up_24.mp4\n"
          ]
        },
        {
          "output_type": "stream",
          "name": "stderr",
          "text": [
            "\n",
            "Processing Videos in pull Up:  50%|█████     | 13/26 [02:28<01:31,  7.06s/it]\u001b[A"
          ]
        },
        {
          "output_type": "stream",
          "name": "stdout",
          "text": [
            "✅ Saved keypoints for pull up_24.mp4 to CSV\n",
            "\n",
            "🎥 Processing Video: pull up_23.mp4\n"
          ]
        },
        {
          "output_type": "stream",
          "name": "stderr",
          "text": [
            "\n",
            "Processing Videos in pull Up:  54%|█████▍    | 14/26 [02:35<01:25,  7.09s/it]\u001b[A"
          ]
        },
        {
          "output_type": "stream",
          "name": "stdout",
          "text": [
            "✅ Saved keypoints for pull up_23.mp4 to CSV\n",
            "\n",
            "🎥 Processing Video: pull up_16.mp4\n"
          ]
        },
        {
          "output_type": "stream",
          "name": "stderr",
          "text": [
            "\n",
            "Processing Videos in pull Up:  58%|█████▊    | 15/26 [02:38<01:04,  5.89s/it]\u001b[A"
          ]
        },
        {
          "output_type": "stream",
          "name": "stdout",
          "text": [
            "✅ Saved keypoints for pull up_16.mp4 to CSV\n",
            "\n",
            "🎥 Processing Video: pull up_25.mp4\n"
          ]
        },
        {
          "output_type": "stream",
          "name": "stderr",
          "text": [
            "\n",
            "Processing Videos in pull Up:  62%|██████▏   | 16/26 [02:42<00:53,  5.38s/it]\u001b[A"
          ]
        },
        {
          "output_type": "stream",
          "name": "stdout",
          "text": [
            "✅ Saved keypoints for pull up_25.mp4 to CSV\n",
            "\n",
            "🎥 Processing Video: pull up_14.mp4\n"
          ]
        },
        {
          "output_type": "stream",
          "name": "stderr",
          "text": [
            "\n",
            "Processing Videos in pull Up:  65%|██████▌   | 17/26 [02:53<01:02,  6.92s/it]\u001b[A"
          ]
        },
        {
          "output_type": "stream",
          "name": "stdout",
          "text": [
            "✅ Saved keypoints for pull up_14.mp4 to CSV\n",
            "\n",
            "🎥 Processing Video: pull up_3.mp4\n"
          ]
        },
        {
          "output_type": "stream",
          "name": "stderr",
          "text": [
            "\n",
            "Processing Videos in pull Up:  69%|██████▉   | 18/26 [03:54<03:05, 23.19s/it]\u001b[A"
          ]
        },
        {
          "output_type": "stream",
          "name": "stdout",
          "text": [
            "✅ Saved keypoints for pull up_3.mp4 to CSV\n",
            "\n",
            "🎥 Processing Video: pull up_21.mp4\n"
          ]
        },
        {
          "output_type": "stream",
          "name": "stderr",
          "text": [
            "\n",
            "Processing Videos in pull Up:  73%|███████▎  | 19/26 [04:06<02:19, 19.91s/it]\u001b[A"
          ]
        },
        {
          "output_type": "stream",
          "name": "stdout",
          "text": [
            "✅ Saved keypoints for pull up_21.mp4 to CSV\n",
            "\n",
            "🎥 Processing Video: pull up_17.mp4\n"
          ]
        },
        {
          "output_type": "stream",
          "name": "stderr",
          "text": [
            "\n",
            "Processing Videos in pull Up:  77%|███████▋  | 20/26 [04:10<01:30, 15.01s/it]\u001b[A"
          ]
        },
        {
          "output_type": "stream",
          "name": "stdout",
          "text": [
            "✅ Saved keypoints for pull up_17.mp4 to CSV\n",
            "\n",
            "🎥 Processing Video: pull up_8.mp4\n"
          ]
        },
        {
          "output_type": "stream",
          "name": "stderr",
          "text": [
            "\n",
            "Processing Videos in pull Up:  81%|████████  | 21/26 [04:17<01:04, 12.80s/it]\u001b[A"
          ]
        },
        {
          "output_type": "stream",
          "name": "stdout",
          "text": [
            "✅ Saved keypoints for pull up_8.mp4 to CSV\n",
            "\n",
            "🎥 Processing Video: pull up_4.mp4\n"
          ]
        },
        {
          "output_type": "stream",
          "name": "stderr",
          "text": [
            "\n",
            "Processing Videos in pull Up:  85%|████████▍ | 22/26 [04:49<01:14, 18.57s/it]\u001b[A"
          ]
        },
        {
          "output_type": "stream",
          "name": "stdout",
          "text": [
            "✅ Saved keypoints for pull up_4.mp4 to CSV\n",
            "\n",
            "🎥 Processing Video: pull up_5.mp4\n"
          ]
        },
        {
          "output_type": "stream",
          "name": "stderr",
          "text": [
            "\n",
            "Processing Videos in pull Up:  88%|████████▊ | 23/26 [04:56<00:45, 15.13s/it]\u001b[A"
          ]
        },
        {
          "output_type": "stream",
          "name": "stdout",
          "text": [
            "✅ Saved keypoints for pull up_5.mp4 to CSV\n",
            "\n",
            "🎥 Processing Video: pull up_7.mp4\n"
          ]
        },
        {
          "output_type": "stream",
          "name": "stderr",
          "text": [
            "\n",
            "Processing Videos in pull Up:  92%|█████████▏| 24/26 [05:07<00:27, 13.90s/it]\u001b[A"
          ]
        },
        {
          "output_type": "stream",
          "name": "stdout",
          "text": [
            "✅ Saved keypoints for pull up_7.mp4 to CSV\n",
            "\n",
            "🎥 Processing Video: pull up_9.mp4\n"
          ]
        },
        {
          "output_type": "stream",
          "name": "stderr",
          "text": [
            "\n",
            "Processing Videos in pull Up:  96%|█████████▌| 25/26 [05:23<00:14, 14.54s/it]\u001b[A"
          ]
        },
        {
          "output_type": "stream",
          "name": "stdout",
          "text": [
            "✅ Saved keypoints for pull up_9.mp4 to CSV\n",
            "\n",
            "🎥 Processing Video: pull up_6.mp4\n"
          ]
        },
        {
          "output_type": "stream",
          "name": "stderr",
          "text": [
            "\n",
            "Processing Videos in pull Up: 100%|██████████| 26/26 [05:36<00:00, 12.96s/it]\n",
            "Processing Exercise Folders:  27%|██▋       | 6/22 [26:08<1:12:09, 270.58s/it]"
          ]
        },
        {
          "output_type": "stream",
          "name": "stdout",
          "text": [
            "✅ Saved keypoints for pull up_6.mp4 to CSV\n",
            "\n",
            "📂 Processing Exercise: romanian deadlift\n",
            "\n"
          ]
        },
        {
          "output_type": "stream",
          "name": "stderr",
          "text": [
            "\n",
            "Processing Videos in romanian deadlift:   0%|          | 0/12 [00:00<?, ?it/s]\u001b[A"
          ]
        },
        {
          "output_type": "stream",
          "name": "stdout",
          "text": [
            "🎥 Processing Video: romanian deadlift_10.mp4\n"
          ]
        },
        {
          "output_type": "stream",
          "name": "stderr",
          "text": [
            "\n",
            "Processing Videos in romanian deadlift:   8%|▊         | 1/12 [00:07<01:17,  7.04s/it]\u001b[A"
          ]
        },
        {
          "output_type": "stream",
          "name": "stdout",
          "text": [
            "✅ Saved keypoints for romanian deadlift_10.mp4 to CSV\n",
            "\n",
            "🎥 Processing Video: romanian deadlift_12.mp4\n"
          ]
        },
        {
          "output_type": "stream",
          "name": "stderr",
          "text": [
            "\n",
            "Processing Videos in romanian deadlift:  17%|█▋        | 2/12 [00:18<01:38,  9.81s/it]\u001b[A"
          ]
        },
        {
          "output_type": "stream",
          "name": "stdout",
          "text": [
            "✅ Saved keypoints for romanian deadlift_12.mp4 to CSV\n",
            "\n",
            "🎥 Processing Video: romanian deadlift_13.mp4\n"
          ]
        },
        {
          "output_type": "stream",
          "name": "stderr",
          "text": [
            "\n",
            "Processing Videos in romanian deadlift:  25%|██▌       | 3/12 [00:34<01:53, 12.62s/it]\u001b[A"
          ]
        },
        {
          "output_type": "stream",
          "name": "stdout",
          "text": [
            "✅ Saved keypoints for romanian deadlift_13.mp4 to CSV\n",
            "\n",
            "🎥 Processing Video: romanian deadlift_14.mp4\n"
          ]
        },
        {
          "output_type": "stream",
          "name": "stderr",
          "text": [
            "\n",
            "Processing Videos in romanian deadlift:  33%|███▎      | 4/12 [00:49<01:47, 13.47s/it]\u001b[A"
          ]
        },
        {
          "output_type": "stream",
          "name": "stdout",
          "text": [
            "✅ Saved keypoints for romanian deadlift_14.mp4 to CSV\n",
            "\n",
            "🎥 Processing Video: romanian deadlift_11.mp4\n"
          ]
        },
        {
          "output_type": "stream",
          "name": "stderr",
          "text": [
            "\n",
            "Processing Videos in romanian deadlift:  42%|████▏     | 5/12 [00:53<01:11, 10.17s/it]\u001b[A"
          ]
        },
        {
          "output_type": "stream",
          "name": "stdout",
          "text": [
            "✅ Saved keypoints for romanian deadlift_11.mp4 to CSV\n",
            "\n",
            "🎥 Processing Video: romanian deadlift_1.mov\n"
          ]
        },
        {
          "output_type": "stream",
          "name": "stderr",
          "text": [
            "\n",
            "Processing Videos in romanian deadlift:  50%|█████     | 6/12 [01:17<01:29, 14.89s/it]\u001b[A"
          ]
        },
        {
          "output_type": "stream",
          "name": "stdout",
          "text": [
            "✅ Saved keypoints for romanian deadlift_1.mov to CSV\n",
            "\n",
            "🎥 Processing Video: romanian deadlift_6.mp4\n"
          ]
        },
        {
          "output_type": "stream",
          "name": "stderr",
          "text": [
            "\n",
            "Processing Videos in romanian deadlift:  58%|█████▊    | 7/12 [01:21<00:56, 11.35s/it]\u001b[A"
          ]
        },
        {
          "output_type": "stream",
          "name": "stdout",
          "text": [
            "✅ Saved keypoints for romanian deadlift_6.mp4 to CSV\n",
            "\n",
            "🎥 Processing Video: romanian deadlift_5.mp4\n"
          ]
        },
        {
          "output_type": "stream",
          "name": "stderr",
          "text": [
            "\n",
            "Processing Videos in romanian deadlift:  67%|██████▋   | 8/12 [01:33<00:45, 11.47s/it]\u001b[A"
          ]
        },
        {
          "output_type": "stream",
          "name": "stdout",
          "text": [
            "✅ Saved keypoints for romanian deadlift_5.mp4 to CSV\n",
            "\n",
            "🎥 Processing Video: romanian deadlift_7.mp4\n"
          ]
        },
        {
          "output_type": "stream",
          "name": "stderr",
          "text": [
            "\n",
            "Processing Videos in romanian deadlift:  75%|███████▌  | 9/12 [01:49<00:38, 12.73s/it]\u001b[A"
          ]
        },
        {
          "output_type": "stream",
          "name": "stdout",
          "text": [
            "✅ Saved keypoints for romanian deadlift_7.mp4 to CSV\n",
            "\n",
            "🎥 Processing Video: romanian deadlift_3.mov\n"
          ]
        },
        {
          "output_type": "stream",
          "name": "stderr",
          "text": [
            "\n",
            "Processing Videos in romanian deadlift:  83%|████████▎ | 10/12 [02:15<00:33, 16.97s/it]\u001b[A"
          ]
        },
        {
          "output_type": "stream",
          "name": "stdout",
          "text": [
            "✅ Saved keypoints for romanian deadlift_3.mov to CSV\n",
            "\n",
            "🎥 Processing Video: romanian deadlift_8.mp4\n"
          ]
        },
        {
          "output_type": "stream",
          "name": "stderr",
          "text": [
            "\n",
            "Processing Videos in romanian deadlift:  92%|█████████▏| 11/12 [04:10<00:46, 46.80s/it]\u001b[A"
          ]
        },
        {
          "output_type": "stream",
          "name": "stdout",
          "text": [
            "✅ Saved keypoints for romanian deadlift_8.mp4 to CSV\n",
            "\n",
            "🎥 Processing Video: romanian deadlift_9.mp4\n"
          ]
        },
        {
          "output_type": "stream",
          "name": "stderr",
          "text": [
            "\n",
            "Processing Videos in romanian deadlift: 100%|██████████| 12/12 [04:39<00:00, 23.31s/it]\n",
            "Processing Exercise Folders:  32%|███▏      | 7/22 [30:48<1:08:23, 273.57s/it]"
          ]
        },
        {
          "output_type": "stream",
          "name": "stdout",
          "text": [
            "✅ Saved keypoints for romanian deadlift_9.mp4 to CSV\n",
            "\n",
            "📂 Processing Exercise: tricep dips\n",
            "\n"
          ]
        },
        {
          "output_type": "stream",
          "name": "stderr",
          "text": [
            "\n",
            "Processing Videos in tricep dips:   0%|          | 0/16 [00:00<?, ?it/s]\u001b[A"
          ]
        },
        {
          "output_type": "stream",
          "name": "stdout",
          "text": [
            "🎥 Processing Video: tricep dips_17.mp4\n"
          ]
        },
        {
          "output_type": "stream",
          "name": "stderr",
          "text": [
            "\n",
            "Processing Videos in tricep dips:   6%|▋         | 1/16 [00:30<07:30, 30.01s/it]\u001b[A"
          ]
        },
        {
          "output_type": "stream",
          "name": "stdout",
          "text": [
            "✅ Saved keypoints for tricep dips_17.mp4 to CSV\n",
            "\n",
            "🎥 Processing Video: tricep dips_11.mp4\n"
          ]
        },
        {
          "output_type": "stream",
          "name": "stderr",
          "text": [
            "\n",
            "Processing Videos in tricep dips:  12%|█▎        | 2/16 [00:46<05:10, 22.15s/it]\u001b[A"
          ]
        },
        {
          "output_type": "stream",
          "name": "stdout",
          "text": [
            "✅ Saved keypoints for tricep dips_11.mp4 to CSV\n",
            "\n",
            "🎥 Processing Video: tricep dips_10.mp4\n"
          ]
        },
        {
          "output_type": "stream",
          "name": "stderr",
          "text": [
            "\n",
            "Processing Videos in tricep dips:  19%|█▉        | 3/16 [01:06<04:35, 21.18s/it]\u001b[A"
          ]
        },
        {
          "output_type": "stream",
          "name": "stdout",
          "text": [
            "✅ Saved keypoints for tricep dips_10.mp4 to CSV\n",
            "\n",
            "🎥 Processing Video: tricep dips_14.mp4\n"
          ]
        },
        {
          "output_type": "stream",
          "name": "stderr",
          "text": [
            "\n",
            "Processing Videos in tricep dips:  25%|██▌       | 4/16 [01:15<03:15, 16.31s/it]\u001b[A"
          ]
        },
        {
          "output_type": "stream",
          "name": "stdout",
          "text": [
            "✅ Saved keypoints for tricep dips_14.mp4 to CSV\n",
            "\n",
            "🎥 Processing Video: tricep dips_12.mp4\n"
          ]
        },
        {
          "output_type": "stream",
          "name": "stderr",
          "text": [
            "\n",
            "Processing Videos in tricep dips:  31%|███▏      | 5/16 [01:18<02:06, 11.50s/it]\u001b[A"
          ]
        },
        {
          "output_type": "stream",
          "name": "stdout",
          "text": [
            "✅ Saved keypoints for tricep dips_12.mp4 to CSV\n",
            "\n",
            "🎥 Processing Video: tricep dips_13.mp4\n"
          ]
        },
        {
          "output_type": "stream",
          "name": "stderr",
          "text": [
            "\n",
            "Processing Videos in tricep dips:  38%|███▊      | 6/16 [01:24<01:35,  9.54s/it]\u001b[A"
          ]
        },
        {
          "output_type": "stream",
          "name": "stdout",
          "text": [
            "✅ Saved keypoints for tricep dips_13.mp4 to CSV\n",
            "\n",
            "🎥 Processing Video: tricep dips_15.mp4\n"
          ]
        },
        {
          "output_type": "stream",
          "name": "stderr",
          "text": [
            "\n",
            "Processing Videos in tricep dips:  44%|████▍     | 7/16 [01:33<01:23,  9.31s/it]\u001b[A"
          ]
        },
        {
          "output_type": "stream",
          "name": "stdout",
          "text": [
            "✅ Saved keypoints for tricep dips_15.mp4 to CSV\n",
            "\n",
            "🎥 Processing Video: tricep dips_18.mp4\n"
          ]
        },
        {
          "output_type": "stream",
          "name": "stderr",
          "text": [
            "\n",
            "Processing Videos in tricep dips:  50%|█████     | 8/16 [02:04<02:09, 16.24s/it]\u001b[A"
          ]
        },
        {
          "output_type": "stream",
          "name": "stdout",
          "text": [
            "✅ Saved keypoints for tricep dips_18.mp4 to CSV\n",
            "\n",
            "🎥 Processing Video: tricep dips_16.mp4\n"
          ]
        },
        {
          "output_type": "stream",
          "name": "stderr",
          "text": [
            "\n",
            "Processing Videos in tricep dips:  56%|█████▋    | 9/16 [02:21<01:55, 16.44s/it]\u001b[A"
          ]
        },
        {
          "output_type": "stream",
          "name": "stdout",
          "text": [
            "✅ Saved keypoints for tricep dips_16.mp4 to CSV\n",
            "\n",
            "🎥 Processing Video: tricep dips_20.mp4\n"
          ]
        },
        {
          "output_type": "stream",
          "name": "stderr",
          "text": [
            "\n",
            "Processing Videos in tricep dips:  62%|██████▎   | 10/16 [02:34<01:33, 15.63s/it]\u001b[A"
          ]
        },
        {
          "output_type": "stream",
          "name": "stdout",
          "text": [
            "✅ Saved keypoints for tricep dips_20.mp4 to CSV\n",
            "\n",
            "🎥 Processing Video: tricep dips_19.mp4\n"
          ]
        },
        {
          "output_type": "stream",
          "name": "stderr",
          "text": [
            "\n",
            "Processing Videos in tricep dips:  69%|██████▉   | 11/16 [02:58<01:30, 18.08s/it]\u001b[A"
          ]
        },
        {
          "output_type": "stream",
          "name": "stdout",
          "text": [
            "✅ Saved keypoints for tricep dips_19.mp4 to CSV\n",
            "\n",
            "🎥 Processing Video: tricep dips_5.mp4\n"
          ]
        },
        {
          "output_type": "stream",
          "name": "stderr",
          "text": [
            "\n",
            "Processing Videos in tricep dips:  75%|███████▌  | 12/16 [03:14<01:09, 17.31s/it]\u001b[A"
          ]
        },
        {
          "output_type": "stream",
          "name": "stdout",
          "text": [
            "✅ Saved keypoints for tricep dips_5.mp4 to CSV\n",
            "\n",
            "🎥 Processing Video: tricep dips_9.mp4\n"
          ]
        },
        {
          "output_type": "stream",
          "name": "stderr",
          "text": [
            "\n",
            "Processing Videos in tricep dips:  81%|████████▏ | 13/16 [03:31<00:52, 17.47s/it]\u001b[A"
          ]
        },
        {
          "output_type": "stream",
          "name": "stdout",
          "text": [
            "✅ Saved keypoints for tricep dips_9.mp4 to CSV\n",
            "\n",
            "🎥 Processing Video: tricep dips_6.mp4\n"
          ]
        },
        {
          "output_type": "stream",
          "name": "stderr",
          "text": [
            "\n",
            "Processing Videos in tricep dips:  88%|████████▊ | 14/16 [03:47<00:33, 16.78s/it]\u001b[A"
          ]
        },
        {
          "output_type": "stream",
          "name": "stdout",
          "text": [
            "✅ Saved keypoints for tricep dips_6.mp4 to CSV\n",
            "\n",
            "🎥 Processing Video: tricep dips_7.mp4\n"
          ]
        },
        {
          "output_type": "stream",
          "name": "stderr",
          "text": [
            "\n",
            "Processing Videos in tricep dips:  94%|█████████▍| 15/16 [04:01<00:16, 16.16s/it]\u001b[A"
          ]
        },
        {
          "output_type": "stream",
          "name": "stdout",
          "text": [
            "✅ Saved keypoints for tricep dips_7.mp4 to CSV\n",
            "\n",
            "🎥 Processing Video: tricep dips_8.mp4\n"
          ]
        },
        {
          "output_type": "stream",
          "name": "stderr",
          "text": [
            "\n",
            "Processing Videos in tricep dips: 100%|██████████| 16/16 [04:10<00:00, 15.66s/it]\n",
            "Processing Exercise Folders:  36%|███▋      | 8/22 [34:59<1:02:07, 266.25s/it]"
          ]
        },
        {
          "output_type": "stream",
          "name": "stdout",
          "text": [
            "✅ Saved keypoints for tricep dips_8.mp4 to CSV\n",
            "\n",
            "📂 Processing Exercise: t bar row\n",
            "\n"
          ]
        },
        {
          "output_type": "stream",
          "name": "stderr",
          "text": [
            "\n",
            "Processing Videos in t bar row:   0%|          | 0/14 [00:00<?, ?it/s]\u001b[A"
          ]
        },
        {
          "output_type": "stream",
          "name": "stdout",
          "text": [
            "🎥 Processing Video: t bar row_15.mp4\n"
          ]
        },
        {
          "output_type": "stream",
          "name": "stderr",
          "text": [
            "\n",
            "Processing Videos in t bar row:   7%|▋         | 1/14 [00:06<01:20,  6.19s/it]\u001b[A"
          ]
        },
        {
          "output_type": "stream",
          "name": "stdout",
          "text": [
            "✅ Saved keypoints for t bar row_15.mp4 to CSV\n",
            "\n",
            "🎥 Processing Video: t bar row_14.mp4\n"
          ]
        },
        {
          "output_type": "stream",
          "name": "stderr",
          "text": [
            "\n",
            "Processing Videos in t bar row:  14%|█▍        | 2/14 [00:13<01:24,  7.01s/it]\u001b[A"
          ]
        },
        {
          "output_type": "stream",
          "name": "stdout",
          "text": [
            "✅ Saved keypoints for t bar row_14.mp4 to CSV\n",
            "\n",
            "🎥 Processing Video: t bar row_13.mp4\n"
          ]
        },
        {
          "output_type": "stream",
          "name": "stderr",
          "text": [
            "\n",
            "Processing Videos in t bar row:  21%|██▏       | 3/14 [00:17<01:02,  5.68s/it]\u001b[A"
          ]
        },
        {
          "output_type": "stream",
          "name": "stdout",
          "text": [
            "✅ Saved keypoints for t bar row_13.mp4 to CSV\n",
            "\n",
            "🎥 Processing Video: t bar row_12.mp4\n"
          ]
        },
        {
          "output_type": "stream",
          "name": "stderr",
          "text": [
            "\n",
            "Processing Videos in t bar row:  29%|██▊       | 4/14 [00:29<01:18,  7.89s/it]\u001b[A"
          ]
        },
        {
          "output_type": "stream",
          "name": "stdout",
          "text": [
            "✅ Saved keypoints for t bar row_12.mp4 to CSV\n",
            "\n",
            "🎥 Processing Video: t bar row_10.mp4\n"
          ]
        },
        {
          "output_type": "stream",
          "name": "stderr",
          "text": [
            "\n",
            "Processing Videos in t bar row:  36%|███▌      | 5/14 [00:34<01:02,  6.97s/it]\u001b[A"
          ]
        },
        {
          "output_type": "stream",
          "name": "stdout",
          "text": [
            "✅ Saved keypoints for t bar row_10.mp4 to CSV\n",
            "\n",
            "🎥 Processing Video: t bar row_11.mp4\n"
          ]
        },
        {
          "output_type": "stream",
          "name": "stderr",
          "text": [
            "\n",
            "Processing Videos in t bar row:  43%|████▎     | 6/14 [00:40<00:54,  6.81s/it]\u001b[A"
          ]
        },
        {
          "output_type": "stream",
          "name": "stdout",
          "text": [
            "✅ Saved keypoints for t bar row_11.mp4 to CSV\n",
            "\n",
            "🎥 Processing Video: t bar row_18.mp4\n"
          ]
        },
        {
          "output_type": "stream",
          "name": "stderr",
          "text": [
            "\n",
            "Processing Videos in t bar row:  50%|█████     | 7/14 [00:59<01:14, 10.61s/it]\u001b[A"
          ]
        },
        {
          "output_type": "stream",
          "name": "stdout",
          "text": [
            "✅ Saved keypoints for t bar row_18.mp4 to CSV\n",
            "\n",
            "🎥 Processing Video: t bar row_19.mp4\n"
          ]
        },
        {
          "output_type": "stream",
          "name": "stderr",
          "text": [
            "\n",
            "Processing Videos in t bar row:  57%|█████▋    | 8/14 [01:26<01:35, 15.92s/it]\u001b[A"
          ]
        },
        {
          "output_type": "stream",
          "name": "stdout",
          "text": [
            "✅ Saved keypoints for t bar row_19.mp4 to CSV\n",
            "\n",
            "🎥 Processing Video: t bar row_16.mp4\n"
          ]
        },
        {
          "output_type": "stream",
          "name": "stderr",
          "text": [
            "\n",
            "Processing Videos in t bar row:  64%|██████▍   | 9/14 [01:48<01:28, 17.71s/it]\u001b[A"
          ]
        },
        {
          "output_type": "stream",
          "name": "stdout",
          "text": [
            "✅ Saved keypoints for t bar row_16.mp4 to CSV\n",
            "\n",
            "🎥 Processing Video: t bar row_17.mp4\n"
          ]
        },
        {
          "output_type": "stream",
          "name": "stderr",
          "text": [
            "\n",
            "Processing Videos in t bar row:  71%|███████▏  | 10/14 [02:06<01:10, 17.71s/it]\u001b[A"
          ]
        },
        {
          "output_type": "stream",
          "name": "stdout",
          "text": [
            "✅ Saved keypoints for t bar row_17.mp4 to CSV\n",
            "\n",
            "🎥 Processing Video: t bar row_20.mp4\n"
          ]
        },
        {
          "output_type": "stream",
          "name": "stderr",
          "text": [
            "\n",
            "Processing Videos in t bar row:  79%|███████▊  | 11/14 [02:41<01:09, 23.11s/it]\u001b[A"
          ]
        },
        {
          "output_type": "stream",
          "name": "stdout",
          "text": [
            "✅ Saved keypoints for t bar row_20.mp4 to CSV\n",
            "\n",
            "🎥 Processing Video: t bar row_21.mp4\n"
          ]
        },
        {
          "output_type": "stream",
          "name": "stderr",
          "text": [
            "\n",
            "Processing Videos in t bar row:  86%|████████▌ | 12/14 [03:00<00:43, 21.87s/it]\u001b[A"
          ]
        },
        {
          "output_type": "stream",
          "name": "stdout",
          "text": [
            "✅ Saved keypoints for t bar row_21.mp4 to CSV\n",
            "\n",
            "🎥 Processing Video: t bar row_8.mp4\n"
          ]
        },
        {
          "output_type": "stream",
          "name": "stderr",
          "text": [
            "\n",
            "Processing Videos in t bar row:  93%|█████████▎| 13/14 [03:07<00:17, 17.43s/it]\u001b[A"
          ]
        },
        {
          "output_type": "stream",
          "name": "stdout",
          "text": [
            "✅ Saved keypoints for t bar row_8.mp4 to CSV\n",
            "\n",
            "🎥 Processing Video: t bar row_9.mp4\n"
          ]
        },
        {
          "output_type": "stream",
          "name": "stderr",
          "text": [
            "\n",
            "Processing Videos in t bar row: 100%|██████████| 14/14 [03:15<00:00, 13.95s/it]\n",
            "Processing Exercise Folders:  41%|████      | 9/22 [38:14<52:52, 244.06s/it]  "
          ]
        },
        {
          "output_type": "stream",
          "name": "stdout",
          "text": [
            "✅ Saved keypoints for t bar row_9.mp4 to CSV\n",
            "\n",
            "📂 Processing Exercise: push-up\n",
            "\n"
          ]
        },
        {
          "output_type": "stream",
          "name": "stderr",
          "text": [
            "\n",
            "Processing Videos in push-up:   0%|          | 0/56 [00:00<?, ?it/s]\u001b[A"
          ]
        },
        {
          "output_type": "stream",
          "name": "stdout",
          "text": [
            "🎥 Processing Video: push-up_19.mp4\n"
          ]
        },
        {
          "output_type": "stream",
          "name": "stderr",
          "text": [
            "\n",
            "Processing Videos in push-up:   2%|▏         | 1/56 [00:08<08:08,  8.88s/it]\u001b[A"
          ]
        },
        {
          "output_type": "stream",
          "name": "stdout",
          "text": [
            "✅ Saved keypoints for push-up_19.mp4 to CSV\n",
            "\n",
            "🎥 Processing Video: push-up_30.mp4\n"
          ]
        },
        {
          "output_type": "stream",
          "name": "stderr",
          "text": [
            "\n",
            "Processing Videos in push-up:   4%|▎         | 2/56 [00:15<06:45,  7.51s/it]\u001b[A"
          ]
        },
        {
          "output_type": "stream",
          "name": "stdout",
          "text": [
            "✅ Saved keypoints for push-up_30.mp4 to CSV\n",
            "\n",
            "🎥 Processing Video: push-up_31.mp4\n"
          ]
        },
        {
          "output_type": "stream",
          "name": "stderr",
          "text": [
            "\n",
            "Processing Videos in push-up:   5%|▌         | 3/56 [00:23<06:59,  7.91s/it]\u001b[A"
          ]
        },
        {
          "output_type": "stream",
          "name": "stdout",
          "text": [
            "✅ Saved keypoints for push-up_31.mp4 to CSV\n",
            "\n",
            "🎥 Processing Video: push-up_15.mp4\n"
          ]
        },
        {
          "output_type": "stream",
          "name": "stderr",
          "text": [
            "\n",
            "Processing Videos in push-up:   7%|▋         | 4/56 [00:27<05:30,  6.35s/it]\u001b[A"
          ]
        },
        {
          "output_type": "stream",
          "name": "stdout",
          "text": [
            "✅ Saved keypoints for push-up_15.mp4 to CSV\n",
            "\n",
            "🎥 Processing Video: push-up_10.mp4\n"
          ]
        },
        {
          "output_type": "stream",
          "name": "stderr",
          "text": [
            "\n",
            "Processing Videos in push-up:   9%|▉         | 5/56 [00:35<05:53,  6.93s/it]\u001b[A"
          ]
        },
        {
          "output_type": "stream",
          "name": "stdout",
          "text": [
            "✅ Saved keypoints for push-up_10.mp4 to CSV\n",
            "\n",
            "🎥 Processing Video: push-up_12.mp4\n"
          ]
        },
        {
          "output_type": "stream",
          "name": "stderr",
          "text": [
            "\n",
            "Processing Videos in push-up:  11%|█         | 6/56 [00:42<05:46,  6.94s/it]\u001b[A"
          ]
        },
        {
          "output_type": "stream",
          "name": "stdout",
          "text": [
            "✅ Saved keypoints for push-up_12.mp4 to CSV\n",
            "\n",
            "🎥 Processing Video: push-up_26.mp4\n"
          ]
        },
        {
          "output_type": "stream",
          "name": "stderr",
          "text": [
            "\n",
            "Processing Videos in push-up:  12%|█▎        | 7/56 [00:51<06:02,  7.39s/it]\u001b[A"
          ]
        },
        {
          "output_type": "stream",
          "name": "stdout",
          "text": [
            "✅ Saved keypoints for push-up_26.mp4 to CSV\n",
            "\n",
            "🎥 Processing Video: push-up_23.mp4\n"
          ]
        },
        {
          "output_type": "stream",
          "name": "stderr",
          "text": [
            "\n",
            "Processing Videos in push-up:  14%|█▍        | 8/56 [00:58<05:49,  7.29s/it]\u001b[A"
          ]
        },
        {
          "output_type": "stream",
          "name": "stdout",
          "text": [
            "✅ Saved keypoints for push-up_23.mp4 to CSV\n",
            "\n",
            "🎥 Processing Video: push-up_14.mp4\n"
          ]
        },
        {
          "output_type": "stream",
          "name": "stderr",
          "text": [
            "\n",
            "Processing Videos in push-up:  16%|█▌        | 9/56 [01:08<06:25,  8.20s/it]\u001b[A"
          ]
        },
        {
          "output_type": "stream",
          "name": "stdout",
          "text": [
            "✅ Saved keypoints for push-up_14.mp4 to CSV\n",
            "\n",
            "🎥 Processing Video: push-up_25.mp4\n"
          ]
        },
        {
          "output_type": "stream",
          "name": "stderr",
          "text": [
            "\n",
            "Processing Videos in push-up:  18%|█▊        | 10/56 [01:12<05:26,  7.10s/it]\u001b[A"
          ]
        },
        {
          "output_type": "stream",
          "name": "stdout",
          "text": [
            "✅ Saved keypoints for push-up_25.mp4 to CSV\n",
            "\n",
            "🎥 Processing Video: push-up_17.mp4\n"
          ]
        },
        {
          "output_type": "stream",
          "name": "stderr",
          "text": [
            "\n",
            "Processing Videos in push-up:  20%|█▉        | 11/56 [01:17<04:40,  6.24s/it]\u001b[A"
          ]
        },
        {
          "output_type": "stream",
          "name": "stdout",
          "text": [
            "✅ Saved keypoints for push-up_17.mp4 to CSV\n",
            "\n",
            "🎥 Processing Video: push-up_20.mp4\n"
          ]
        },
        {
          "output_type": "stream",
          "name": "stderr",
          "text": [
            "\n",
            "Processing Videos in push-up:  21%|██▏       | 12/56 [01:25<05:02,  6.88s/it]\u001b[A"
          ]
        },
        {
          "output_type": "stream",
          "name": "stdout",
          "text": [
            "✅ Saved keypoints for push-up_20.mp4 to CSV\n",
            "\n",
            "🎥 Processing Video: push-up_29.mp4\n"
          ]
        },
        {
          "output_type": "stream",
          "name": "stderr",
          "text": [
            "\n",
            "Processing Videos in push-up:  23%|██▎       | 13/56 [01:32<04:54,  6.84s/it]\u001b[A"
          ]
        },
        {
          "output_type": "stream",
          "name": "stdout",
          "text": [
            "✅ Saved keypoints for push-up_29.mp4 to CSV\n",
            "\n",
            "🎥 Processing Video: push-up_28.mp4\n"
          ]
        },
        {
          "output_type": "stream",
          "name": "stderr",
          "text": [
            "\n",
            "Processing Videos in push-up:  25%|██▌       | 14/56 [01:38<04:40,  6.69s/it]\u001b[A"
          ]
        },
        {
          "output_type": "stream",
          "name": "stdout",
          "text": [
            "✅ Saved keypoints for push-up_28.mp4 to CSV\n",
            "\n",
            "🎥 Processing Video: push-up_13.mp4\n"
          ]
        },
        {
          "output_type": "stream",
          "name": "stderr",
          "text": [
            "\n",
            "Processing Videos in push-up:  27%|██▋       | 15/56 [01:45<04:34,  6.71s/it]\u001b[A"
          ]
        },
        {
          "output_type": "stream",
          "name": "stdout",
          "text": [
            "✅ Saved keypoints for push-up_13.mp4 to CSV\n",
            "\n",
            "🎥 Processing Video: push-up_32.mp4\n"
          ]
        },
        {
          "output_type": "stream",
          "name": "stderr",
          "text": [
            "\n",
            "Processing Videos in push-up:  29%|██▊       | 16/56 [01:54<04:53,  7.34s/it]\u001b[A"
          ]
        },
        {
          "output_type": "stream",
          "name": "stdout",
          "text": [
            "✅ Saved keypoints for push-up_32.mp4 to CSV\n",
            "\n",
            "🎥 Processing Video: push-up_11.mp4\n"
          ]
        },
        {
          "output_type": "stream",
          "name": "stderr",
          "text": [
            "\n",
            "Processing Videos in push-up:  30%|███       | 17/56 [02:01<04:42,  7.24s/it]\u001b[A"
          ]
        },
        {
          "output_type": "stream",
          "name": "stdout",
          "text": [
            "✅ Saved keypoints for push-up_11.mp4 to CSV\n",
            "\n",
            "🎥 Processing Video: push-up_24.mp4\n"
          ]
        },
        {
          "output_type": "stream",
          "name": "stderr",
          "text": [
            "\n",
            "Processing Videos in push-up:  32%|███▏      | 18/56 [02:08<04:32,  7.18s/it]\u001b[A"
          ]
        },
        {
          "output_type": "stream",
          "name": "stdout",
          "text": [
            "✅ Saved keypoints for push-up_24.mp4 to CSV\n",
            "\n",
            "🎥 Processing Video: push-up_21.mp4\n"
          ]
        },
        {
          "output_type": "stream",
          "name": "stderr",
          "text": [
            "\n",
            "Processing Videos in push-up:  34%|███▍      | 19/56 [02:15<04:21,  7.06s/it]\u001b[A"
          ]
        },
        {
          "output_type": "stream",
          "name": "stdout",
          "text": [
            "✅ Saved keypoints for push-up_21.mp4 to CSV\n",
            "\n",
            "🎥 Processing Video: push-up_34.mp4\n"
          ]
        },
        {
          "output_type": "stream",
          "name": "stderr",
          "text": [
            "\n",
            "Processing Videos in push-up:  36%|███▌      | 20/56 [02:21<04:08,  6.91s/it]\u001b[A"
          ]
        },
        {
          "output_type": "stream",
          "name": "stdout",
          "text": [
            "✅ Saved keypoints for push-up_34.mp4 to CSV\n",
            "\n",
            "🎥 Processing Video: push-up_18.mp4\n"
          ]
        },
        {
          "output_type": "stream",
          "name": "stderr",
          "text": [
            "\n",
            "Processing Videos in push-up:  38%|███▊      | 21/56 [02:24<03:24,  5.84s/it]\u001b[A"
          ]
        },
        {
          "output_type": "stream",
          "name": "stdout",
          "text": [
            "✅ Saved keypoints for push-up_18.mp4 to CSV\n",
            "\n",
            "🎥 Processing Video: push-up_3.mp4\n"
          ]
        },
        {
          "output_type": "stream",
          "name": "stderr",
          "text": [
            "\n",
            "Processing Videos in push-up:  39%|███▉      | 22/56 [02:33<03:44,  6.61s/it]\u001b[A"
          ]
        },
        {
          "output_type": "stream",
          "name": "stdout",
          "text": [
            "✅ Saved keypoints for push-up_3.mp4 to CSV\n",
            "\n",
            "🎥 Processing Video: push-up_27.mp4\n"
          ]
        },
        {
          "output_type": "stream",
          "name": "stderr",
          "text": [
            "\n",
            "Processing Videos in push-up:  41%|████      | 23/56 [02:39<03:38,  6.62s/it]\u001b[A"
          ]
        },
        {
          "output_type": "stream",
          "name": "stdout",
          "text": [
            "✅ Saved keypoints for push-up_27.mp4 to CSV\n",
            "\n",
            "🎥 Processing Video: push-up_33.mp4\n"
          ]
        },
        {
          "output_type": "stream",
          "name": "stderr",
          "text": [
            "\n",
            "Processing Videos in push-up:  43%|████▎     | 24/56 [02:48<03:48,  7.14s/it]\u001b[A"
          ]
        },
        {
          "output_type": "stream",
          "name": "stdout",
          "text": [
            "✅ Saved keypoints for push-up_33.mp4 to CSV\n",
            "\n",
            "🎥 Processing Video: push-up_22.mp4\n"
          ]
        },
        {
          "output_type": "stream",
          "name": "stderr",
          "text": [
            "\n",
            "Processing Videos in push-up:  45%|████▍     | 25/56 [02:55<03:37,  7.00s/it]\u001b[A"
          ]
        },
        {
          "output_type": "stream",
          "name": "stdout",
          "text": [
            "✅ Saved keypoints for push-up_22.mp4 to CSV\n",
            "\n",
            "🎥 Processing Video: push-up_1.mp4\n"
          ]
        },
        {
          "output_type": "stream",
          "name": "stderr",
          "text": [
            "\n",
            "Processing Videos in push-up:  46%|████▋     | 26/56 [03:03<03:42,  7.43s/it]\u001b[A"
          ]
        },
        {
          "output_type": "stream",
          "name": "stdout",
          "text": [
            "✅ Saved keypoints for push-up_1.mp4 to CSV\n",
            "\n",
            "🎥 Processing Video: push-up_16.mp4\n"
          ]
        },
        {
          "output_type": "stream",
          "name": "stderr",
          "text": [
            "\n",
            "Processing Videos in push-up:  48%|████▊     | 27/56 [03:09<03:27,  7.14s/it]\u001b[A"
          ]
        },
        {
          "output_type": "stream",
          "name": "stdout",
          "text": [
            "✅ Saved keypoints for push-up_16.mp4 to CSV\n",
            "\n",
            "🎥 Processing Video: push-up_2.mp4\n"
          ]
        },
        {
          "output_type": "stream",
          "name": "stderr",
          "text": [
            "\n",
            "Processing Videos in push-up:  50%|█████     | 28/56 [03:18<03:30,  7.53s/it]\u001b[A"
          ]
        },
        {
          "output_type": "stream",
          "name": "stdout",
          "text": [
            "✅ Saved keypoints for push-up_2.mp4 to CSV\n",
            "\n",
            "🎥 Processing Video: push-up_4.mp4\n"
          ]
        },
        {
          "output_type": "stream",
          "name": "stderr",
          "text": [
            "\n",
            "Processing Videos in push-up:  52%|█████▏    | 29/56 [03:25<03:17,  7.32s/it]\u001b[A"
          ]
        },
        {
          "output_type": "stream",
          "name": "stdout",
          "text": [
            "✅ Saved keypoints for push-up_4.mp4 to CSV\n",
            "\n",
            "🎥 Processing Video: push-up_52.mp4\n"
          ]
        },
        {
          "output_type": "stream",
          "name": "stderr",
          "text": [
            "\n",
            "Processing Videos in push-up:  54%|█████▎    | 30/56 [03:43<04:39, 10.75s/it]\u001b[A"
          ]
        },
        {
          "output_type": "stream",
          "name": "stdout",
          "text": [
            "✅ Saved keypoints for push-up_52.mp4 to CSV\n",
            "\n",
            "🎥 Processing Video: push-up_42.mp4\n"
          ]
        },
        {
          "output_type": "stream",
          "name": "stderr",
          "text": [
            "\n",
            "Processing Videos in push-up:  55%|█████▌    | 31/56 [03:51<04:01,  9.67s/it]\u001b[A"
          ]
        },
        {
          "output_type": "stream",
          "name": "stdout",
          "text": [
            "✅ Saved keypoints for push-up_42.mp4 to CSV\n",
            "\n",
            "🎥 Processing Video: push-up_50.mp4\n"
          ]
        },
        {
          "output_type": "stream",
          "name": "stderr",
          "text": [
            "\n",
            "Processing Videos in push-up:  57%|█████▋    | 32/56 [03:59<03:40,  9.20s/it]\u001b[A"
          ]
        },
        {
          "output_type": "stream",
          "name": "stdout",
          "text": [
            "✅ Saved keypoints for push-up_50.mp4 to CSV\n",
            "\n",
            "🎥 Processing Video: push-up_53.mp4\n"
          ]
        },
        {
          "output_type": "stream",
          "name": "stderr",
          "text": [
            "\n",
            "Processing Videos in push-up:  59%|█████▉    | 33/56 [04:30<06:06, 15.94s/it]\u001b[A"
          ]
        },
        {
          "output_type": "stream",
          "name": "stdout",
          "text": [
            "✅ Saved keypoints for push-up_53.mp4 to CSV\n",
            "\n",
            "🎥 Processing Video: push-up_48.mp4\n"
          ]
        },
        {
          "output_type": "stream",
          "name": "stderr",
          "text": [
            "\n",
            "Processing Videos in push-up:  61%|██████    | 34/56 [04:41<05:18, 14.46s/it]\u001b[A"
          ]
        },
        {
          "output_type": "stream",
          "name": "stdout",
          "text": [
            "✅ Saved keypoints for push-up_48.mp4 to CSV\n",
            "\n",
            "🎥 Processing Video: push-up_41.mp4\n"
          ]
        },
        {
          "output_type": "stream",
          "name": "stderr",
          "text": [
            "\n",
            "Processing Videos in push-up:  62%|██████▎   | 35/56 [04:47<04:08, 11.82s/it]\u001b[A"
          ]
        },
        {
          "output_type": "stream",
          "name": "stdout",
          "text": [
            "✅ Saved keypoints for push-up_41.mp4 to CSV\n",
            "\n",
            "🎥 Processing Video: push-up_49.mp4\n"
          ]
        },
        {
          "output_type": "stream",
          "name": "stderr",
          "text": [
            "\n",
            "Processing Videos in push-up:  64%|██████▍   | 36/56 [04:54<03:27, 10.38s/it]\u001b[A"
          ]
        },
        {
          "output_type": "stream",
          "name": "stdout",
          "text": [
            "✅ Saved keypoints for push-up_49.mp4 to CSV\n",
            "\n",
            "🎥 Processing Video: push-up_40.mp4\n"
          ]
        },
        {
          "output_type": "stream",
          "name": "stderr",
          "text": [
            "\n",
            "Processing Videos in push-up:  66%|██████▌   | 37/56 [05:02<03:03,  9.67s/it]\u001b[A"
          ]
        },
        {
          "output_type": "stream",
          "name": "stdout",
          "text": [
            "✅ Saved keypoints for push-up_40.mp4 to CSV\n",
            "\n",
            "🎥 Processing Video: push-up_45.mp4\n"
          ]
        },
        {
          "output_type": "stream",
          "name": "stderr",
          "text": [
            "\n",
            "Processing Videos in push-up:  68%|██████▊   | 38/56 [05:10<02:43,  9.06s/it]\u001b[A"
          ]
        },
        {
          "output_type": "stream",
          "name": "stdout",
          "text": [
            "✅ Saved keypoints for push-up_45.mp4 to CSV\n",
            "\n",
            "🎥 Processing Video: push-up_43.mp4\n"
          ]
        },
        {
          "output_type": "stream",
          "name": "stderr",
          "text": [
            "\n",
            "Processing Videos in push-up:  70%|██████▉   | 39/56 [05:15<02:12,  7.80s/it]\u001b[A"
          ]
        },
        {
          "output_type": "stream",
          "name": "stdout",
          "text": [
            "✅ Saved keypoints for push-up_43.mp4 to CSV\n",
            "\n",
            "🎥 Processing Video: push-up_51.mp4\n"
          ]
        },
        {
          "output_type": "stream",
          "name": "stderr",
          "text": [
            "\n",
            "Processing Videos in push-up:  71%|███████▏  | 40/56 [05:21<02:00,  7.53s/it]\u001b[A"
          ]
        },
        {
          "output_type": "stream",
          "name": "stdout",
          "text": [
            "✅ Saved keypoints for push-up_51.mp4 to CSV\n",
            "\n",
            "🎥 Processing Video: push-up_35.mp4\n"
          ]
        },
        {
          "output_type": "stream",
          "name": "stderr",
          "text": [
            "\n",
            "Processing Videos in push-up:  73%|███████▎  | 41/56 [05:30<01:56,  7.79s/it]\u001b[A"
          ]
        },
        {
          "output_type": "stream",
          "name": "stdout",
          "text": [
            "✅ Saved keypoints for push-up_35.mp4 to CSV\n",
            "\n",
            "🎥 Processing Video: push-up_36.mp4\n"
          ]
        },
        {
          "output_type": "stream",
          "name": "stderr",
          "text": [
            "\n",
            "Processing Videos in push-up:  75%|███████▌  | 42/56 [05:37<01:45,  7.55s/it]\u001b[A"
          ]
        },
        {
          "output_type": "stream",
          "name": "stdout",
          "text": [
            "✅ Saved keypoints for push-up_36.mp4 to CSV\n",
            "\n",
            "🎥 Processing Video: push-up_46.mp4\n"
          ]
        },
        {
          "output_type": "stream",
          "name": "stderr",
          "text": [
            "\n",
            "Processing Videos in push-up:  77%|███████▋  | 43/56 [05:45<01:39,  7.68s/it]\u001b[A"
          ]
        },
        {
          "output_type": "stream",
          "name": "stdout",
          "text": [
            "✅ Saved keypoints for push-up_46.mp4 to CSV\n",
            "\n",
            "🎥 Processing Video: push-up_44.mp4\n"
          ]
        },
        {
          "output_type": "stream",
          "name": "stderr",
          "text": [
            "\n",
            "Processing Videos in push-up:  79%|███████▊  | 44/56 [05:50<01:22,  6.90s/it]\u001b[A"
          ]
        },
        {
          "output_type": "stream",
          "name": "stdout",
          "text": [
            "✅ Saved keypoints for push-up_44.mp4 to CSV\n",
            "\n",
            "🎥 Processing Video: push-up_37.mp4\n"
          ]
        },
        {
          "output_type": "stream",
          "name": "stderr",
          "text": [
            "\n",
            "Processing Videos in push-up:  80%|████████  | 45/56 [05:58<01:21,  7.37s/it]\u001b[A"
          ]
        },
        {
          "output_type": "stream",
          "name": "stdout",
          "text": [
            "✅ Saved keypoints for push-up_37.mp4 to CSV\n",
            "\n",
            "🎥 Processing Video: push-up_39.mp4\n"
          ]
        },
        {
          "output_type": "stream",
          "name": "stderr",
          "text": [
            "\n",
            "Processing Videos in push-up:  82%|████████▏ | 46/56 [06:05<01:12,  7.23s/it]\u001b[A"
          ]
        },
        {
          "output_type": "stream",
          "name": "stdout",
          "text": [
            "✅ Saved keypoints for push-up_39.mp4 to CSV\n",
            "\n",
            "🎥 Processing Video: push-up_54.mp4\n"
          ]
        },
        {
          "output_type": "stream",
          "name": "stderr",
          "text": [
            "\n",
            "Processing Videos in push-up:  84%|████████▍ | 47/56 [06:39<02:16, 15.17s/it]\u001b[A"
          ]
        },
        {
          "output_type": "stream",
          "name": "stdout",
          "text": [
            "✅ Saved keypoints for push-up_54.mp4 to CSV\n",
            "\n",
            "🎥 Processing Video: push-up_55.mp4\n"
          ]
        },
        {
          "output_type": "stream",
          "name": "stderr",
          "text": [
            "\n",
            "Processing Videos in push-up:  86%|████████▌ | 48/56 [07:00<02:14, 16.83s/it]\u001b[A"
          ]
        },
        {
          "output_type": "stream",
          "name": "stdout",
          "text": [
            "✅ Saved keypoints for push-up_55.mp4 to CSV\n",
            "\n",
            "🎥 Processing Video: push-up_38.mp4\n"
          ]
        },
        {
          "output_type": "stream",
          "name": "stderr",
          "text": [
            "\n",
            "Processing Videos in push-up:  88%|████████▊ | 49/56 [07:08<01:40, 14.29s/it]\u001b[A"
          ]
        },
        {
          "output_type": "stream",
          "name": "stdout",
          "text": [
            "✅ Saved keypoints for push-up_38.mp4 to CSV\n",
            "\n",
            "🎥 Processing Video: push-up_5.mp4\n"
          ]
        },
        {
          "output_type": "stream",
          "name": "stderr",
          "text": [
            "\n",
            "Processing Videos in push-up:  89%|████████▉ | 50/56 [07:15<01:12, 12.06s/it]\u001b[A"
          ]
        },
        {
          "output_type": "stream",
          "name": "stdout",
          "text": [
            "✅ Saved keypoints for push-up_5.mp4 to CSV\n",
            "\n",
            "🎥 Processing Video: push-up_47.mp4\n"
          ]
        },
        {
          "output_type": "stream",
          "name": "stderr",
          "text": [
            "\n",
            "Processing Videos in push-up:  91%|█████████ | 51/56 [07:21<00:52, 10.41s/it]\u001b[A"
          ]
        },
        {
          "output_type": "stream",
          "name": "stdout",
          "text": [
            "✅ Saved keypoints for push-up_47.mp4 to CSV\n",
            "\n",
            "🎥 Processing Video: push-up_9.mp4\n"
          ]
        },
        {
          "output_type": "stream",
          "name": "stderr",
          "text": [
            "\n",
            "Processing Videos in push-up:  93%|█████████▎| 52/56 [07:30<00:39,  9.82s/it]\u001b[A"
          ]
        },
        {
          "output_type": "stream",
          "name": "stdout",
          "text": [
            "✅ Saved keypoints for push-up_9.mp4 to CSV\n",
            "\n",
            "🎥 Processing Video: push-up_56.mp4\n"
          ]
        },
        {
          "output_type": "stream",
          "name": "stderr",
          "text": [
            "\n",
            "Processing Videos in push-up:  95%|█████████▍| 53/56 [07:55<00:43, 14.50s/it]\u001b[A"
          ]
        },
        {
          "output_type": "stream",
          "name": "stdout",
          "text": [
            "✅ Saved keypoints for push-up_56.mp4 to CSV\n",
            "\n",
            "🎥 Processing Video: push-up_6.mp4\n"
          ]
        },
        {
          "output_type": "stream",
          "name": "stderr",
          "text": [
            "\n",
            "Processing Videos in push-up:  96%|█████████▋| 54/56 [08:04<00:25, 12.67s/it]\u001b[A"
          ]
        },
        {
          "output_type": "stream",
          "name": "stdout",
          "text": [
            "✅ Saved keypoints for push-up_6.mp4 to CSV\n",
            "\n",
            "🎥 Processing Video: push-up_8.mp4\n"
          ]
        },
        {
          "output_type": "stream",
          "name": "stderr",
          "text": [
            "\n",
            "Processing Videos in push-up:  98%|█████████▊| 55/56 [08:10<00:10, 10.88s/it]\u001b[A"
          ]
        },
        {
          "output_type": "stream",
          "name": "stdout",
          "text": [
            "✅ Saved keypoints for push-up_8.mp4 to CSV\n",
            "\n",
            "🎥 Processing Video: push-up_7.mp4\n"
          ]
        },
        {
          "output_type": "stream",
          "name": "stderr",
          "text": [
            "\n",
            "Processing Videos in push-up: 100%|██████████| 56/56 [08:19<00:00,  8.93s/it]\n",
            "Processing Exercise Folders:  45%|████▌     | 10/22 [46:34<1:04:36, 323.03s/it]"
          ]
        },
        {
          "output_type": "stream",
          "name": "stdout",
          "text": [
            "✅ Saved keypoints for push-up_7.mp4 to CSV\n",
            "\n",
            "📂 Processing Exercise: deadlift\n",
            "\n"
          ]
        },
        {
          "output_type": "stream",
          "name": "stderr",
          "text": [
            "\n",
            "Processing Videos in deadlift:   0%|          | 0/32 [00:00<?, ?it/s]\u001b[A"
          ]
        },
        {
          "output_type": "stream",
          "name": "stdout",
          "text": [
            "🎥 Processing Video: deadlift_18.mp4\n"
          ]
        },
        {
          "output_type": "stream",
          "name": "stderr",
          "text": [
            "\n",
            "Processing Videos in deadlift:   3%|▎         | 1/32 [00:04<02:29,  4.84s/it]\u001b[A"
          ]
        },
        {
          "output_type": "stream",
          "name": "stdout",
          "text": [
            "✅ Saved keypoints for deadlift_18.mp4 to CSV\n",
            "\n",
            "🎥 Processing Video: deadlift_15.mp4\n"
          ]
        },
        {
          "output_type": "stream",
          "name": "stderr",
          "text": [
            "\n",
            "Processing Videos in deadlift:   6%|▋         | 2/32 [00:08<01:58,  3.97s/it]\u001b[A"
          ]
        },
        {
          "output_type": "stream",
          "name": "stdout",
          "text": [
            "✅ Saved keypoints for deadlift_15.mp4 to CSV\n",
            "\n",
            "🎥 Processing Video: deadlift_10.mp4\n"
          ]
        },
        {
          "output_type": "stream",
          "name": "stderr",
          "text": [
            "\n",
            "Processing Videos in deadlift:   9%|▉         | 3/32 [00:16<02:56,  6.08s/it]\u001b[A"
          ]
        },
        {
          "output_type": "stream",
          "name": "stdout",
          "text": [
            "✅ Saved keypoints for deadlift_10.mp4 to CSV\n",
            "\n",
            "🎥 Processing Video: deadlift_28.mp4\n"
          ]
        },
        {
          "output_type": "stream",
          "name": "stderr",
          "text": [
            "\n",
            "Processing Videos in deadlift:  12%|█▎        | 4/32 [00:25<03:20,  7.16s/it]\u001b[A"
          ]
        },
        {
          "output_type": "stream",
          "name": "stdout",
          "text": [
            "✅ Saved keypoints for deadlift_28.mp4 to CSV\n",
            "\n",
            "🎥 Processing Video: deadlift_23.mp4\n"
          ]
        },
        {
          "output_type": "stream",
          "name": "stderr",
          "text": [
            "\n",
            "Processing Videos in deadlift:  16%|█▌        | 5/32 [00:29<02:46,  6.16s/it]\u001b[A"
          ]
        },
        {
          "output_type": "stream",
          "name": "stdout",
          "text": [
            "✅ Saved keypoints for deadlift_23.mp4 to CSV\n",
            "\n",
            "🎥 Processing Video: deadlift_12.mp4\n"
          ]
        },
        {
          "output_type": "stream",
          "name": "stderr",
          "text": [
            "\n",
            "Processing Videos in deadlift:  19%|█▉        | 6/32 [00:34<02:27,  5.66s/it]\u001b[A"
          ]
        },
        {
          "output_type": "stream",
          "name": "stdout",
          "text": [
            "✅ Saved keypoints for deadlift_12.mp4 to CSV\n",
            "\n",
            "🎥 Processing Video: deadlift_27.mp4\n"
          ]
        },
        {
          "output_type": "stream",
          "name": "stderr",
          "text": [
            "\n",
            "Processing Videos in deadlift:  22%|██▏       | 7/32 [00:43<02:46,  6.67s/it]\u001b[A"
          ]
        },
        {
          "output_type": "stream",
          "name": "stdout",
          "text": [
            "✅ Saved keypoints for deadlift_27.mp4 to CSV\n",
            "\n",
            "🎥 Processing Video: deadlift_19.mp4\n"
          ]
        },
        {
          "output_type": "stream",
          "name": "stderr",
          "text": [
            "\n",
            "Processing Videos in deadlift:  25%|██▌       | 8/32 [00:46<02:14,  5.60s/it]\u001b[A"
          ]
        },
        {
          "output_type": "stream",
          "name": "stdout",
          "text": [
            "✅ Saved keypoints for deadlift_19.mp4 to CSV\n",
            "\n",
            "🎥 Processing Video: deadlift_26.mp4\n"
          ]
        },
        {
          "output_type": "stream",
          "name": "stderr",
          "text": [
            "\n",
            "Processing Videos in deadlift:  28%|██▊       | 9/32 [00:55<02:31,  6.58s/it]\u001b[A"
          ]
        },
        {
          "output_type": "stream",
          "name": "stdout",
          "text": [
            "✅ Saved keypoints for deadlift_26.mp4 to CSV\n",
            "\n",
            "🎥 Processing Video: deadlift_2.mp4\n"
          ]
        },
        {
          "output_type": "stream",
          "name": "stderr",
          "text": [
            "\n",
            "Processing Videos in deadlift:  31%|███▏      | 10/32 [01:02<02:27,  6.70s/it]\u001b[A"
          ]
        },
        {
          "output_type": "stream",
          "name": "stdout",
          "text": [
            "✅ Saved keypoints for deadlift_2.mp4 to CSV\n",
            "\n",
            "🎥 Processing Video: deadlift_11.mp4\n"
          ]
        },
        {
          "output_type": "stream",
          "name": "stderr",
          "text": [
            "\n",
            "Processing Videos in deadlift:  34%|███▍      | 11/32 [01:09<02:20,  6.70s/it]\u001b[A"
          ]
        },
        {
          "output_type": "stream",
          "name": "stdout",
          "text": [
            "✅ Saved keypoints for deadlift_11.mp4 to CSV\n",
            "\n",
            "🎥 Processing Video: deadlift_14.mp4\n"
          ]
        },
        {
          "output_type": "stream",
          "name": "stderr",
          "text": [
            "\n",
            "Processing Videos in deadlift:  38%|███▊      | 12/32 [01:16<02:16,  6.85s/it]\u001b[A"
          ]
        },
        {
          "output_type": "stream",
          "name": "stdout",
          "text": [
            "✅ Saved keypoints for deadlift_14.mp4 to CSV\n",
            "\n",
            "🎥 Processing Video: deadlift_21.mp4\n"
          ]
        },
        {
          "output_type": "stream",
          "name": "stderr",
          "text": [
            "\n",
            "Processing Videos in deadlift:  41%|████      | 13/32 [01:26<02:31,  7.99s/it]\u001b[A"
          ]
        },
        {
          "output_type": "stream",
          "name": "stdout",
          "text": [
            "✅ Saved keypoints for deadlift_21.mp4 to CSV\n",
            "\n",
            "🎥 Processing Video: deadlift_24.mp4\n"
          ]
        },
        {
          "output_type": "stream",
          "name": "stderr",
          "text": [
            "\n",
            "Processing Videos in deadlift:  44%|████▍     | 14/32 [01:31<02:07,  7.09s/it]\u001b[A"
          ]
        },
        {
          "output_type": "stream",
          "name": "stdout",
          "text": [
            "✅ Saved keypoints for deadlift_24.mp4 to CSV\n",
            "\n",
            "🎥 Processing Video: deadlift_13.mp4\n"
          ]
        },
        {
          "output_type": "stream",
          "name": "stderr",
          "text": [
            "\n",
            "Processing Videos in deadlift:  47%|████▋     | 15/32 [01:45<02:32,  8.96s/it]\u001b[A"
          ]
        },
        {
          "output_type": "stream",
          "name": "stdout",
          "text": [
            "✅ Saved keypoints for deadlift_13.mp4 to CSV\n",
            "\n",
            "🎥 Processing Video: deadlift_20.mp4\n"
          ]
        },
        {
          "output_type": "stream",
          "name": "stderr",
          "text": [
            "\n",
            "Processing Videos in deadlift:  50%|█████     | 16/32 [01:48<01:54,  7.17s/it]\u001b[A"
          ]
        },
        {
          "output_type": "stream",
          "name": "stdout",
          "text": [
            "✅ Saved keypoints for deadlift_20.mp4 to CSV\n",
            "\n",
            "🎥 Processing Video: deadlift_16.mp4\n"
          ]
        },
        {
          "output_type": "stream",
          "name": "stderr",
          "text": [
            "\n",
            "Processing Videos in deadlift:  53%|█████▎    | 17/32 [01:55<01:45,  7.05s/it]\u001b[A"
          ]
        },
        {
          "output_type": "stream",
          "name": "stdout",
          "text": [
            "✅ Saved keypoints for deadlift_16.mp4 to CSV\n",
            "\n",
            "🎥 Processing Video: deadlift_1.mp4\n"
          ]
        },
        {
          "output_type": "stream",
          "name": "stderr",
          "text": [
            "\n",
            "Processing Videos in deadlift:  56%|█████▋    | 18/32 [02:01<01:37,  6.93s/it]\u001b[A"
          ]
        },
        {
          "output_type": "stream",
          "name": "stdout",
          "text": [
            "✅ Saved keypoints for deadlift_1.mp4 to CSV\n",
            "\n",
            "🎥 Processing Video: deadlift_17.mp4\n"
          ]
        },
        {
          "output_type": "stream",
          "name": "stderr",
          "text": [
            "\n",
            "Processing Videos in deadlift:  59%|█████▉    | 19/32 [02:10<01:35,  7.36s/it]\u001b[A"
          ]
        },
        {
          "output_type": "stream",
          "name": "stdout",
          "text": [
            "✅ Saved keypoints for deadlift_17.mp4 to CSV\n",
            "\n",
            "🎥 Processing Video: deadlift_22.mp4\n"
          ]
        },
        {
          "output_type": "stream",
          "name": "stderr",
          "text": [
            "\n",
            "Processing Videos in deadlift:  62%|██████▎   | 20/32 [02:13<01:14,  6.22s/it]\u001b[A"
          ]
        },
        {
          "output_type": "stream",
          "name": "stdout",
          "text": [
            "✅ Saved keypoints for deadlift_22.mp4 to CSV\n",
            "\n",
            "🎥 Processing Video: deadlift_25.mp4\n"
          ]
        },
        {
          "output_type": "stream",
          "name": "stderr",
          "text": [
            "\n",
            "Processing Videos in deadlift:  66%|██████▌   | 21/32 [02:57<03:11, 17.45s/it]\u001b[A"
          ]
        },
        {
          "output_type": "stream",
          "name": "stdout",
          "text": [
            "✅ Saved keypoints for deadlift_25.mp4 to CSV\n",
            "\n",
            "🎥 Processing Video: deadlift_29.mp4\n"
          ]
        },
        {
          "output_type": "stream",
          "name": "stderr",
          "text": [
            "\n",
            "Processing Videos in deadlift:  69%|██████▉   | 22/32 [03:01<02:15, 13.57s/it]\u001b[A"
          ]
        },
        {
          "output_type": "stream",
          "name": "stdout",
          "text": [
            "✅ Saved keypoints for deadlift_29.mp4 to CSV\n",
            "\n",
            "🎥 Processing Video: deadlift_6.mp4\n"
          ]
        },
        {
          "output_type": "stream",
          "name": "stderr",
          "text": [
            "\n",
            "Processing Videos in deadlift:  72%|███████▏  | 23/32 [03:10<01:48, 12.08s/it]\u001b[A"
          ]
        },
        {
          "output_type": "stream",
          "name": "stdout",
          "text": [
            "✅ Saved keypoints for deadlift_6.mp4 to CSV\n",
            "\n",
            "🎥 Processing Video: deadlift_8.mp4\n"
          ]
        },
        {
          "output_type": "stream",
          "name": "stderr",
          "text": [
            "\n",
            "Processing Videos in deadlift:  75%|███████▌  | 24/32 [03:17<01:24, 10.53s/it]\u001b[A"
          ]
        },
        {
          "output_type": "stream",
          "name": "stdout",
          "text": [
            "✅ Saved keypoints for deadlift_8.mp4 to CSV\n",
            "\n",
            "🎥 Processing Video: deadlift_4.mp4\n"
          ]
        },
        {
          "output_type": "stream",
          "name": "stderr",
          "text": [
            "\n",
            "Processing Videos in deadlift:  78%|███████▊  | 25/32 [03:25<01:09,  9.94s/it]\u001b[A"
          ]
        },
        {
          "output_type": "stream",
          "name": "stdout",
          "text": [
            "✅ Saved keypoints for deadlift_4.mp4 to CSV\n",
            "\n",
            "🎥 Processing Video: deadlift_3.mp4\n"
          ]
        },
        {
          "output_type": "stream",
          "name": "stderr",
          "text": [
            "\n",
            "Processing Videos in deadlift:  81%|████████▏ | 26/32 [03:33<00:54,  9.16s/it]\u001b[A"
          ]
        },
        {
          "output_type": "stream",
          "name": "stdout",
          "text": [
            "✅ Saved keypoints for deadlift_3.mp4 to CSV\n",
            "\n",
            "🎥 Processing Video: deadlift_32.mp4\n"
          ]
        },
        {
          "output_type": "stream",
          "name": "stderr",
          "text": [
            "\n",
            "Processing Videos in deadlift:  84%|████████▍ | 27/32 [03:38<00:40,  8.09s/it]\u001b[A"
          ]
        },
        {
          "output_type": "stream",
          "name": "stdout",
          "text": [
            "✅ Saved keypoints for deadlift_32.mp4 to CSV\n",
            "\n",
            "🎥 Processing Video: deadlift_31.mp4\n"
          ]
        },
        {
          "output_type": "stream",
          "name": "stderr",
          "text": [
            "\n",
            "Processing Videos in deadlift:  88%|████████▊ | 28/32 [03:45<00:30,  7.62s/it]\u001b[A"
          ]
        },
        {
          "output_type": "stream",
          "name": "stdout",
          "text": [
            "✅ Saved keypoints for deadlift_31.mp4 to CSV\n",
            "\n",
            "🎥 Processing Video: deadlift_7.mp4\n"
          ]
        },
        {
          "output_type": "stream",
          "name": "stderr",
          "text": [
            "\n",
            "Processing Videos in deadlift:  91%|█████████ | 29/32 [03:53<00:23,  7.89s/it]\u001b[A"
          ]
        },
        {
          "output_type": "stream",
          "name": "stdout",
          "text": [
            "✅ Saved keypoints for deadlift_7.mp4 to CSV\n",
            "\n",
            "🎥 Processing Video: deadlift_5.mp4\n"
          ]
        },
        {
          "output_type": "stream",
          "name": "stderr",
          "text": [
            "\n",
            "Processing Videos in deadlift:  94%|█████████▍| 30/32 [04:00<00:15,  7.55s/it]\u001b[A"
          ]
        },
        {
          "output_type": "stream",
          "name": "stdout",
          "text": [
            "✅ Saved keypoints for deadlift_5.mp4 to CSV\n",
            "\n",
            "🎥 Processing Video: deadlift_30.mp4\n"
          ]
        },
        {
          "output_type": "stream",
          "name": "stderr",
          "text": [
            "\n",
            "Processing Videos in deadlift:  97%|█████████▋| 31/32 [04:09<00:07,  8.00s/it]\u001b[A"
          ]
        },
        {
          "output_type": "stream",
          "name": "stdout",
          "text": [
            "✅ Saved keypoints for deadlift_30.mp4 to CSV\n",
            "\n",
            "🎥 Processing Video: deadlift_9.mp4\n"
          ]
        },
        {
          "output_type": "stream",
          "name": "stderr",
          "text": [
            "\n",
            "Processing Videos in deadlift: 100%|██████████| 32/32 [04:17<00:00,  8.04s/it]\n",
            "Processing Exercise Folders:  50%|█████     | 11/22 [50:51<55:31, 302.91s/it]  "
          ]
        },
        {
          "output_type": "stream",
          "name": "stdout",
          "text": [
            "✅ Saved keypoints for deadlift_9.mp4 to CSV\n",
            "\n",
            "📂 Processing Exercise: leg extension\n",
            "\n"
          ]
        },
        {
          "output_type": "stream",
          "name": "stderr",
          "text": [
            "\n",
            "Processing Videos in leg extension:   0%|          | 0/19 [00:00<?, ?it/s]\u001b[A"
          ]
        },
        {
          "output_type": "stream",
          "name": "stdout",
          "text": [
            "🎥 Processing Video: leg extension_13.mp4\n"
          ]
        },
        {
          "output_type": "stream",
          "name": "stderr",
          "text": [
            "\n",
            "Processing Videos in leg extension:   5%|▌         | 1/19 [00:06<01:58,  6.56s/it]\u001b[A"
          ]
        },
        {
          "output_type": "stream",
          "name": "stdout",
          "text": [
            "✅ Saved keypoints for leg extension_13.mp4 to CSV\n",
            "\n",
            "🎥 Processing Video: leg extension_17.mp4\n"
          ]
        },
        {
          "output_type": "stream",
          "name": "stderr",
          "text": [
            "\n",
            "Processing Videos in leg extension:  11%|█         | 2/19 [00:18<02:47,  9.85s/it]\u001b[A"
          ]
        },
        {
          "output_type": "stream",
          "name": "stdout",
          "text": [
            "✅ Saved keypoints for leg extension_17.mp4 to CSV\n",
            "\n",
            "🎥 Processing Video: leg extension_21.mp4\n"
          ]
        },
        {
          "output_type": "stream",
          "name": "stderr",
          "text": [
            "\n",
            "Processing Videos in leg extension:  16%|█▌        | 3/19 [00:25<02:14,  8.38s/it]\u001b[A"
          ]
        },
        {
          "output_type": "stream",
          "name": "stdout",
          "text": [
            "✅ Saved keypoints for leg extension_21.mp4 to CSV\n",
            "\n",
            "🎥 Processing Video: leg extension_11.mp4\n"
          ]
        },
        {
          "output_type": "stream",
          "name": "stderr",
          "text": [
            "\n",
            "Processing Videos in leg extension:  21%|██        | 4/19 [00:32<01:56,  7.79s/it]\u001b[A"
          ]
        },
        {
          "output_type": "stream",
          "name": "stdout",
          "text": [
            "✅ Saved keypoints for leg extension_11.mp4 to CSV\n",
            "\n",
            "🎥 Processing Video: leg extension_18.mp4\n"
          ]
        },
        {
          "output_type": "stream",
          "name": "stderr",
          "text": [
            "\n",
            "Processing Videos in leg extension:  26%|██▋       | 5/19 [00:53<02:56, 12.61s/it]\u001b[A"
          ]
        },
        {
          "output_type": "stream",
          "name": "stdout",
          "text": [
            "✅ Saved keypoints for leg extension_18.mp4 to CSV\n",
            "\n",
            "🎥 Processing Video: leg extension_12.mp4\n"
          ]
        },
        {
          "output_type": "stream",
          "name": "stderr",
          "text": [
            "\n",
            "Processing Videos in leg extension:  32%|███▏      | 6/19 [00:59<02:15, 10.41s/it]\u001b[A"
          ]
        },
        {
          "output_type": "stream",
          "name": "stdout",
          "text": [
            "✅ Saved keypoints for leg extension_12.mp4 to CSV\n",
            "\n",
            "🎥 Processing Video: leg extension_15.mp4\n"
          ]
        },
        {
          "output_type": "stream",
          "name": "stderr",
          "text": [
            "\n",
            "Processing Videos in leg extension:  37%|███▋      | 7/19 [01:06<01:52,  9.38s/it]\u001b[A"
          ]
        },
        {
          "output_type": "stream",
          "name": "stdout",
          "text": [
            "✅ Saved keypoints for leg extension_15.mp4 to CSV\n",
            "\n",
            "🎥 Processing Video: leg extension_10.mp4\n"
          ]
        },
        {
          "output_type": "stream",
          "name": "stderr",
          "text": [
            "\n",
            "Processing Videos in leg extension:  42%|████▏     | 8/19 [01:16<01:43,  9.42s/it]\u001b[A"
          ]
        },
        {
          "output_type": "stream",
          "name": "stdout",
          "text": [
            "✅ Saved keypoints for leg extension_10.mp4 to CSV\n",
            "\n",
            "🎥 Processing Video: leg extension_16.mp4\n"
          ]
        },
        {
          "output_type": "stream",
          "name": "stderr",
          "text": [
            "\n",
            "Processing Videos in leg extension:  47%|████▋     | 9/19 [01:32<01:56, 11.65s/it]\u001b[A"
          ]
        },
        {
          "output_type": "stream",
          "name": "stdout",
          "text": [
            "✅ Saved keypoints for leg extension_16.mp4 to CSV\n",
            "\n",
            "🎥 Processing Video: leg extension_14.mp4\n"
          ]
        },
        {
          "output_type": "stream",
          "name": "stderr",
          "text": [
            "\n",
            "Processing Videos in leg extension:  53%|█████▎    | 10/19 [01:36<01:22,  9.22s/it]\u001b[A"
          ]
        },
        {
          "output_type": "stream",
          "name": "stdout",
          "text": [
            "✅ Saved keypoints for leg extension_14.mp4 to CSV\n",
            "\n",
            "🎥 Processing Video: leg extension_19.mp4\n"
          ]
        },
        {
          "output_type": "stream",
          "name": "stderr",
          "text": [
            "\n",
            "Processing Videos in leg extension:  58%|█████▊    | 11/19 [01:42<01:05,  8.18s/it]\u001b[A"
          ]
        },
        {
          "output_type": "stream",
          "name": "stdout",
          "text": [
            "✅ Saved keypoints for leg extension_19.mp4 to CSV\n",
            "\n",
            "🎥 Processing Video: leg extension_20.mp4\n"
          ]
        },
        {
          "output_type": "stream",
          "name": "stderr",
          "text": [
            "\n",
            "Processing Videos in leg extension:  63%|██████▎   | 12/19 [01:59<01:15, 10.73s/it]\u001b[A"
          ]
        },
        {
          "output_type": "stream",
          "name": "stdout",
          "text": [
            "✅ Saved keypoints for leg extension_20.mp4 to CSV\n",
            "\n",
            "🎥 Processing Video: leg extension_25.mp4\n"
          ]
        },
        {
          "output_type": "stream",
          "name": "stderr",
          "text": [
            "\n",
            "Processing Videos in leg extension:  68%|██████▊   | 13/19 [02:11<01:07, 11.31s/it]\u001b[A"
          ]
        },
        {
          "output_type": "stream",
          "name": "stdout",
          "text": [
            "✅ Saved keypoints for leg extension_25.mp4 to CSV\n",
            "\n",
            "🎥 Processing Video: leg extension_22.mp4\n"
          ]
        },
        {
          "output_type": "stream",
          "name": "stderr",
          "text": [
            "\n",
            "Processing Videos in leg extension:  74%|███████▎  | 14/19 [02:20<00:52, 10.47s/it]\u001b[A"
          ]
        },
        {
          "output_type": "stream",
          "name": "stdout",
          "text": [
            "✅ Saved keypoints for leg extension_22.mp4 to CSV\n",
            "\n",
            "🎥 Processing Video: leg extension_23.mp4\n"
          ]
        },
        {
          "output_type": "stream",
          "name": "stderr",
          "text": [
            "\n",
            "Processing Videos in leg extension:  79%|███████▉  | 15/19 [02:29<00:40, 10.12s/it]\u001b[A"
          ]
        },
        {
          "output_type": "stream",
          "name": "stdout",
          "text": [
            "✅ Saved keypoints for leg extension_23.mp4 to CSV\n",
            "\n",
            "🎥 Processing Video: leg extension_24.mp4\n"
          ]
        },
        {
          "output_type": "stream",
          "name": "stderr",
          "text": [
            "\n",
            "Processing Videos in leg extension:  84%|████████▍ | 16/19 [02:38<00:29,  9.87s/it]\u001b[A"
          ]
        },
        {
          "output_type": "stream",
          "name": "stdout",
          "text": [
            "✅ Saved keypoints for leg extension_24.mp4 to CSV\n",
            "\n",
            "🎥 Processing Video: leg extension_8.mp4\n"
          ]
        },
        {
          "output_type": "stream",
          "name": "stderr",
          "text": [
            "\n",
            "Processing Videos in leg extension:  89%|████████▉ | 17/19 [02:47<00:18,  9.50s/it]\u001b[A"
          ]
        },
        {
          "output_type": "stream",
          "name": "stdout",
          "text": [
            "✅ Saved keypoints for leg extension_8.mp4 to CSV\n",
            "\n",
            "🎥 Processing Video: leg extension_7.mp4\n"
          ]
        },
        {
          "output_type": "stream",
          "name": "stderr",
          "text": [
            "\n",
            "Processing Videos in leg extension:  95%|█████████▍| 18/19 [02:50<00:07,  7.67s/it]\u001b[A"
          ]
        },
        {
          "output_type": "stream",
          "name": "stdout",
          "text": [
            "✅ Saved keypoints for leg extension_7.mp4 to CSV\n",
            "\n",
            "🎥 Processing Video: leg extension_9.mp4\n"
          ]
        },
        {
          "output_type": "stream",
          "name": "stderr",
          "text": [
            "\n",
            "Processing Videos in leg extension: 100%|██████████| 19/19 [02:53<00:00,  9.14s/it]\n",
            "Processing Exercise Folders:  55%|█████▍    | 12/22 [53:45<43:55, 263.59s/it]"
          ]
        },
        {
          "output_type": "stream",
          "name": "stdout",
          "text": [
            "✅ Saved keypoints for leg extension_9.mp4 to CSV\n",
            "\n",
            "📂 Processing Exercise: chest fly machine\n",
            "\n"
          ]
        },
        {
          "output_type": "stream",
          "name": "stderr",
          "text": [
            "\n",
            "Processing Videos in chest fly machine:   0%|          | 0/28 [00:00<?, ?it/s]\u001b[A"
          ]
        },
        {
          "output_type": "stream",
          "name": "stdout",
          "text": [
            "🎥 Processing Video: chest fly machine_21.mp4\n"
          ]
        },
        {
          "output_type": "stream",
          "name": "stderr",
          "text": [
            "\n",
            "Processing Videos in chest fly machine:   4%|▎         | 1/28 [00:10<04:54, 10.90s/it]\u001b[A"
          ]
        },
        {
          "output_type": "stream",
          "name": "stdout",
          "text": [
            "✅ Saved keypoints for chest fly machine_21.mp4 to CSV\n",
            "\n",
            "🎥 Processing Video: chest fly machine_20.mp4\n"
          ]
        },
        {
          "output_type": "stream",
          "name": "stderr",
          "text": [
            "\n",
            "Processing Videos in chest fly machine:   7%|▋         | 2/28 [00:21<04:42, 10.86s/it]\u001b[A"
          ]
        },
        {
          "output_type": "stream",
          "name": "stdout",
          "text": [
            "✅ Saved keypoints for chest fly machine_20.mp4 to CSV\n",
            "\n",
            "🎥 Processing Video: chest fly machine_2.mp4\n"
          ]
        },
        {
          "output_type": "stream",
          "name": "stderr",
          "text": [
            "\n",
            "Processing Videos in chest fly machine:  11%|█         | 3/28 [00:26<03:27,  8.30s/it]\u001b[A"
          ]
        },
        {
          "output_type": "stream",
          "name": "stdout",
          "text": [
            "✅ Saved keypoints for chest fly machine_2.mp4 to CSV\n",
            "\n",
            "🎥 Processing Video: chest fly machine_24.mp4\n"
          ]
        },
        {
          "output_type": "stream",
          "name": "stderr",
          "text": [
            "\n",
            "Processing Videos in chest fly machine:  14%|█▍        | 4/28 [00:35<03:25,  8.57s/it]\u001b[A"
          ]
        },
        {
          "output_type": "stream",
          "name": "stdout",
          "text": [
            "✅ Saved keypoints for chest fly machine_24.mp4 to CSV\n",
            "\n",
            "🎥 Processing Video: chest fly machine_25.mp4\n"
          ]
        },
        {
          "output_type": "stream",
          "name": "stderr",
          "text": [
            "\n",
            "Processing Videos in chest fly machine:  18%|█▊        | 5/28 [00:48<03:48,  9.94s/it]\u001b[A"
          ]
        },
        {
          "output_type": "stream",
          "name": "stdout",
          "text": [
            "✅ Saved keypoints for chest fly machine_25.mp4 to CSV\n",
            "\n",
            "🎥 Processing Video: chest fly machine_17.mp4\n"
          ]
        },
        {
          "output_type": "stream",
          "name": "stderr",
          "text": [
            "\n",
            "Processing Videos in chest fly machine:  21%|██▏       | 6/28 [00:54<03:11,  8.70s/it]\u001b[A"
          ]
        },
        {
          "output_type": "stream",
          "name": "stdout",
          "text": [
            "✅ Saved keypoints for chest fly machine_17.mp4 to CSV\n",
            "\n",
            "🎥 Processing Video: chest fly machine_16.mp4\n"
          ]
        },
        {
          "output_type": "stream",
          "name": "stderr",
          "text": [
            "\n",
            "Processing Videos in chest fly machine:  25%|██▌       | 7/28 [00:59<02:33,  7.29s/it]\u001b[A"
          ]
        },
        {
          "output_type": "stream",
          "name": "stdout",
          "text": [
            "✅ Saved keypoints for chest fly machine_16.mp4 to CSV\n",
            "\n",
            "🎥 Processing Video: chest fly machine_23.mp4\n"
          ]
        },
        {
          "output_type": "stream",
          "name": "stderr",
          "text": [
            "\n",
            "Processing Videos in chest fly machine:  29%|██▊       | 8/28 [01:18<03:42, 11.14s/it]\u001b[A"
          ]
        },
        {
          "output_type": "stream",
          "name": "stdout",
          "text": [
            "✅ Saved keypoints for chest fly machine_23.mp4 to CSV\n",
            "\n",
            "🎥 Processing Video: chest fly machine_10.mp4\n"
          ]
        },
        {
          "output_type": "stream",
          "name": "stderr",
          "text": [
            "\n",
            "Processing Videos in chest fly machine:  32%|███▏      | 9/28 [01:23<02:53,  9.16s/it]\u001b[A"
          ]
        },
        {
          "output_type": "stream",
          "name": "stdout",
          "text": [
            "✅ Saved keypoints for chest fly machine_10.mp4 to CSV\n",
            "\n",
            "🎥 Processing Video: chest fly machine_11.mp4\n"
          ]
        },
        {
          "output_type": "stream",
          "name": "stderr",
          "text": [
            "\n",
            "Processing Videos in chest fly machine:  36%|███▌      | 10/28 [01:29<02:28,  8.28s/it]\u001b[A"
          ]
        },
        {
          "output_type": "stream",
          "name": "stdout",
          "text": [
            "✅ Saved keypoints for chest fly machine_11.mp4 to CSV\n",
            "\n",
            "🎥 Processing Video: chest fly machine_19.mp4\n"
          ]
        },
        {
          "output_type": "stream",
          "name": "stderr",
          "text": [
            "\n",
            "Processing Videos in chest fly machine:  39%|███▉      | 11/28 [01:45<02:58, 10.52s/it]\u001b[A"
          ]
        },
        {
          "output_type": "stream",
          "name": "stdout",
          "text": [
            "✅ Saved keypoints for chest fly machine_19.mp4 to CSV\n",
            "\n",
            "🎥 Processing Video: chest fly machine_26.mp4\n"
          ]
        },
        {
          "output_type": "stream",
          "name": "stderr",
          "text": [
            "\n",
            "Processing Videos in chest fly machine:  43%|████▎     | 12/28 [02:20<04:47, 17.98s/it]\u001b[A"
          ]
        },
        {
          "output_type": "stream",
          "name": "stdout",
          "text": [
            "✅ Saved keypoints for chest fly machine_26.mp4 to CSV\n",
            "\n",
            "🎥 Processing Video: chest fly machine_1.mp4\n"
          ]
        },
        {
          "output_type": "stream",
          "name": "stderr",
          "text": [
            "\n",
            "Processing Videos in chest fly machine:  46%|████▋     | 13/28 [02:27<03:42, 14.81s/it]\u001b[A"
          ]
        },
        {
          "output_type": "stream",
          "name": "stdout",
          "text": [
            "✅ Saved keypoints for chest fly machine_1.mp4 to CSV\n",
            "\n",
            "🎥 Processing Video: chest fly machine_14.mp4\n"
          ]
        },
        {
          "output_type": "stream",
          "name": "stderr",
          "text": [
            "\n",
            "Processing Videos in chest fly machine:  50%|█████     | 14/28 [02:33<02:50, 12.17s/it]\u001b[A"
          ]
        },
        {
          "output_type": "stream",
          "name": "stdout",
          "text": [
            "✅ Saved keypoints for chest fly machine_14.mp4 to CSV\n",
            "\n",
            "🎥 Processing Video: chest fly machine_22.mp4\n"
          ]
        },
        {
          "output_type": "stream",
          "name": "stderr",
          "text": [
            "\n",
            "Processing Videos in chest fly machine:  54%|█████▎    | 15/28 [02:53<03:06, 14.35s/it]\u001b[A"
          ]
        },
        {
          "output_type": "stream",
          "name": "stdout",
          "text": [
            "✅ Saved keypoints for chest fly machine_22.mp4 to CSV\n",
            "\n",
            "🎥 Processing Video: chest fly machine_15.mp4\n"
          ]
        },
        {
          "output_type": "stream",
          "name": "stderr",
          "text": [
            "\n",
            "Processing Videos in chest fly machine:  57%|█████▋    | 16/28 [03:01<02:31, 12.65s/it]\u001b[A"
          ]
        },
        {
          "output_type": "stream",
          "name": "stdout",
          "text": [
            "✅ Saved keypoints for chest fly machine_15.mp4 to CSV\n",
            "\n",
            "🎥 Processing Video: chest fly machine_18.mp4\n"
          ]
        },
        {
          "output_type": "stream",
          "name": "stderr",
          "text": [
            "\n",
            "Processing Videos in chest fly machine:  61%|██████    | 17/28 [03:08<01:57, 10.71s/it]\u001b[A"
          ]
        },
        {
          "output_type": "stream",
          "name": "stdout",
          "text": [
            "✅ Saved keypoints for chest fly machine_18.mp4 to CSV\n",
            "\n",
            "🎥 Processing Video: chest fly machine_13.mp4\n"
          ]
        },
        {
          "output_type": "stream",
          "name": "stderr",
          "text": [
            "\n",
            "Processing Videos in chest fly machine:  64%|██████▍   | 18/28 [03:14<01:34,  9.41s/it]\u001b[A"
          ]
        },
        {
          "output_type": "stream",
          "name": "stdout",
          "text": [
            "✅ Saved keypoints for chest fly machine_13.mp4 to CSV\n",
            "\n",
            "🎥 Processing Video: chest fly machine_12.mp4\n"
          ]
        },
        {
          "output_type": "stream",
          "name": "stderr",
          "text": [
            "\n",
            "Processing Videos in chest fly machine:  68%|██████▊   | 19/28 [03:19<01:12,  8.09s/it]\u001b[A"
          ]
        },
        {
          "output_type": "stream",
          "name": "stdout",
          "text": [
            "✅ Saved keypoints for chest fly machine_12.mp4 to CSV\n",
            "\n",
            "🎥 Processing Video: chest fly machine_5.mp4\n"
          ]
        },
        {
          "output_type": "stream",
          "name": "stderr",
          "text": [
            "\n",
            "Processing Videos in chest fly machine:  71%|███████▏  | 20/28 [03:24<00:57,  7.19s/it]\u001b[A"
          ]
        },
        {
          "output_type": "stream",
          "name": "stdout",
          "text": [
            "✅ Saved keypoints for chest fly machine_5.mp4 to CSV\n",
            "\n",
            "🎥 Processing Video: chest fly machine_8.mp4\n"
          ]
        },
        {
          "output_type": "stream",
          "name": "stderr",
          "text": [
            "\n",
            "Processing Videos in chest fly machine:  75%|███████▌  | 21/28 [03:32<00:52,  7.46s/it]\u001b[A"
          ]
        },
        {
          "output_type": "stream",
          "name": "stdout",
          "text": [
            "✅ Saved keypoints for chest fly machine_8.mp4 to CSV\n",
            "\n",
            "🎥 Processing Video: chest fly machine_28.mp4\n"
          ]
        },
        {
          "output_type": "stream",
          "name": "stderr",
          "text": [
            "\n",
            "Processing Videos in chest fly machine:  79%|███████▊  | 22/28 [03:36<00:37,  6.26s/it]\u001b[A"
          ]
        },
        {
          "output_type": "stream",
          "name": "stdout",
          "text": [
            "✅ Saved keypoints for chest fly machine_28.mp4 to CSV\n",
            "\n",
            "🎥 Processing Video: chest fly machine_7.mp4\n"
          ]
        },
        {
          "output_type": "stream",
          "name": "stderr",
          "text": [
            "\n",
            "Processing Videos in chest fly machine:  82%|████████▏ | 23/28 [03:42<00:31,  6.33s/it]\u001b[A"
          ]
        },
        {
          "output_type": "stream",
          "name": "stdout",
          "text": [
            "✅ Saved keypoints for chest fly machine_7.mp4 to CSV\n",
            "\n",
            "🎥 Processing Video: chest fly machine_6.mp4\n"
          ]
        },
        {
          "output_type": "stream",
          "name": "stderr",
          "text": [
            "\n",
            "Processing Videos in chest fly machine:  86%|████████▌ | 24/28 [03:48<00:24,  6.25s/it]\u001b[A"
          ]
        },
        {
          "output_type": "stream",
          "name": "stdout",
          "text": [
            "✅ Saved keypoints for chest fly machine_6.mp4 to CSV\n",
            "\n",
            "🎥 Processing Video: chest fly machine_3.mp4\n"
          ]
        },
        {
          "output_type": "stream",
          "name": "stderr",
          "text": [
            "\n",
            "Processing Videos in chest fly machine:  89%|████████▉ | 25/28 [03:53<00:17,  5.70s/it]\u001b[A"
          ]
        },
        {
          "output_type": "stream",
          "name": "stdout",
          "text": [
            "✅ Saved keypoints for chest fly machine_3.mp4 to CSV\n",
            "\n",
            "🎥 Processing Video: chest fly machine_27.mp4\n"
          ]
        },
        {
          "output_type": "stream",
          "name": "stderr",
          "text": [
            "\n",
            "Processing Videos in chest fly machine:  93%|█████████▎| 26/28 [03:57<00:10,  5.46s/it]\u001b[A"
          ]
        },
        {
          "output_type": "stream",
          "name": "stdout",
          "text": [
            "✅ Saved keypoints for chest fly machine_27.mp4 to CSV\n",
            "\n",
            "🎥 Processing Video: chest fly machine_9.mp4\n"
          ]
        },
        {
          "output_type": "stream",
          "name": "stderr",
          "text": [
            "\n",
            "Processing Videos in chest fly machine:  96%|█████████▋| 27/28 [04:04<00:05,  5.90s/it]\u001b[A"
          ]
        },
        {
          "output_type": "stream",
          "name": "stdout",
          "text": [
            "✅ Saved keypoints for chest fly machine_9.mp4 to CSV\n",
            "\n",
            "🎥 Processing Video: chest fly machine_4.mp4\n"
          ]
        },
        {
          "output_type": "stream",
          "name": "stderr",
          "text": [
            "\n",
            "Processing Videos in chest fly machine: 100%|██████████| 28/28 [04:12<00:00,  9.03s/it]\n",
            "Processing Exercise Folders:  59%|█████▉    | 13/22 [57:57<39:02, 260.31s/it]"
          ]
        },
        {
          "output_type": "stream",
          "name": "stdout",
          "text": [
            "✅ Saved keypoints for chest fly machine_4.mp4 to CSV\n",
            "\n",
            "📂 Processing Exercise: decline bench press\n",
            "\n"
          ]
        },
        {
          "output_type": "stream",
          "name": "stderr",
          "text": [
            "\n",
            "Processing Videos in decline bench press:   0%|          | 0/6 [00:00<?, ?it/s]\u001b[A"
          ]
        },
        {
          "output_type": "stream",
          "name": "stdout",
          "text": [
            "🎥 Processing Video: dbp_12.mp4\n"
          ]
        },
        {
          "output_type": "stream",
          "name": "stderr",
          "text": [
            "\n",
            "Processing Videos in decline bench press:  17%|█▋        | 1/6 [00:06<00:32,  6.50s/it]\u001b[A"
          ]
        },
        {
          "output_type": "stream",
          "name": "stdout",
          "text": [
            "✅ Saved keypoints for dbp_12.mp4 to CSV\n",
            "\n",
            "🎥 Processing Video: dbp_1.mp4\n"
          ]
        },
        {
          "output_type": "stream",
          "name": "stderr",
          "text": [
            "\n",
            "Processing Videos in decline bench press:  33%|███▎      | 2/6 [00:26<00:57, 14.29s/it]\u001b[A"
          ]
        },
        {
          "output_type": "stream",
          "name": "stdout",
          "text": [
            "✅ Saved keypoints for dbp_1.mp4 to CSV\n",
            "\n",
            "🎥 Processing Video: dbp_10.mp4\n"
          ]
        },
        {
          "output_type": "stream",
          "name": "stderr",
          "text": [
            "\n",
            "Processing Videos in decline bench press:  50%|█████     | 3/6 [00:40<00:43, 14.49s/it]\u001b[A"
          ]
        },
        {
          "output_type": "stream",
          "name": "stdout",
          "text": [
            "✅ Saved keypoints for dbp_10.mp4 to CSV\n",
            "\n",
            "🎥 Processing Video: dbp_11.mp4\n"
          ]
        },
        {
          "output_type": "stream",
          "name": "stderr",
          "text": [
            "\n",
            "Processing Videos in decline bench press:  67%|██████▋   | 4/6 [00:58<00:31, 15.74s/it]\u001b[A"
          ]
        },
        {
          "output_type": "stream",
          "name": "stdout",
          "text": [
            "✅ Saved keypoints for dbp_11.mp4 to CSV\n",
            "\n",
            "🎥 Processing Video: dbp_8.mp4\n"
          ]
        },
        {
          "output_type": "stream",
          "name": "stderr",
          "text": [
            "\n",
            "Processing Videos in decline bench press:  83%|████████▎ | 5/6 [01:02<00:11, 11.33s/it]\u001b[A"
          ]
        },
        {
          "output_type": "stream",
          "name": "stdout",
          "text": [
            "✅ Saved keypoints for dbp_8.mp4 to CSV\n",
            "\n",
            "🎥 Processing Video: dbp_9.mp4\n"
          ]
        },
        {
          "output_type": "stream",
          "name": "stderr",
          "text": [
            "\n",
            "Processing Videos in decline bench press: 100%|██████████| 6/6 [01:12<00:00, 12.02s/it]\n",
            "Processing Exercise Folders:  64%|██████▎   | 14/22 [59:10<27:07, 203.47s/it]"
          ]
        },
        {
          "output_type": "stream",
          "name": "stdout",
          "text": [
            "✅ Saved keypoints for dbp_9.mp4 to CSV\n",
            "\n",
            "📂 Processing Exercise: lateral raise\n",
            "\n"
          ]
        },
        {
          "output_type": "stream",
          "name": "stderr",
          "text": [
            "\n",
            "Processing Videos in lateral raise:   0%|          | 0/31 [00:00<?, ?it/s]\u001b[A"
          ]
        },
        {
          "output_type": "stream",
          "name": "stdout",
          "text": [
            "🎥 Processing Video: lateral raise_10.mp4\n"
          ]
        },
        {
          "output_type": "stream",
          "name": "stderr",
          "text": [
            "\n",
            "Processing Videos in lateral raise:   3%|▎         | 1/31 [00:06<03:05,  6.18s/it]\u001b[A"
          ]
        },
        {
          "output_type": "stream",
          "name": "stdout",
          "text": [
            "✅ Saved keypoints for lateral raise_10.mp4 to CSV\n",
            "\n",
            "🎥 Processing Video: lateral raise_14.mp4\n"
          ]
        },
        {
          "output_type": "stream",
          "name": "stderr",
          "text": [
            "\n",
            "Processing Videos in lateral raise:   6%|▋         | 2/31 [00:15<03:55,  8.12s/it]\u001b[A"
          ]
        },
        {
          "output_type": "stream",
          "name": "stdout",
          "text": [
            "✅ Saved keypoints for lateral raise_14.mp4 to CSV\n",
            "\n",
            "🎥 Processing Video: lateral raise_17.mp4\n"
          ]
        },
        {
          "output_type": "stream",
          "name": "stderr",
          "text": [
            "\n",
            "Processing Videos in lateral raise:  10%|▉         | 3/31 [00:23<03:44,  8.01s/it]\u001b[A"
          ]
        },
        {
          "output_type": "stream",
          "name": "stdout",
          "text": [
            "✅ Saved keypoints for lateral raise_17.mp4 to CSV\n",
            "\n",
            "🎥 Processing Video: lateral raise_16.mp4\n"
          ]
        },
        {
          "output_type": "stream",
          "name": "stderr",
          "text": [
            "\n",
            "Processing Videos in lateral raise:  13%|█▎        | 4/31 [00:29<03:15,  7.24s/it]\u001b[A"
          ]
        },
        {
          "output_type": "stream",
          "name": "stdout",
          "text": [
            "✅ Saved keypoints for lateral raise_16.mp4 to CSV\n",
            "\n",
            "🎥 Processing Video: lateral raise_15.mp4\n"
          ]
        },
        {
          "output_type": "stream",
          "name": "stderr",
          "text": [
            "\n",
            "Processing Videos in lateral raise:  16%|█▌        | 5/31 [00:33<02:39,  6.15s/it]\u001b[A"
          ]
        },
        {
          "output_type": "stream",
          "name": "stdout",
          "text": [
            "✅ Saved keypoints for lateral raise_15.mp4 to CSV\n",
            "\n",
            "🎥 Processing Video: lateral raise_11.mp4\n"
          ]
        },
        {
          "output_type": "stream",
          "name": "stderr",
          "text": [
            "\n",
            "Processing Videos in lateral raise:  19%|█▉        | 6/31 [00:47<03:34,  8.59s/it]\u001b[A"
          ]
        },
        {
          "output_type": "stream",
          "name": "stdout",
          "text": [
            "✅ Saved keypoints for lateral raise_11.mp4 to CSV\n",
            "\n",
            "🎥 Processing Video: lateral raise_13.mp4\n"
          ]
        },
        {
          "output_type": "stream",
          "name": "stderr",
          "text": [
            "\n",
            "Processing Videos in lateral raise:  23%|██▎       | 7/31 [00:53<03:05,  7.73s/it]\u001b[A"
          ]
        },
        {
          "output_type": "stream",
          "name": "stdout",
          "text": [
            "✅ Saved keypoints for lateral raise_13.mp4 to CSV\n",
            "\n",
            "🎥 Processing Video: lateral raise_12.mp4\n"
          ]
        },
        {
          "output_type": "stream",
          "name": "stderr",
          "text": [
            "\n",
            "Processing Videos in lateral raise:  26%|██▌       | 8/31 [00:58<02:39,  6.92s/it]\u001b[A"
          ]
        },
        {
          "output_type": "stream",
          "name": "stdout",
          "text": [
            "✅ Saved keypoints for lateral raise_12.mp4 to CSV\n",
            "\n",
            "🎥 Processing Video: lateral raise_20.mp4\n"
          ]
        },
        {
          "output_type": "stream",
          "name": "stderr",
          "text": [
            "\n",
            "Processing Videos in lateral raise:  29%|██▉       | 9/31 [01:02<02:15,  6.14s/it]\u001b[A"
          ]
        },
        {
          "output_type": "stream",
          "name": "stdout",
          "text": [
            "✅ Saved keypoints for lateral raise_20.mp4 to CSV\n",
            "\n",
            "🎥 Processing Video: lateral raise_23.mp4\n"
          ]
        },
        {
          "output_type": "stream",
          "name": "stderr",
          "text": [
            "\n",
            "Processing Videos in lateral raise:  32%|███▏      | 10/31 [01:08<02:04,  5.92s/it]\u001b[A"
          ]
        },
        {
          "output_type": "stream",
          "name": "stdout",
          "text": [
            "✅ Saved keypoints for lateral raise_23.mp4 to CSV\n",
            "\n",
            "🎥 Processing Video: lateral raise_28.mp4\n"
          ]
        },
        {
          "output_type": "stream",
          "name": "stderr",
          "text": [
            "\n",
            "Processing Videos in lateral raise:  35%|███▌      | 11/31 [01:19<02:32,  7.60s/it]\u001b[A"
          ]
        },
        {
          "output_type": "stream",
          "name": "stdout",
          "text": [
            "✅ Saved keypoints for lateral raise_28.mp4 to CSV\n",
            "\n",
            "🎥 Processing Video: lateral raise_21.mp4\n"
          ]
        },
        {
          "output_type": "stream",
          "name": "stderr",
          "text": [
            "\n",
            "Processing Videos in lateral raise:  39%|███▊      | 12/31 [01:24<02:09,  6.79s/it]\u001b[A"
          ]
        },
        {
          "output_type": "stream",
          "name": "stdout",
          "text": [
            "✅ Saved keypoints for lateral raise_21.mp4 to CSV\n",
            "\n",
            "🎥 Processing Video: lateral raise_19.mp4\n"
          ]
        },
        {
          "output_type": "stream",
          "name": "stderr",
          "text": [
            "\n",
            "Processing Videos in lateral raise:  42%|████▏     | 13/31 [01:29<01:54,  6.35s/it]\u001b[A"
          ]
        },
        {
          "output_type": "stream",
          "name": "stdout",
          "text": [
            "✅ Saved keypoints for lateral raise_19.mp4 to CSV\n",
            "\n",
            "🎥 Processing Video: lateral raise_24.mp4\n"
          ]
        },
        {
          "output_type": "stream",
          "name": "stderr",
          "text": [
            "\n",
            "Processing Videos in lateral raise:  45%|████▌     | 14/31 [01:39<02:04,  7.32s/it]\u001b[A"
          ]
        },
        {
          "output_type": "stream",
          "name": "stdout",
          "text": [
            "✅ Saved keypoints for lateral raise_24.mp4 to CSV\n",
            "\n",
            "🎥 Processing Video: lateral raise_22.mp4\n"
          ]
        },
        {
          "output_type": "stream",
          "name": "stderr",
          "text": [
            "\n",
            "Processing Videos in lateral raise:  48%|████▊     | 15/31 [01:43<01:40,  6.27s/it]\u001b[A"
          ]
        },
        {
          "output_type": "stream",
          "name": "stdout",
          "text": [
            "✅ Saved keypoints for lateral raise_22.mp4 to CSV\n",
            "\n",
            "🎥 Processing Video: lateral raise_25.mp4\n"
          ]
        },
        {
          "output_type": "stream",
          "name": "stderr",
          "text": [
            "\n",
            "Processing Videos in lateral raise:  52%|█████▏    | 16/31 [01:51<01:44,  6.96s/it]\u001b[A"
          ]
        },
        {
          "output_type": "stream",
          "name": "stdout",
          "text": [
            "✅ Saved keypoints for lateral raise_25.mp4 to CSV\n",
            "\n",
            "🎥 Processing Video: lateral raise_27.mp4\n"
          ]
        },
        {
          "output_type": "stream",
          "name": "stderr",
          "text": [
            "\n",
            "Processing Videos in lateral raise:  55%|█████▍    | 17/31 [01:59<01:39,  7.10s/it]\u001b[A"
          ]
        },
        {
          "output_type": "stream",
          "name": "stdout",
          "text": [
            "✅ Saved keypoints for lateral raise_27.mp4 to CSV\n",
            "\n",
            "🎥 Processing Video: lateral raise_18.mp4\n"
          ]
        },
        {
          "output_type": "stream",
          "name": "stderr",
          "text": [
            "\n",
            "Processing Videos in lateral raise:  58%|█████▊    | 18/31 [02:03<01:22,  6.31s/it]\u001b[A"
          ]
        },
        {
          "output_type": "stream",
          "name": "stdout",
          "text": [
            "✅ Saved keypoints for lateral raise_18.mp4 to CSV\n",
            "\n",
            "🎥 Processing Video: lateral raise_26.mp4\n"
          ]
        },
        {
          "output_type": "stream",
          "name": "stderr",
          "text": [
            "\n",
            "Processing Videos in lateral raise:  61%|██████▏   | 19/31 [02:14<01:32,  7.73s/it]\u001b[A"
          ]
        },
        {
          "output_type": "stream",
          "name": "stdout",
          "text": [
            "✅ Saved keypoints for lateral raise_26.mp4 to CSV\n",
            "\n",
            "🎥 Processing Video: lateral raise_29.mp4\n"
          ]
        },
        {
          "output_type": "stream",
          "name": "stderr",
          "text": [
            "\n",
            "Processing Videos in lateral raise:  65%|██████▍   | 20/31 [02:24<01:31,  8.35s/it]\u001b[A"
          ]
        },
        {
          "output_type": "stream",
          "name": "stdout",
          "text": [
            "✅ Saved keypoints for lateral raise_29.mp4 to CSV\n",
            "\n",
            "🎥 Processing Video: lateral raise_30.mp4\n"
          ]
        },
        {
          "output_type": "stream",
          "name": "stderr",
          "text": [
            "\n",
            "Processing Videos in lateral raise:  68%|██████▊   | 21/31 [02:35<01:30,  9.05s/it]\u001b[A"
          ]
        },
        {
          "output_type": "stream",
          "name": "stdout",
          "text": [
            "✅ Saved keypoints for lateral raise_30.mp4 to CSV\n",
            "\n",
            "🎥 Processing Video: lateral raise_32.mp4\n"
          ]
        },
        {
          "output_type": "stream",
          "name": "stderr",
          "text": [
            "\n",
            "Processing Videos in lateral raise:  71%|███████   | 22/31 [02:48<01:32, 10.27s/it]\u001b[A"
          ]
        },
        {
          "output_type": "stream",
          "name": "stdout",
          "text": [
            "✅ Saved keypoints for lateral raise_32.mp4 to CSV\n",
            "\n",
            "🎥 Processing Video: lateral raise_36.mp4\n"
          ]
        },
        {
          "output_type": "stream",
          "name": "stderr",
          "text": [
            "\n",
            "Processing Videos in lateral raise:  74%|███████▍  | 23/31 [02:59<01:23, 10.48s/it]\u001b[A"
          ]
        },
        {
          "output_type": "stream",
          "name": "stdout",
          "text": [
            "✅ Saved keypoints for lateral raise_36.mp4 to CSV\n",
            "\n",
            "🎥 Processing Video: lateral raise_34.mp4\n"
          ]
        },
        {
          "output_type": "stream",
          "name": "stderr",
          "text": [
            "\n",
            "Processing Videos in lateral raise:  77%|███████▋  | 24/31 [03:11<01:16, 10.95s/it]\u001b[A"
          ]
        },
        {
          "output_type": "stream",
          "name": "stdout",
          "text": [
            "✅ Saved keypoints for lateral raise_34.mp4 to CSV\n",
            "\n",
            "🎥 Processing Video: lateral raise_37.mp4\n"
          ]
        },
        {
          "output_type": "stream",
          "name": "stderr",
          "text": [
            "\n",
            "Processing Videos in lateral raise:  81%|████████  | 25/31 [03:26<01:13, 12.21s/it]\u001b[A"
          ]
        },
        {
          "output_type": "stream",
          "name": "stdout",
          "text": [
            "✅ Saved keypoints for lateral raise_37.mp4 to CSV\n",
            "\n",
            "🎥 Processing Video: lateral raise_31.mp4\n"
          ]
        },
        {
          "output_type": "stream",
          "name": "stderr",
          "text": [
            "\n",
            "Processing Videos in lateral raise:  84%|████████▍ | 26/31 [03:40<01:03, 12.62s/it]\u001b[A"
          ]
        },
        {
          "output_type": "stream",
          "name": "stdout",
          "text": [
            "✅ Saved keypoints for lateral raise_31.mp4 to CSV\n",
            "\n",
            "🎥 Processing Video: lateral raise_35.mp4\n"
          ]
        },
        {
          "output_type": "stream",
          "name": "stderr",
          "text": [
            "\n",
            "Processing Videos in lateral raise:  87%|████████▋ | 27/31 [03:52<00:50, 12.67s/it]\u001b[A"
          ]
        },
        {
          "output_type": "stream",
          "name": "stdout",
          "text": [
            "✅ Saved keypoints for lateral raise_35.mp4 to CSV\n",
            "\n",
            "🎥 Processing Video: lateral raise_33.mp4\n"
          ]
        },
        {
          "output_type": "stream",
          "name": "stderr",
          "text": [
            "\n",
            "Processing Videos in lateral raise:  90%|█████████ | 28/31 [04:13<00:45, 15.17s/it]\u001b[A"
          ]
        },
        {
          "output_type": "stream",
          "name": "stdout",
          "text": [
            "✅ Saved keypoints for lateral raise_33.mp4 to CSV\n",
            "\n",
            "🎥 Processing Video: lateral raise_7.mp4\n"
          ]
        },
        {
          "output_type": "stream",
          "name": "stderr",
          "text": [
            "\n",
            "Processing Videos in lateral raise:  94%|█████████▎| 29/31 [04:18<00:23, 11.98s/it]\u001b[A"
          ]
        },
        {
          "output_type": "stream",
          "name": "stdout",
          "text": [
            "✅ Saved keypoints for lateral raise_7.mp4 to CSV\n",
            "\n",
            "🎥 Processing Video: lateral raise_9.mp4\n"
          ]
        },
        {
          "output_type": "stream",
          "name": "stderr",
          "text": [
            "\n",
            "Processing Videos in lateral raise:  97%|█████████▋| 30/31 [04:25<00:10, 10.59s/it]\u001b[A"
          ]
        },
        {
          "output_type": "stream",
          "name": "stdout",
          "text": [
            "✅ Saved keypoints for lateral raise_9.mp4 to CSV\n",
            "\n",
            "🎥 Processing Video: lateral raise_8.mp4\n"
          ]
        },
        {
          "output_type": "stream",
          "name": "stderr",
          "text": [
            "\n",
            "Processing Videos in lateral raise: 100%|██████████| 31/31 [04:28<00:00,  8.66s/it]\n",
            "Processing Exercise Folders:  68%|██████▊   | 15/22 [1:03:38<26:01, 223.09s/it]"
          ]
        },
        {
          "output_type": "stream",
          "name": "stdout",
          "text": [
            "✅ Saved keypoints for lateral raise_8.mp4 to CSV\n",
            "\n",
            "📂 Processing Exercise: hammer curl\n",
            "\n"
          ]
        },
        {
          "output_type": "stream",
          "name": "stderr",
          "text": [
            "\n",
            "Processing Videos in hammer curl:   0%|          | 0/12 [00:00<?, ?it/s]\u001b[A"
          ]
        },
        {
          "output_type": "stream",
          "name": "stdout",
          "text": [
            "🎥 Processing Video: hammer curl_17.mp4\n"
          ]
        },
        {
          "output_type": "stream",
          "name": "stderr",
          "text": [
            "\n",
            "Processing Videos in hammer curl:   8%|▊         | 1/12 [00:14<02:35, 14.13s/it]\u001b[A"
          ]
        },
        {
          "output_type": "stream",
          "name": "stdout",
          "text": [
            "✅ Saved keypoints for hammer curl_17.mp4 to CSV\n",
            "\n",
            "🎥 Processing Video: hammer curl_11.mp4\n"
          ]
        },
        {
          "output_type": "stream",
          "name": "stderr",
          "text": [
            "\n",
            "Processing Videos in hammer curl:  17%|█▋        | 2/12 [00:38<03:22, 20.29s/it]\u001b[A"
          ]
        },
        {
          "output_type": "stream",
          "name": "stdout",
          "text": [
            "✅ Saved keypoints for hammer curl_11.mp4 to CSV\n",
            "\n",
            "🎥 Processing Video: hammer curl_13.mp4\n"
          ]
        },
        {
          "output_type": "stream",
          "name": "stderr",
          "text": [
            "\n",
            "Processing Videos in hammer curl:  25%|██▌       | 3/12 [00:52<02:36, 17.37s/it]\u001b[A"
          ]
        },
        {
          "output_type": "stream",
          "name": "stdout",
          "text": [
            "✅ Saved keypoints for hammer curl_13.mp4 to CSV\n",
            "\n",
            "🎥 Processing Video: hammer curl_15.mp4\n"
          ]
        },
        {
          "output_type": "stream",
          "name": "stderr",
          "text": [
            "\n",
            "Processing Videos in hammer curl:  33%|███▎      | 4/12 [00:57<01:39, 12.50s/it]\u001b[A"
          ]
        },
        {
          "output_type": "stream",
          "name": "stdout",
          "text": [
            "✅ Saved keypoints for hammer curl_15.mp4 to CSV\n",
            "\n",
            "🎥 Processing Video: hammer curl_14.mp4\n"
          ]
        },
        {
          "output_type": "stream",
          "name": "stderr",
          "text": [
            "\n",
            "Processing Videos in hammer curl:  42%|████▏     | 5/12 [01:01<01:06,  9.56s/it]\u001b[A"
          ]
        },
        {
          "output_type": "stream",
          "name": "stdout",
          "text": [
            "✅ Saved keypoints for hammer curl_14.mp4 to CSV\n",
            "\n",
            "🎥 Processing Video: hammer curl_16.mp4\n"
          ]
        },
        {
          "output_type": "stream",
          "name": "stderr",
          "text": [
            "\n",
            "Processing Videos in hammer curl:  50%|█████     | 6/12 [01:15<01:05, 10.98s/it]\u001b[A"
          ]
        },
        {
          "output_type": "stream",
          "name": "stdout",
          "text": [
            "✅ Saved keypoints for hammer curl_16.mp4 to CSV\n",
            "\n",
            "🎥 Processing Video: hammer curl_12.mp4\n"
          ]
        },
        {
          "output_type": "stream",
          "name": "stderr",
          "text": [
            "\n",
            "Processing Videos in hammer curl:  58%|█████▊    | 7/12 [01:20<00:45,  9.03s/it]\u001b[A"
          ]
        },
        {
          "output_type": "stream",
          "name": "stdout",
          "text": [
            "✅ Saved keypoints for hammer curl_12.mp4 to CSV\n",
            "\n",
            "🎥 Processing Video: hammer curl_18.mp4\n"
          ]
        },
        {
          "output_type": "stream",
          "name": "stderr",
          "text": [
            "\n",
            "Processing Videos in hammer curl:  67%|██████▋   | 8/12 [01:24<00:29,  7.42s/it]\u001b[A"
          ]
        },
        {
          "output_type": "stream",
          "name": "stdout",
          "text": [
            "✅ Saved keypoints for hammer curl_18.mp4 to CSV\n",
            "\n",
            "🎥 Processing Video: hammer curl_19.mp4\n"
          ]
        },
        {
          "output_type": "stream",
          "name": "stderr",
          "text": [
            "\n",
            "Processing Videos in hammer curl:  75%|███████▌  | 9/12 [01:38<00:28,  9.43s/it]\u001b[A"
          ]
        },
        {
          "output_type": "stream",
          "name": "stdout",
          "text": [
            "✅ Saved keypoints for hammer curl_19.mp4 to CSV\n",
            "\n",
            "🎥 Processing Video: hammer curl_10.mp4\n"
          ]
        },
        {
          "output_type": "stream",
          "name": "stderr",
          "text": [
            "\n",
            "Processing Videos in hammer curl:  83%|████████▎ | 10/12 [01:44<00:16,  8.41s/it]\u001b[A"
          ]
        },
        {
          "output_type": "stream",
          "name": "stdout",
          "text": [
            "✅ Saved keypoints for hammer curl_10.mp4 to CSV\n",
            "\n",
            "🎥 Processing Video: hammer curl_9.mp4\n"
          ]
        },
        {
          "output_type": "stream",
          "name": "stderr",
          "text": [
            "\n",
            "Processing Videos in hammer curl:  92%|█████████▏| 11/12 [01:52<00:08,  8.21s/it]\u001b[A"
          ]
        },
        {
          "output_type": "stream",
          "name": "stdout",
          "text": [
            "✅ Saved keypoints for hammer curl_9.mp4 to CSV\n",
            "\n",
            "🎥 Processing Video: hammer curl_8.mp4\n"
          ]
        },
        {
          "output_type": "stream",
          "name": "stderr",
          "text": [
            "\n",
            "Processing Videos in hammer curl: 100%|██████████| 12/12 [02:04<00:00, 10.38s/it]\n",
            "Processing Exercise Folders:  73%|███████▎  | 16/22 [1:05:43<19:20, 193.44s/it]"
          ]
        },
        {
          "output_type": "stream",
          "name": "stdout",
          "text": [
            "✅ Saved keypoints for hammer curl_8.mp4 to CSV\n",
            "\n",
            "📂 Processing Exercise: leg raises\n",
            "\n"
          ]
        },
        {
          "output_type": "stream",
          "name": "stderr",
          "text": [
            "\n",
            "Processing Videos in leg raises:   0%|          | 0/15 [00:00<?, ?it/s]\u001b[A"
          ]
        },
        {
          "output_type": "stream",
          "name": "stdout",
          "text": [
            "🎥 Processing Video: leg raises_16.mp4\n"
          ]
        },
        {
          "output_type": "stream",
          "name": "stderr",
          "text": [
            "\n",
            "Processing Videos in leg raises:   7%|▋         | 1/15 [00:10<02:29, 10.70s/it]\u001b[A"
          ]
        },
        {
          "output_type": "stream",
          "name": "stdout",
          "text": [
            "✅ Saved keypoints for leg raises_16.mp4 to CSV\n",
            "\n",
            "🎥 Processing Video: leg raises_18.mp4\n"
          ]
        },
        {
          "output_type": "stream",
          "name": "stderr",
          "text": [
            "\n",
            "Processing Videos in leg raises:  13%|█▎        | 2/15 [00:17<01:45,  8.11s/it]\u001b[A"
          ]
        },
        {
          "output_type": "stream",
          "name": "stdout",
          "text": [
            "✅ Saved keypoints for leg raises_18.mp4 to CSV\n",
            "\n",
            "🎥 Processing Video: leg raises_17.mp4\n"
          ]
        },
        {
          "output_type": "stream",
          "name": "stderr",
          "text": [
            "\n",
            "Processing Videos in leg raises:  20%|██        | 3/15 [00:32<02:17, 11.42s/it]\u001b[A"
          ]
        },
        {
          "output_type": "stream",
          "name": "stdout",
          "text": [
            "✅ Saved keypoints for leg raises_17.mp4 to CSV\n",
            "\n",
            "🎥 Processing Video: leg raises_14.mp4\n"
          ]
        },
        {
          "output_type": "stream",
          "name": "stderr",
          "text": [
            "\n",
            "Processing Videos in leg raises:  27%|██▋       | 4/15 [00:45<02:14, 12.19s/it]\u001b[A"
          ]
        },
        {
          "output_type": "stream",
          "name": "stdout",
          "text": [
            "✅ Saved keypoints for leg raises_14.mp4 to CSV\n",
            "\n",
            "🎥 Processing Video: leg raises_10.mp4\n"
          ]
        },
        {
          "output_type": "stream",
          "name": "stderr",
          "text": [
            "\n",
            "Processing Videos in leg raises:  33%|███▎      | 5/15 [00:55<01:51, 11.18s/it]\u001b[A"
          ]
        },
        {
          "output_type": "stream",
          "name": "stdout",
          "text": [
            "✅ Saved keypoints for leg raises_10.mp4 to CSV\n",
            "\n",
            "🎥 Processing Video: leg raises_13.mp4\n"
          ]
        },
        {
          "output_type": "stream",
          "name": "stderr",
          "text": [
            "\n",
            "Processing Videos in leg raises:  40%|████      | 6/15 [01:02<01:29,  9.93s/it]\u001b[A"
          ]
        },
        {
          "output_type": "stream",
          "name": "stdout",
          "text": [
            "✅ Saved keypoints for leg raises_13.mp4 to CSV\n",
            "\n",
            "🎥 Processing Video: leg raises_12.mp4\n"
          ]
        },
        {
          "output_type": "stream",
          "name": "stderr",
          "text": [
            "\n",
            "Processing Videos in leg raises:  47%|████▋     | 7/15 [01:11<01:17,  9.75s/it]\u001b[A"
          ]
        },
        {
          "output_type": "stream",
          "name": "stdout",
          "text": [
            "✅ Saved keypoints for leg raises_12.mp4 to CSV\n",
            "\n",
            "🎥 Processing Video: leg raises_11.mp4\n"
          ]
        },
        {
          "output_type": "stream",
          "name": "stderr",
          "text": [
            "\n",
            "Processing Videos in leg raises:  53%|█████▎    | 8/15 [01:23<01:12, 10.38s/it]\u001b[A"
          ]
        },
        {
          "output_type": "stream",
          "name": "stdout",
          "text": [
            "✅ Saved keypoints for leg raises_11.mp4 to CSV\n",
            "\n",
            "🎥 Processing Video: leg raises_19.mp4\n"
          ]
        },
        {
          "output_type": "stream",
          "name": "stderr",
          "text": [
            "\n",
            "Processing Videos in leg raises:  60%|██████    | 9/15 [01:32<00:59,  9.99s/it]\u001b[A"
          ]
        },
        {
          "output_type": "stream",
          "name": "stdout",
          "text": [
            "✅ Saved keypoints for leg raises_19.mp4 to CSV\n",
            "\n",
            "🎥 Processing Video: leg raises_15.mp4\n"
          ]
        },
        {
          "output_type": "stream",
          "name": "stderr",
          "text": [
            "\n",
            "Processing Videos in leg raises:  67%|██████▋   | 10/15 [01:40<00:46,  9.36s/it]\u001b[A"
          ]
        },
        {
          "output_type": "stream",
          "name": "stdout",
          "text": [
            "✅ Saved keypoints for leg raises_15.mp4 to CSV\n",
            "\n",
            "🎥 Processing Video: leg raises_20.mp4\n"
          ]
        },
        {
          "output_type": "stream",
          "name": "stderr",
          "text": [
            "\n",
            "Processing Videos in leg raises:  73%|███████▎  | 11/15 [01:43<00:29,  7.47s/it]\u001b[A"
          ]
        },
        {
          "output_type": "stream",
          "name": "stdout",
          "text": [
            "✅ Saved keypoints for leg raises_20.mp4 to CSV\n",
            "\n",
            "🎥 Processing Video: leg raises_21.mp4\n"
          ]
        },
        {
          "output_type": "stream",
          "name": "stderr",
          "text": [
            "\n",
            "Processing Videos in leg raises:  80%|████████  | 12/15 [01:47<00:18,  6.17s/it]\u001b[A"
          ]
        },
        {
          "output_type": "stream",
          "name": "stdout",
          "text": [
            "✅ Saved keypoints for leg raises_21.mp4 to CSV\n",
            "\n",
            "🎥 Processing Video: leg raises_8.mp4\n"
          ]
        },
        {
          "output_type": "stream",
          "name": "stderr",
          "text": [
            "\n",
            "Processing Videos in leg raises:  87%|████████▋ | 13/15 [02:02<00:17,  8.95s/it]\u001b[A"
          ]
        },
        {
          "output_type": "stream",
          "name": "stdout",
          "text": [
            "✅ Saved keypoints for leg raises_8.mp4 to CSV\n",
            "\n",
            "🎥 Processing Video: leg raises_9.mp4\n"
          ]
        },
        {
          "output_type": "stream",
          "name": "stderr",
          "text": [
            "\n",
            "Processing Videos in leg raises:  93%|█████████▎| 14/15 [02:12<00:09,  9.15s/it]\u001b[A"
          ]
        },
        {
          "output_type": "stream",
          "name": "stdout",
          "text": [
            "✅ Saved keypoints for leg raises_9.mp4 to CSV\n",
            "\n",
            "🎥 Processing Video: leg raises_7.mp4\n"
          ]
        },
        {
          "output_type": "stream",
          "name": "stderr",
          "text": [
            "\n",
            "Processing Videos in leg raises: 100%|██████████| 15/15 [02:28<00:00,  9.89s/it]\n",
            "Processing Exercise Folders:  77%|███████▋  | 17/22 [1:08:11<14:59, 179.91s/it]"
          ]
        },
        {
          "output_type": "stream",
          "name": "stdout",
          "text": [
            "✅ Saved keypoints for leg raises_7.mp4 to CSV\n",
            "\n",
            "📂 Processing Exercise: lat pulldown\n",
            "\n"
          ]
        },
        {
          "output_type": "stream",
          "name": "stderr",
          "text": [
            "\n",
            "Processing Videos in lat pulldown:   0%|          | 0/51 [00:00<?, ?it/s]\u001b[A"
          ]
        },
        {
          "output_type": "stream",
          "name": "stdout",
          "text": [
            "🎥 Processing Video: lat pulldown_12.mp4\n"
          ]
        },
        {
          "output_type": "stream",
          "name": "stderr",
          "text": [
            "\n",
            "Processing Videos in lat pulldown:   2%|▏         | 1/51 [00:09<07:39,  9.20s/it]\u001b[A"
          ]
        },
        {
          "output_type": "stream",
          "name": "stdout",
          "text": [
            "✅ Saved keypoints for lat pulldown_12.mp4 to CSV\n",
            "\n",
            "🎥 Processing Video: lat pulldown_20.mp4\n"
          ]
        },
        {
          "output_type": "stream",
          "name": "stderr",
          "text": [
            "\n",
            "Processing Videos in lat pulldown:   4%|▍         | 2/51 [00:12<04:50,  5.93s/it]\u001b[A"
          ]
        },
        {
          "output_type": "stream",
          "name": "stdout",
          "text": [
            "✅ Saved keypoints for lat pulldown_20.mp4 to CSV\n",
            "\n",
            "🎥 Processing Video: lat pulldown_1.mp4\n"
          ]
        },
        {
          "output_type": "stream",
          "name": "stderr",
          "text": [
            "\n",
            "Processing Videos in lat pulldown:   6%|▌         | 3/51 [00:18<04:29,  5.62s/it]\u001b[A"
          ]
        },
        {
          "output_type": "stream",
          "name": "stdout",
          "text": [
            "✅ Saved keypoints for lat pulldown_1.mp4 to CSV\n",
            "\n",
            "🎥 Processing Video: lat pulldown_16.mp4\n"
          ]
        },
        {
          "output_type": "stream",
          "name": "stderr",
          "text": [
            "\n",
            "Processing Videos in lat pulldown:   8%|▊         | 4/51 [00:23<04:29,  5.73s/it]\u001b[A"
          ]
        },
        {
          "output_type": "stream",
          "name": "stdout",
          "text": [
            "✅ Saved keypoints for lat pulldown_16.mp4 to CSV\n",
            "\n",
            "🎥 Processing Video: lat pulldown_17.mp4\n"
          ]
        },
        {
          "output_type": "stream",
          "name": "stderr",
          "text": [
            "\n",
            "Processing Videos in lat pulldown:  10%|▉         | 5/51 [00:27<03:48,  4.97s/it]\u001b[A"
          ]
        },
        {
          "output_type": "stream",
          "name": "stdout",
          "text": [
            "✅ Saved keypoints for lat pulldown_17.mp4 to CSV\n",
            "\n",
            "🎥 Processing Video: lat pulldown_24.mp4\n"
          ]
        },
        {
          "output_type": "stream",
          "name": "stderr",
          "text": [
            "\n",
            "Processing Videos in lat pulldown:  12%|█▏        | 6/51 [00:31<03:29,  4.65s/it]\u001b[A"
          ]
        },
        {
          "output_type": "stream",
          "name": "stdout",
          "text": [
            "✅ Saved keypoints for lat pulldown_24.mp4 to CSV\n",
            "\n",
            "🎥 Processing Video: lat pulldown_2.mp4\n"
          ]
        },
        {
          "output_type": "stream",
          "name": "stderr",
          "text": [
            "\n",
            "Processing Videos in lat pulldown:  14%|█▎        | 7/51 [00:37<03:47,  5.17s/it]\u001b[A"
          ]
        },
        {
          "output_type": "stream",
          "name": "stdout",
          "text": [
            "✅ Saved keypoints for lat pulldown_2.mp4 to CSV\n",
            "\n",
            "🎥 Processing Video: lat pulldown_10.mp4\n"
          ]
        },
        {
          "output_type": "stream",
          "name": "stderr",
          "text": [
            "\n",
            "Processing Videos in lat pulldown:  16%|█▌        | 8/51 [00:44<03:58,  5.55s/it]\u001b[A"
          ]
        },
        {
          "output_type": "stream",
          "name": "stdout",
          "text": [
            "✅ Saved keypoints for lat pulldown_10.mp4 to CSV\n",
            "\n",
            "🎥 Processing Video: lat pulldown_23.mp4\n"
          ]
        },
        {
          "output_type": "stream",
          "name": "stderr",
          "text": [
            "\n",
            "Processing Videos in lat pulldown:  18%|█▊        | 9/51 [00:51<04:14,  6.05s/it]\u001b[A"
          ]
        },
        {
          "output_type": "stream",
          "name": "stdout",
          "text": [
            "✅ Saved keypoints for lat pulldown_23.mp4 to CSV\n",
            "\n",
            "🎥 Processing Video: lat pulldown_13.mp4\n"
          ]
        },
        {
          "output_type": "stream",
          "name": "stderr",
          "text": [
            "\n",
            "Processing Videos in lat pulldown:  20%|█▉        | 10/51 [00:53<03:21,  4.91s/it]\u001b[A"
          ]
        },
        {
          "output_type": "stream",
          "name": "stdout",
          "text": [
            "✅ Saved keypoints for lat pulldown_13.mp4 to CSV\n",
            "\n",
            "🎥 Processing Video: lat pulldown_14.mp4\n"
          ]
        },
        {
          "output_type": "stream",
          "name": "stderr",
          "text": [
            "\n",
            "Processing Videos in lat pulldown:  22%|██▏       | 11/51 [00:58<03:18,  4.95s/it]\u001b[A"
          ]
        },
        {
          "output_type": "stream",
          "name": "stdout",
          "text": [
            "✅ Saved keypoints for lat pulldown_14.mp4 to CSV\n",
            "\n",
            "🎥 Processing Video: lat pulldown_15.mp4\n"
          ]
        },
        {
          "output_type": "stream",
          "name": "stderr",
          "text": [
            "\n",
            "Processing Videos in lat pulldown:  24%|██▎       | 12/51 [01:07<03:54,  6.01s/it]\u001b[A"
          ]
        },
        {
          "output_type": "stream",
          "name": "stdout",
          "text": [
            "✅ Saved keypoints for lat pulldown_15.mp4 to CSV\n",
            "\n",
            "🎥 Processing Video: lat pulldown_26.mp4\n"
          ]
        },
        {
          "output_type": "stream",
          "name": "stderr",
          "text": [
            "\n",
            "Processing Videos in lat pulldown:  25%|██▌       | 13/51 [01:14<04:02,  6.37s/it]\u001b[A"
          ]
        },
        {
          "output_type": "stream",
          "name": "stdout",
          "text": [
            "✅ Saved keypoints for lat pulldown_26.mp4 to CSV\n",
            "\n",
            "🎥 Processing Video: lat pulldown_21.mp4\n"
          ]
        },
        {
          "output_type": "stream",
          "name": "stderr",
          "text": [
            "\n",
            "Processing Videos in lat pulldown:  27%|██▋       | 14/51 [01:18<03:33,  5.77s/it]\u001b[A"
          ]
        },
        {
          "output_type": "stream",
          "name": "stdout",
          "text": [
            "✅ Saved keypoints for lat pulldown_21.mp4 to CSV\n",
            "\n",
            "🎥 Processing Video: lat pulldown_19.mp4\n"
          ]
        },
        {
          "output_type": "stream",
          "name": "stderr",
          "text": [
            "\n",
            "Processing Videos in lat pulldown:  29%|██▉       | 15/51 [01:22<03:05,  5.16s/it]\u001b[A"
          ]
        },
        {
          "output_type": "stream",
          "name": "stdout",
          "text": [
            "✅ Saved keypoints for lat pulldown_19.mp4 to CSV\n",
            "\n",
            "🎥 Processing Video: lat pulldown_18.mp4\n"
          ]
        },
        {
          "output_type": "stream",
          "name": "stderr",
          "text": [
            "\n",
            "Processing Videos in lat pulldown:  31%|███▏      | 16/51 [01:27<02:53,  4.95s/it]\u001b[A"
          ]
        },
        {
          "output_type": "stream",
          "name": "stdout",
          "text": [
            "✅ Saved keypoints for lat pulldown_18.mp4 to CSV\n",
            "\n",
            "🎥 Processing Video: lat pulldown_22.mp4\n"
          ]
        },
        {
          "output_type": "stream",
          "name": "stderr",
          "text": [
            "\n",
            "Processing Videos in lat pulldown:  33%|███▎      | 17/51 [01:31<02:39,  4.70s/it]\u001b[A"
          ]
        },
        {
          "output_type": "stream",
          "name": "stdout",
          "text": [
            "✅ Saved keypoints for lat pulldown_22.mp4 to CSV\n",
            "\n",
            "🎥 Processing Video: lat pulldown_11.mp4\n"
          ]
        },
        {
          "output_type": "stream",
          "name": "stderr",
          "text": [
            "\n",
            "Processing Videos in lat pulldown:  35%|███▌      | 18/51 [01:35<02:27,  4.48s/it]\u001b[A"
          ]
        },
        {
          "output_type": "stream",
          "name": "stdout",
          "text": [
            "✅ Saved keypoints for lat pulldown_11.mp4 to CSV\n",
            "\n",
            "🎥 Processing Video: lat pulldown_25.mp4\n"
          ]
        },
        {
          "output_type": "stream",
          "name": "stderr",
          "text": [
            "\n",
            "Processing Videos in lat pulldown:  37%|███▋      | 19/51 [01:39<02:18,  4.33s/it]\u001b[A"
          ]
        },
        {
          "output_type": "stream",
          "name": "stdout",
          "text": [
            "✅ Saved keypoints for lat pulldown_25.mp4 to CSV\n",
            "\n",
            "🎥 Processing Video: lat pulldown_36.mp4\n"
          ]
        },
        {
          "output_type": "stream",
          "name": "stderr",
          "text": [
            "\n",
            "Processing Videos in lat pulldown:  39%|███▉      | 20/51 [01:42<02:09,  4.18s/it]\u001b[A"
          ]
        },
        {
          "output_type": "stream",
          "name": "stdout",
          "text": [
            "✅ Saved keypoints for lat pulldown_36.mp4 to CSV\n",
            "\n",
            "🎥 Processing Video: lat pulldown_33.mp4\n"
          ]
        },
        {
          "output_type": "stream",
          "name": "stderr",
          "text": [
            "\n",
            "Processing Videos in lat pulldown:  41%|████      | 21/51 [01:47<02:05,  4.20s/it]\u001b[A"
          ]
        },
        {
          "output_type": "stream",
          "name": "stdout",
          "text": [
            "✅ Saved keypoints for lat pulldown_33.mp4 to CSV\n",
            "\n",
            "🎥 Processing Video: lat pulldown_4.mp4\n"
          ]
        },
        {
          "output_type": "stream",
          "name": "stderr",
          "text": [
            "\n",
            "Processing Videos in lat pulldown:  43%|████▎     | 22/51 [01:50<01:55,  3.97s/it]\u001b[A"
          ]
        },
        {
          "output_type": "stream",
          "name": "stdout",
          "text": [
            "✅ Saved keypoints for lat pulldown_4.mp4 to CSV\n",
            "\n",
            "🎥 Processing Video: lat pulldown_27.mp4\n"
          ]
        },
        {
          "output_type": "stream",
          "name": "stderr",
          "text": [
            "\n",
            "Processing Videos in lat pulldown:  45%|████▌     | 23/51 [02:07<03:35,  7.70s/it]\u001b[A"
          ]
        },
        {
          "output_type": "stream",
          "name": "stdout",
          "text": [
            "✅ Saved keypoints for lat pulldown_27.mp4 to CSV\n",
            "\n",
            "🎥 Processing Video: lat pulldown_42.mp4\n"
          ]
        },
        {
          "output_type": "stream",
          "name": "stderr",
          "text": [
            "\n",
            "Processing Videos in lat pulldown:  47%|████▋     | 24/51 [02:13<03:20,  7.43s/it]\u001b[A"
          ]
        },
        {
          "output_type": "stream",
          "name": "stdout",
          "text": [
            "✅ Saved keypoints for lat pulldown_42.mp4 to CSV\n",
            "\n",
            "🎥 Processing Video: lat pulldown_44.mp4\n"
          ]
        },
        {
          "output_type": "stream",
          "name": "stderr",
          "text": [
            "\n",
            "Processing Videos in lat pulldown:  49%|████▉     | 25/51 [02:20<03:04,  7.09s/it]\u001b[A"
          ]
        },
        {
          "output_type": "stream",
          "name": "stdout",
          "text": [
            "✅ Saved keypoints for lat pulldown_44.mp4 to CSV\n",
            "\n",
            "🎥 Processing Video: lat pulldown_35.mp4\n"
          ]
        },
        {
          "output_type": "stream",
          "name": "stderr",
          "text": [
            "\n",
            "Processing Videos in lat pulldown:  51%|█████     | 26/51 [02:23<02:28,  5.94s/it]\u001b[A"
          ]
        },
        {
          "output_type": "stream",
          "name": "stdout",
          "text": [
            "✅ Saved keypoints for lat pulldown_35.mp4 to CSV\n",
            "\n",
            "🎥 Processing Video: lat pulldown_30.mp4\n"
          ]
        },
        {
          "output_type": "stream",
          "name": "stderr",
          "text": [
            "\n",
            "Processing Videos in lat pulldown:  53%|█████▎    | 27/51 [02:35<03:10,  7.92s/it]\u001b[A"
          ]
        },
        {
          "output_type": "stream",
          "name": "stdout",
          "text": [
            "✅ Saved keypoints for lat pulldown_30.mp4 to CSV\n",
            "\n",
            "🎥 Processing Video: lat pulldown_34.mp4\n"
          ]
        },
        {
          "output_type": "stream",
          "name": "stderr",
          "text": [
            "\n",
            "Processing Videos in lat pulldown:  55%|█████▍    | 28/51 [02:39<02:31,  6.59s/it]\u001b[A"
          ]
        },
        {
          "output_type": "stream",
          "name": "stdout",
          "text": [
            "✅ Saved keypoints for lat pulldown_34.mp4 to CSV\n",
            "\n",
            "🎥 Processing Video: lat pulldown_38.mp4\n"
          ]
        },
        {
          "output_type": "stream",
          "name": "stderr",
          "text": [
            "\n",
            "Processing Videos in lat pulldown:  57%|█████▋    | 29/51 [02:45<02:22,  6.47s/it]\u001b[A"
          ]
        },
        {
          "output_type": "stream",
          "name": "stdout",
          "text": [
            "✅ Saved keypoints for lat pulldown_38.mp4 to CSV\n",
            "\n",
            "🎥 Processing Video: lat pulldown_43.mp4\n"
          ]
        },
        {
          "output_type": "stream",
          "name": "stderr",
          "text": [
            "\n",
            "Processing Videos in lat pulldown:  59%|█████▉    | 30/51 [02:52<02:17,  6.55s/it]\u001b[A"
          ]
        },
        {
          "output_type": "stream",
          "name": "stdout",
          "text": [
            "✅ Saved keypoints for lat pulldown_43.mp4 to CSV\n",
            "\n",
            "🎥 Processing Video: lat pulldown_45.mp4\n"
          ]
        },
        {
          "output_type": "stream",
          "name": "stderr",
          "text": [
            "\n",
            "Processing Videos in lat pulldown:  61%|██████    | 31/51 [03:03<02:37,  7.89s/it]\u001b[A"
          ]
        },
        {
          "output_type": "stream",
          "name": "stdout",
          "text": [
            "✅ Saved keypoints for lat pulldown_45.mp4 to CSV\n",
            "\n",
            "🎥 Processing Video: lat pulldown_29.mp4\n"
          ]
        },
        {
          "output_type": "stream",
          "name": "stderr",
          "text": [
            "\n",
            "Processing Videos in lat pulldown:  63%|██████▎   | 32/51 [03:08<02:15,  7.15s/it]\u001b[A"
          ]
        },
        {
          "output_type": "stream",
          "name": "stdout",
          "text": [
            "✅ Saved keypoints for lat pulldown_29.mp4 to CSV\n",
            "\n",
            "🎥 Processing Video: lat pulldown_40.mp4\n"
          ]
        },
        {
          "output_type": "stream",
          "name": "stderr",
          "text": [
            "\n",
            "Processing Videos in lat pulldown:  65%|██████▍   | 33/51 [03:20<02:34,  8.60s/it]\u001b[A"
          ]
        },
        {
          "output_type": "stream",
          "name": "stdout",
          "text": [
            "✅ Saved keypoints for lat pulldown_40.mp4 to CSV\n",
            "\n",
            "🎥 Processing Video: lat pulldown_32.mp4\n"
          ]
        },
        {
          "output_type": "stream",
          "name": "stderr",
          "text": [
            "\n",
            "Processing Videos in lat pulldown:  67%|██████▋   | 34/51 [03:26<02:12,  7.78s/it]\u001b[A"
          ]
        },
        {
          "output_type": "stream",
          "name": "stdout",
          "text": [
            "✅ Saved keypoints for lat pulldown_32.mp4 to CSV\n",
            "\n",
            "🎥 Processing Video: lat pulldown_37.mp4\n"
          ]
        },
        {
          "output_type": "stream",
          "name": "stderr",
          "text": [
            "\n",
            "Processing Videos in lat pulldown:  69%|██████▊   | 35/51 [03:32<01:54,  7.15s/it]\u001b[A"
          ]
        },
        {
          "output_type": "stream",
          "name": "stdout",
          "text": [
            "✅ Saved keypoints for lat pulldown_37.mp4 to CSV\n",
            "\n",
            "🎥 Processing Video: lat pulldown_46.mp4\n"
          ]
        },
        {
          "output_type": "stream",
          "name": "stderr",
          "text": [
            "\n",
            "Processing Videos in lat pulldown:  71%|███████   | 36/51 [03:46<02:19,  9.29s/it]\u001b[A"
          ]
        },
        {
          "output_type": "stream",
          "name": "stdout",
          "text": [
            "✅ Saved keypoints for lat pulldown_46.mp4 to CSV\n",
            "\n",
            "🎥 Processing Video: lat pulldown_31.mp4\n"
          ]
        },
        {
          "output_type": "stream",
          "name": "stderr",
          "text": [
            "\n",
            "Processing Videos in lat pulldown:  73%|███████▎  | 37/51 [03:52<01:56,  8.31s/it]\u001b[A"
          ]
        },
        {
          "output_type": "stream",
          "name": "stdout",
          "text": [
            "✅ Saved keypoints for lat pulldown_31.mp4 to CSV\n",
            "\n",
            "🎥 Processing Video: lat pulldown_3.mp4\n"
          ]
        },
        {
          "output_type": "stream",
          "name": "stderr",
          "text": [
            "\n",
            "Processing Videos in lat pulldown:  75%|███████▍  | 38/51 [03:58<01:40,  7.70s/it]\u001b[A"
          ]
        },
        {
          "output_type": "stream",
          "name": "stdout",
          "text": [
            "✅ Saved keypoints for lat pulldown_3.mp4 to CSV\n",
            "\n",
            "🎥 Processing Video: lat pulldown_39.mp4\n"
          ]
        },
        {
          "output_type": "stream",
          "name": "stderr",
          "text": [
            "\n",
            "Processing Videos in lat pulldown:  76%|███████▋  | 39/51 [04:02<01:18,  6.54s/it]\u001b[A"
          ]
        },
        {
          "output_type": "stream",
          "name": "stdout",
          "text": [
            "✅ Saved keypoints for lat pulldown_39.mp4 to CSV\n",
            "\n",
            "🎥 Processing Video: lat pulldown_28.mp4\n"
          ]
        },
        {
          "output_type": "stream",
          "name": "stderr",
          "text": [
            "\n",
            "Processing Videos in lat pulldown:  78%|███████▊  | 40/51 [04:07<01:04,  5.90s/it]\u001b[A"
          ]
        },
        {
          "output_type": "stream",
          "name": "stdout",
          "text": [
            "✅ Saved keypoints for lat pulldown_28.mp4 to CSV\n",
            "\n",
            "🎥 Processing Video: lat pulldown_41.mp4\n"
          ]
        },
        {
          "output_type": "stream",
          "name": "stderr",
          "text": [
            "\n",
            "Processing Videos in lat pulldown:  80%|████████  | 41/51 [04:17<01:12,  7.25s/it]\u001b[A"
          ]
        },
        {
          "output_type": "stream",
          "name": "stdout",
          "text": [
            "✅ Saved keypoints for lat pulldown_41.mp4 to CSV\n",
            "\n",
            "🎥 Processing Video: lat pulldown_6.mp4\n"
          ]
        },
        {
          "output_type": "stream",
          "name": "stderr",
          "text": [
            "\n",
            "Processing Videos in lat pulldown:  82%|████████▏ | 42/51 [04:22<00:59,  6.57s/it]\u001b[A"
          ]
        },
        {
          "output_type": "stream",
          "name": "stdout",
          "text": [
            "✅ Saved keypoints for lat pulldown_6.mp4 to CSV\n",
            "\n",
            "🎥 Processing Video: lat pulldown_5.mp4\n"
          ]
        },
        {
          "output_type": "stream",
          "name": "stderr",
          "text": [
            "\n",
            "Processing Videos in lat pulldown:  84%|████████▍ | 43/51 [04:26<00:46,  5.82s/it]\u001b[A"
          ]
        },
        {
          "output_type": "stream",
          "name": "stdout",
          "text": [
            "✅ Saved keypoints for lat pulldown_5.mp4 to CSV\n",
            "\n",
            "🎥 Processing Video: lat pulldown_49.mp4\n"
          ]
        },
        {
          "output_type": "stream",
          "name": "stderr",
          "text": [
            "\n",
            "Processing Videos in lat pulldown:  86%|████████▋ | 44/51 [04:38<00:52,  7.55s/it]\u001b[A"
          ]
        },
        {
          "output_type": "stream",
          "name": "stdout",
          "text": [
            "✅ Saved keypoints for lat pulldown_49.mp4 to CSV\n",
            "\n",
            "🎥 Processing Video: lat pulldown_50.mp4\n"
          ]
        },
        {
          "output_type": "stream",
          "name": "stderr",
          "text": [
            "\n",
            "Processing Videos in lat pulldown:  88%|████████▊ | 45/51 [04:45<00:44,  7.39s/it]\u001b[A"
          ]
        },
        {
          "output_type": "stream",
          "name": "stdout",
          "text": [
            "✅ Saved keypoints for lat pulldown_50.mp4 to CSV\n",
            "\n",
            "🎥 Processing Video: lat pulldown_9.mp4\n"
          ]
        },
        {
          "output_type": "stream",
          "name": "stderr",
          "text": [
            "\n",
            "Processing Videos in lat pulldown:  90%|█████████ | 46/51 [04:49<00:33,  6.62s/it]\u001b[A"
          ]
        },
        {
          "output_type": "stream",
          "name": "stdout",
          "text": [
            "✅ Saved keypoints for lat pulldown_9.mp4 to CSV\n",
            "\n",
            "🎥 Processing Video: lat pulldown_48.mp4\n"
          ]
        },
        {
          "output_type": "stream",
          "name": "stderr",
          "text": [
            "\n",
            "Processing Videos in lat pulldown:  92%|█████████▏| 47/51 [05:03<00:35,  8.76s/it]\u001b[A"
          ]
        },
        {
          "output_type": "stream",
          "name": "stdout",
          "text": [
            "✅ Saved keypoints for lat pulldown_48.mp4 to CSV\n",
            "\n",
            "🎥 Processing Video: lat pulldown_51.mp4\n"
          ]
        },
        {
          "output_type": "stream",
          "name": "stderr",
          "text": [
            "\n",
            "Processing Videos in lat pulldown:  94%|█████████▍| 48/51 [05:07<00:21,  7.29s/it]\u001b[A"
          ]
        },
        {
          "output_type": "stream",
          "name": "stdout",
          "text": [
            "✅ Saved keypoints for lat pulldown_51.mp4 to CSV\n",
            "\n",
            "🎥 Processing Video: lat pulldown_47.mp4\n"
          ]
        },
        {
          "output_type": "stream",
          "name": "stderr",
          "text": [
            "\n",
            "Processing Videos in lat pulldown:  96%|█████████▌| 49/51 [05:13<00:13,  6.86s/it]\u001b[A"
          ]
        },
        {
          "output_type": "stream",
          "name": "stdout",
          "text": [
            "✅ Saved keypoints for lat pulldown_47.mp4 to CSV\n",
            "\n",
            "🎥 Processing Video: lat pulldown_7.mp4\n"
          ]
        },
        {
          "output_type": "stream",
          "name": "stderr",
          "text": [
            "\n",
            "Processing Videos in lat pulldown:  98%|█████████▊| 50/51 [05:20<00:06,  6.87s/it]\u001b[A"
          ]
        },
        {
          "output_type": "stream",
          "name": "stdout",
          "text": [
            "✅ Saved keypoints for lat pulldown_7.mp4 to CSV\n",
            "\n",
            "🎥 Processing Video: lat pulldown_8.mp4\n"
          ]
        },
        {
          "output_type": "stream",
          "name": "stderr",
          "text": [
            "\n",
            "Processing Videos in lat pulldown: 100%|██████████| 51/51 [05:29<00:00,  6.45s/it]\n",
            "Processing Exercise Folders:  82%|████████▏ | 18/22 [1:13:40<14:59, 224.76s/it]"
          ]
        },
        {
          "output_type": "stream",
          "name": "stdout",
          "text": [
            "✅ Saved keypoints for lat pulldown_8.mp4 to CSV\n",
            "\n",
            "📂 Processing Exercise: incline bench press\n",
            "\n"
          ]
        },
        {
          "output_type": "stream",
          "name": "stderr",
          "text": [
            "\n",
            "Processing Videos in incline bench press:   0%|          | 0/33 [00:00<?, ?it/s]\u001b[A"
          ]
        },
        {
          "output_type": "stream",
          "name": "stdout",
          "text": [
            "🎥 Processing Video: incline bench press_2.mp4\n"
          ]
        },
        {
          "output_type": "stream",
          "name": "stderr",
          "text": [
            "\n",
            "Processing Videos in incline bench press:   3%|▎         | 1/33 [00:03<01:43,  3.23s/it]\u001b[A"
          ]
        },
        {
          "output_type": "stream",
          "name": "stdout",
          "text": [
            "✅ Saved keypoints for incline bench press_2.mp4 to CSV\n",
            "\n",
            "🎥 Processing Video: incline bench press_1.mp4\n"
          ]
        },
        {
          "output_type": "stream",
          "name": "stderr",
          "text": [
            "\n",
            "Processing Videos in incline bench press:   6%|▌         | 2/33 [00:11<03:05,  5.98s/it]\u001b[A"
          ]
        },
        {
          "output_type": "stream",
          "name": "stdout",
          "text": [
            "✅ Saved keypoints for incline bench press_1.mp4 to CSV\n",
            "\n",
            "🎥 Processing Video: incline bench press_16.mp4\n"
          ]
        },
        {
          "output_type": "stream",
          "name": "stderr",
          "text": [
            "\n",
            "Processing Videos in incline bench press:   9%|▉         | 3/33 [00:17<03:11,  6.38s/it]\u001b[A"
          ]
        },
        {
          "output_type": "stream",
          "name": "stdout",
          "text": [
            "✅ Saved keypoints for incline bench press_16.mp4 to CSV\n",
            "\n",
            "🎥 Processing Video: incline bench press_17.mp4\n"
          ]
        },
        {
          "output_type": "stream",
          "name": "stderr",
          "text": [
            "\n",
            "Processing Videos in incline bench press:  12%|█▏        | 4/33 [00:21<02:36,  5.40s/it]\u001b[A"
          ]
        },
        {
          "output_type": "stream",
          "name": "stdout",
          "text": [
            "✅ Saved keypoints for incline bench press_17.mp4 to CSV\n",
            "\n",
            "🎥 Processing Video: incline bench press_13.mp4\n"
          ]
        },
        {
          "output_type": "stream",
          "name": "stderr",
          "text": [
            "\n",
            "Processing Videos in incline bench press:  15%|█▌        | 5/33 [00:25<02:10,  4.64s/it]\u001b[A"
          ]
        },
        {
          "output_type": "stream",
          "name": "stdout",
          "text": [
            "✅ Saved keypoints for incline bench press_13.mp4 to CSV\n",
            "\n",
            "🎥 Processing Video: incline bench press_14.mp4\n"
          ]
        },
        {
          "output_type": "stream",
          "name": "stderr",
          "text": [
            "\n",
            "Processing Videos in incline bench press:  18%|█▊        | 6/33 [00:30<02:07,  4.73s/it]\u001b[A"
          ]
        },
        {
          "output_type": "stream",
          "name": "stdout",
          "text": [
            "✅ Saved keypoints for incline bench press_14.mp4 to CSV\n",
            "\n",
            "🎥 Processing Video: incline bench press_19.mp4\n"
          ]
        },
        {
          "output_type": "stream",
          "name": "stderr",
          "text": [
            "\n",
            "Processing Videos in incline bench press:  21%|██        | 7/33 [00:34<02:01,  4.66s/it]\u001b[A"
          ]
        },
        {
          "output_type": "stream",
          "name": "stdout",
          "text": [
            "✅ Saved keypoints for incline bench press_19.mp4 to CSV\n",
            "\n",
            "🎥 Processing Video: incline bench press_11.mp4\n"
          ]
        },
        {
          "output_type": "stream",
          "name": "stderr",
          "text": [
            "\n",
            "Processing Videos in incline bench press:  24%|██▍       | 8/33 [00:37<01:40,  4.02s/it]\u001b[A"
          ]
        },
        {
          "output_type": "stream",
          "name": "stdout",
          "text": [
            "✅ Saved keypoints for incline bench press_11.mp4 to CSV\n",
            "\n",
            "🎥 Processing Video: incline bench press_10.mp4\n"
          ]
        },
        {
          "output_type": "stream",
          "name": "stderr",
          "text": [
            "\n",
            "Processing Videos in incline bench press:  27%|██▋       | 9/33 [00:40<01:31,  3.83s/it]\u001b[A"
          ]
        },
        {
          "output_type": "stream",
          "name": "stdout",
          "text": [
            "✅ Saved keypoints for incline bench press_10.mp4 to CSV\n",
            "\n",
            "🎥 Processing Video: incline bench press_12.mp4\n"
          ]
        },
        {
          "output_type": "stream",
          "name": "stderr",
          "text": [
            "\n",
            "Processing Videos in incline bench press:  30%|███       | 10/33 [00:46<01:41,  4.43s/it]\u001b[A"
          ]
        },
        {
          "output_type": "stream",
          "name": "stdout",
          "text": [
            "✅ Saved keypoints for incline bench press_12.mp4 to CSV\n",
            "\n",
            "🎥 Processing Video: incline bench press_15.mp4\n"
          ]
        },
        {
          "output_type": "stream",
          "name": "stderr",
          "text": [
            "\n",
            "Processing Videos in incline bench press:  33%|███▎      | 11/33 [00:50<01:38,  4.46s/it]\u001b[A"
          ]
        },
        {
          "output_type": "stream",
          "name": "stdout",
          "text": [
            "✅ Saved keypoints for incline bench press_15.mp4 to CSV\n",
            "\n",
            "🎥 Processing Video: incline bench press_18.mp4\n"
          ]
        },
        {
          "output_type": "stream",
          "name": "stderr",
          "text": [
            "\n",
            "Processing Videos in incline bench press:  36%|███▋      | 12/33 [00:56<01:41,  4.84s/it]\u001b[A"
          ]
        },
        {
          "output_type": "stream",
          "name": "stdout",
          "text": [
            "✅ Saved keypoints for incline bench press_18.mp4 to CSV\n",
            "\n",
            "🎥 Processing Video: incline bench press_25.mp4\n"
          ]
        },
        {
          "output_type": "stream",
          "name": "stderr",
          "text": [
            "\n",
            "Processing Videos in incline bench press:  39%|███▉      | 13/33 [01:01<01:37,  4.87s/it]\u001b[A"
          ]
        },
        {
          "output_type": "stream",
          "name": "stdout",
          "text": [
            "✅ Saved keypoints for incline bench press_25.mp4 to CSV\n",
            "\n",
            "🎥 Processing Video: incline bench press_28.mp4\n"
          ]
        },
        {
          "output_type": "stream",
          "name": "stderr",
          "text": [
            "\n",
            "Processing Videos in incline bench press:  42%|████▏     | 14/33 [01:38<04:34, 14.44s/it]\u001b[A"
          ]
        },
        {
          "output_type": "stream",
          "name": "stdout",
          "text": [
            "✅ Saved keypoints for incline bench press_28.mp4 to CSV\n",
            "\n",
            "🎥 Processing Video: incline bench press_20.mp4\n"
          ]
        },
        {
          "output_type": "stream",
          "name": "stderr",
          "text": [
            "\n",
            "Processing Videos in incline bench press:  45%|████▌     | 15/33 [01:44<03:35, 11.97s/it]\u001b[A"
          ]
        },
        {
          "output_type": "stream",
          "name": "stdout",
          "text": [
            "✅ Saved keypoints for incline bench press_20.mp4 to CSV\n",
            "\n",
            "🎥 Processing Video: incline bench press_27.mp4\n"
          ]
        },
        {
          "output_type": "stream",
          "name": "stderr",
          "text": [
            "\n",
            "Processing Videos in incline bench press:  48%|████▊     | 16/33 [02:17<05:13, 18.43s/it]\u001b[A"
          ]
        },
        {
          "output_type": "stream",
          "name": "stdout",
          "text": [
            "✅ Saved keypoints for incline bench press_27.mp4 to CSV\n",
            "\n",
            "🎥 Processing Video: incline bench press_30.mp4\n"
          ]
        },
        {
          "output_type": "stream",
          "name": "stderr",
          "text": [
            "\n",
            "Processing Videos in incline bench press:  52%|█████▏    | 17/33 [03:00<06:50, 25.65s/it]\u001b[A"
          ]
        },
        {
          "output_type": "stream",
          "name": "stdout",
          "text": [
            "✅ Saved keypoints for incline bench press_30.mp4 to CSV\n",
            "\n",
            "🎥 Processing Video: incline bench press_21.mp4\n"
          ]
        },
        {
          "output_type": "stream",
          "name": "stderr",
          "text": [
            "\n",
            "Processing Videos in incline bench press:  55%|█████▍    | 18/33 [03:04<04:49, 19.31s/it]\u001b[A"
          ]
        },
        {
          "output_type": "stream",
          "name": "stdout",
          "text": [
            "✅ Saved keypoints for incline bench press_21.mp4 to CSV\n",
            "\n",
            "🎥 Processing Video: incline bench press_24.mp4\n"
          ]
        },
        {
          "output_type": "stream",
          "name": "stderr",
          "text": [
            "\n",
            "Processing Videos in incline bench press:  58%|█████▊    | 19/33 [03:09<03:27, 14.84s/it]\u001b[A"
          ]
        },
        {
          "output_type": "stream",
          "name": "stdout",
          "text": [
            "✅ Saved keypoints for incline bench press_24.mp4 to CSV\n",
            "\n",
            "🎥 Processing Video: incline bench press_23.mp4\n"
          ]
        },
        {
          "output_type": "stream",
          "name": "stderr",
          "text": [
            "\n",
            "Processing Videos in incline bench press:  61%|██████    | 20/33 [03:14<02:37, 12.09s/it]\u001b[A"
          ]
        },
        {
          "output_type": "stream",
          "name": "stdout",
          "text": [
            "✅ Saved keypoints for incline bench press_23.mp4 to CSV\n",
            "\n",
            "🎥 Processing Video: incline bench press_3.mp4\n"
          ]
        },
        {
          "output_type": "stream",
          "name": "stderr",
          "text": [
            "\n",
            "Processing Videos in incline bench press:  64%|██████▎   | 21/33 [03:17<01:50,  9.21s/it]\u001b[A"
          ]
        },
        {
          "output_type": "stream",
          "name": "stdout",
          "text": [
            "✅ Saved keypoints for incline bench press_3.mp4 to CSV\n",
            "\n",
            "🎥 Processing Video: incline bench press_29.mp4\n"
          ]
        },
        {
          "output_type": "stream",
          "name": "stderr",
          "text": [
            "\n",
            "Processing Videos in incline bench press:  67%|██████▋   | 22/33 [03:24<01:32,  8.44s/it]\u001b[A"
          ]
        },
        {
          "output_type": "stream",
          "name": "stdout",
          "text": [
            "✅ Saved keypoints for incline bench press_29.mp4 to CSV\n",
            "\n",
            "🎥 Processing Video: incline bench press_22.mp4\n"
          ]
        },
        {
          "output_type": "stream",
          "name": "stderr",
          "text": [
            "\n",
            "Processing Videos in incline bench press:  70%|██████▉   | 23/33 [03:28<01:11,  7.19s/it]\u001b[A"
          ]
        },
        {
          "output_type": "stream",
          "name": "stdout",
          "text": [
            "✅ Saved keypoints for incline bench press_22.mp4 to CSV\n",
            "\n",
            "🎥 Processing Video: incline bench press_26.mp4\n"
          ]
        },
        {
          "output_type": "stream",
          "name": "stderr",
          "text": [
            "\n",
            "Processing Videos in incline bench press:  73%|███████▎  | 24/33 [04:13<02:48, 18.68s/it]\u001b[A"
          ]
        },
        {
          "output_type": "stream",
          "name": "stdout",
          "text": [
            "✅ Saved keypoints for incline bench press_26.mp4 to CSV\n",
            "\n",
            "🎥 Processing Video: incline bench press_9.mp4\n"
          ]
        },
        {
          "output_type": "stream",
          "name": "stderr",
          "text": [
            "\n",
            "Processing Videos in incline bench press:  76%|███████▌  | 25/33 [04:17<01:54, 14.27s/it]\u001b[A"
          ]
        },
        {
          "output_type": "stream",
          "name": "stdout",
          "text": [
            "✅ Saved keypoints for incline bench press_9.mp4 to CSV\n",
            "\n",
            "🎥 Processing Video: incline bench press_6.mp4\n"
          ]
        },
        {
          "output_type": "stream",
          "name": "stderr",
          "text": [
            "\n",
            "Processing Videos in incline bench press:  79%|███████▉  | 26/33 [04:24<01:24, 12.13s/it]\u001b[A"
          ]
        },
        {
          "output_type": "stream",
          "name": "stdout",
          "text": [
            "✅ Saved keypoints for incline bench press_6.mp4 to CSV\n",
            "\n",
            "🎥 Processing Video: incline bench press_31.mp4\n"
          ]
        },
        {
          "output_type": "stream",
          "name": "stderr",
          "text": [
            "\n",
            "Processing Videos in incline bench press:  82%|████████▏ | 27/33 [04:58<01:51, 18.52s/it]\u001b[A"
          ]
        },
        {
          "output_type": "stream",
          "name": "stdout",
          "text": [
            "✅ Saved keypoints for incline bench press_31.mp4 to CSV\n",
            "\n",
            "🎥 Processing Video: incline bench press_7.mp4\n"
          ]
        },
        {
          "output_type": "stream",
          "name": "stderr",
          "text": [
            "\n",
            "Processing Videos in incline bench press:  85%|████████▍ | 28/33 [05:00<01:08, 13.64s/it]\u001b[A"
          ]
        },
        {
          "output_type": "stream",
          "name": "stdout",
          "text": [
            "✅ Saved keypoints for incline bench press_7.mp4 to CSV\n",
            "\n",
            "🎥 Processing Video: incline bench press_5.mp4\n"
          ]
        },
        {
          "output_type": "stream",
          "name": "stderr",
          "text": [
            "\n",
            "Processing Videos in incline bench press:  88%|████████▊ | 29/33 [05:02<00:41, 10.25s/it]\u001b[A"
          ]
        },
        {
          "output_type": "stream",
          "name": "stdout",
          "text": [
            "✅ Saved keypoints for incline bench press_5.mp4 to CSV\n",
            "\n",
            "🎥 Processing Video: incline bench press_8.mp4\n"
          ]
        },
        {
          "output_type": "stream",
          "name": "stderr",
          "text": [
            "\n",
            "Processing Videos in incline bench press:  91%|█████████ | 30/33 [05:06<00:25,  8.36s/it]\u001b[A"
          ]
        },
        {
          "output_type": "stream",
          "name": "stdout",
          "text": [
            "✅ Saved keypoints for incline bench press_8.mp4 to CSV\n",
            "\n",
            "🎥 Processing Video: incline bench press_33.mp4\n"
          ]
        },
        {
          "output_type": "stream",
          "name": "stderr",
          "text": [
            "\n",
            "Processing Videos in incline bench press:  94%|█████████▍| 31/33 [05:10<00:13,  6.93s/it]\u001b[A"
          ]
        },
        {
          "output_type": "stream",
          "name": "stdout",
          "text": [
            "✅ Saved keypoints for incline bench press_33.mp4 to CSV\n",
            "\n",
            "🎥 Processing Video: incline bench press_4.mp4\n"
          ]
        },
        {
          "output_type": "stream",
          "name": "stderr",
          "text": [
            "\n",
            "Processing Videos in incline bench press:  97%|█████████▋| 32/33 [05:13<00:05,  5.81s/it]\u001b[A"
          ]
        },
        {
          "output_type": "stream",
          "name": "stdout",
          "text": [
            "✅ Saved keypoints for incline bench press_4.mp4 to CSV\n",
            "\n",
            "🎥 Processing Video: incline bench press_32.mp4\n"
          ]
        },
        {
          "output_type": "stream",
          "name": "stderr",
          "text": [
            "\n",
            "Processing Videos in incline bench press: 100%|██████████| 33/33 [05:57<00:00, 10.83s/it]\n",
            "Processing Exercise Folders:  86%|████████▋ | 19/22 [1:19:38<13:13, 264.55s/it]"
          ]
        },
        {
          "output_type": "stream",
          "name": "stdout",
          "text": [
            "✅ Saved keypoints for incline bench press_32.mp4 to CSV\n",
            "\n",
            "📂 Processing Exercise: hip thrust\n",
            "\n"
          ]
        },
        {
          "output_type": "stream",
          "name": "stderr",
          "text": [
            "\n",
            "Processing Videos in hip thrust:   0%|          | 0/14 [00:00<?, ?it/s]\u001b[A"
          ]
        },
        {
          "output_type": "stream",
          "name": "stdout",
          "text": [
            "🎥 Processing Video: hip thrust_10.mp4\n"
          ]
        },
        {
          "output_type": "stream",
          "name": "stderr",
          "text": [
            "\n",
            "Processing Videos in hip thrust:   7%|▋         | 1/14 [00:17<03:50, 17.74s/it]\u001b[A"
          ]
        },
        {
          "output_type": "stream",
          "name": "stdout",
          "text": [
            "✅ Saved keypoints for hip thrust_10.mp4 to CSV\n",
            "\n",
            "🎥 Processing Video: hip thrust_11.mp4\n"
          ]
        },
        {
          "output_type": "stream",
          "name": "stderr",
          "text": [
            "\n",
            "Processing Videos in hip thrust:  14%|█▍        | 2/14 [00:25<02:20, 11.70s/it]\u001b[A"
          ]
        },
        {
          "output_type": "stream",
          "name": "stdout",
          "text": [
            "✅ Saved keypoints for hip thrust_11.mp4 to CSV\n",
            "\n",
            "🎥 Processing Video: Barbell_Hip_Thrust_Tutorial__gluteworkout_AdobeExpress.mp4\n"
          ]
        },
        {
          "output_type": "stream",
          "name": "stderr",
          "text": [
            "\n",
            "Processing Videos in hip thrust:  21%|██▏       | 3/14 [00:30<01:34,  8.55s/it]\u001b[A"
          ]
        },
        {
          "output_type": "stream",
          "name": "stdout",
          "text": [
            "✅ Saved keypoints for Barbell_Hip_Thrust_Tutorial__gluteworkout_AdobeExpress.mp4 to CSV\n",
            "\n",
            "🎥 Processing Video: hip thrust_17.mp4\n"
          ]
        },
        {
          "output_type": "stream",
          "name": "stderr",
          "text": [
            "\n",
            "Processing Videos in hip thrust:  29%|██▊       | 4/14 [00:33<01:06,  6.61s/it]\u001b[A"
          ]
        },
        {
          "output_type": "stream",
          "name": "stdout",
          "text": [
            "✅ Saved keypoints for hip thrust_17.mp4 to CSV\n",
            "\n",
            "🎥 Processing Video: hip thrust_16.mp4\n"
          ]
        },
        {
          "output_type": "stream",
          "name": "stderr",
          "text": [
            "\n",
            "Processing Videos in hip thrust:  36%|███▌      | 5/14 [00:42<01:05,  7.28s/it]\u001b[A"
          ]
        },
        {
          "output_type": "stream",
          "name": "stdout",
          "text": [
            "✅ Saved keypoints for hip thrust_16.mp4 to CSV\n",
            "\n",
            "🎥 Processing Video: hip thrust_13.mp4\n"
          ]
        },
        {
          "output_type": "stream",
          "name": "stderr",
          "text": [
            "\n",
            "Processing Videos in hip thrust:  43%|████▎     | 6/14 [00:48<00:56,  7.00s/it]\u001b[A"
          ]
        },
        {
          "output_type": "stream",
          "name": "stdout",
          "text": [
            "✅ Saved keypoints for hip thrust_13.mp4 to CSV\n",
            "\n",
            "🎥 Processing Video: hip thrust_14.mp4\n"
          ]
        },
        {
          "output_type": "stream",
          "name": "stderr",
          "text": [
            "\n",
            "Processing Videos in hip thrust:  50%|█████     | 7/14 [01:05<01:11, 10.20s/it]\u001b[A"
          ]
        },
        {
          "output_type": "stream",
          "name": "stdout",
          "text": [
            "✅ Saved keypoints for hip thrust_14.mp4 to CSV\n",
            "\n",
            "🎥 Processing Video: hip thrust_15.mp4\n"
          ]
        },
        {
          "output_type": "stream",
          "name": "stderr",
          "text": [
            "\n",
            "Processing Videos in hip thrust:  57%|█████▋    | 8/14 [01:28<01:26, 14.40s/it]\u001b[A"
          ]
        },
        {
          "output_type": "stream",
          "name": "stdout",
          "text": [
            "✅ Saved keypoints for hip thrust_15.mp4 to CSV\n",
            "\n",
            "🎥 Processing Video: hip thrust_12.mp4\n"
          ]
        },
        {
          "output_type": "stream",
          "name": "stderr",
          "text": [
            "\n",
            "Processing Videos in hip thrust:  64%|██████▍   | 9/14 [01:41<01:09, 13.97s/it]\u001b[A"
          ]
        },
        {
          "output_type": "stream",
          "name": "stdout",
          "text": [
            "✅ Saved keypoints for hip thrust_12.mp4 to CSV\n",
            "\n",
            "🎥 Processing Video: hip thrust_5.mp4\n"
          ]
        },
        {
          "output_type": "stream",
          "name": "stderr",
          "text": [
            "\n",
            "Processing Videos in hip thrust:  71%|███████▏  | 10/14 [02:26<01:33, 23.40s/it]\u001b[A"
          ]
        },
        {
          "output_type": "stream",
          "name": "stdout",
          "text": [
            "✅ Saved keypoints for hip thrust_5.mp4 to CSV\n",
            "\n",
            "🎥 Processing Video: hip thrust_7.mp4\n"
          ]
        },
        {
          "output_type": "stream",
          "name": "stderr",
          "text": [
            "\n",
            "Processing Videos in hip thrust:  79%|███████▊  | 11/14 [02:40<01:01, 20.57s/it]\u001b[A"
          ]
        },
        {
          "output_type": "stream",
          "name": "stdout",
          "text": [
            "✅ Saved keypoints for hip thrust_7.mp4 to CSV\n",
            "\n",
            "🎥 Processing Video: hip thrust_6.mp4\n"
          ]
        },
        {
          "output_type": "stream",
          "name": "stderr",
          "text": [
            "\n",
            "Processing Videos in hip thrust:  86%|████████▌ | 12/14 [02:46<00:32, 16.27s/it]\u001b[A"
          ]
        },
        {
          "output_type": "stream",
          "name": "stdout",
          "text": [
            "✅ Saved keypoints for hip thrust_6.mp4 to CSV\n",
            "\n",
            "🎥 Processing Video: hip thrust_9.mp4\n"
          ]
        },
        {
          "output_type": "stream",
          "name": "stderr",
          "text": [
            "\n",
            "Processing Videos in hip thrust:  93%|█████████▎| 13/14 [03:05<00:16, 16.83s/it]\u001b[A"
          ]
        },
        {
          "output_type": "stream",
          "name": "stdout",
          "text": [
            "✅ Saved keypoints for hip thrust_9.mp4 to CSV\n",
            "\n",
            "🎥 Processing Video: hip thrust_8.mp4\n"
          ]
        },
        {
          "output_type": "stream",
          "name": "stderr",
          "text": [
            "\n",
            "Processing Videos in hip thrust: 100%|██████████| 14/14 [03:11<00:00, 13.67s/it]\n",
            "Processing Exercise Folders:  91%|█████████ | 20/22 [1:22:49<08:05, 242.61s/it]"
          ]
        },
        {
          "output_type": "stream",
          "name": "stdout",
          "text": [
            "✅ Saved keypoints for hip thrust_8.mp4 to CSV\n",
            "\n",
            "📂 Processing Exercise: bench press\n",
            "\n"
          ]
        },
        {
          "output_type": "stream",
          "name": "stderr",
          "text": [
            "\n",
            "Processing Videos in bench press:   0%|          | 0/61 [00:00<?, ?it/s]\u001b[A"
          ]
        },
        {
          "output_type": "stream",
          "name": "stdout",
          "text": [
            "🎥 Processing Video: bench press_10.mp4\n"
          ]
        },
        {
          "output_type": "stream",
          "name": "stderr",
          "text": [
            "\n",
            "Processing Videos in bench press:   2%|▏         | 1/61 [00:03<03:26,  3.44s/it]\u001b[A"
          ]
        },
        {
          "output_type": "stream",
          "name": "stdout",
          "text": [
            "✅ Saved keypoints for bench press_10.mp4 to CSV\n",
            "\n",
            "🎥 Processing Video: bench press_29.mp4\n"
          ]
        },
        {
          "output_type": "stream",
          "name": "stderr",
          "text": [
            "\n",
            "Processing Videos in bench press:   3%|▎         | 2/61 [00:13<06:59,  7.10s/it]\u001b[A"
          ]
        },
        {
          "output_type": "stream",
          "name": "stdout",
          "text": [
            "✅ Saved keypoints for bench press_29.mp4 to CSV\n",
            "\n",
            "🎥 Processing Video: bench press_14.mp4\n"
          ]
        },
        {
          "output_type": "stream",
          "name": "stderr",
          "text": [
            "\n",
            "Processing Videos in bench press:   5%|▍         | 3/61 [00:16<05:18,  5.49s/it]\u001b[A"
          ]
        },
        {
          "output_type": "stream",
          "name": "stdout",
          "text": [
            "✅ Saved keypoints for bench press_14.mp4 to CSV\n",
            "\n",
            "🎥 Processing Video: bench press_11.mp4\n"
          ]
        },
        {
          "output_type": "stream",
          "name": "stderr",
          "text": [
            "\n",
            "Processing Videos in bench press:   7%|▋         | 4/61 [00:19<04:19,  4.55s/it]\u001b[A"
          ]
        },
        {
          "output_type": "stream",
          "name": "stdout",
          "text": [
            "✅ Saved keypoints for bench press_11.mp4 to CSV\n",
            "\n",
            "🎥 Processing Video: bench press_2.mp4\n"
          ]
        },
        {
          "output_type": "stream",
          "name": "stderr",
          "text": [
            "\n",
            "Processing Videos in bench press:   8%|▊         | 5/61 [00:22<03:42,  3.98s/it]\u001b[A"
          ]
        },
        {
          "output_type": "stream",
          "name": "stdout",
          "text": [
            "✅ Saved keypoints for bench press_2.mp4 to CSV\n",
            "\n",
            "🎥 Processing Video: bench press_28.mp4\n"
          ]
        },
        {
          "output_type": "stream",
          "name": "stderr",
          "text": [
            "\n",
            "Processing Videos in bench press:  10%|▉         | 6/61 [00:27<03:58,  4.33s/it]\u001b[A"
          ]
        },
        {
          "output_type": "stream",
          "name": "stdout",
          "text": [
            "✅ Saved keypoints for bench press_28.mp4 to CSV\n",
            "\n",
            "🎥 Processing Video: bench press_26.mp4\n"
          ]
        },
        {
          "output_type": "stream",
          "name": "stderr",
          "text": [
            "\n",
            "Processing Videos in bench press:  11%|█▏        | 7/61 [00:32<03:59,  4.43s/it]\u001b[A"
          ]
        },
        {
          "output_type": "stream",
          "name": "stdout",
          "text": [
            "✅ Saved keypoints for bench press_26.mp4 to CSV\n",
            "\n",
            "🎥 Processing Video: bench press_34.mp4\n"
          ]
        },
        {
          "output_type": "stream",
          "name": "stderr",
          "text": [
            "\n",
            "Processing Videos in bench press:  13%|█▎        | 8/61 [00:40<04:58,  5.62s/it]\u001b[A"
          ]
        },
        {
          "output_type": "stream",
          "name": "stdout",
          "text": [
            "✅ Saved keypoints for bench press_34.mp4 to CSV\n",
            "\n",
            "🎥 Processing Video: bench press_27.mp4\n"
          ]
        },
        {
          "output_type": "stream",
          "name": "stderr",
          "text": [
            "\n",
            "Processing Videos in bench press:  15%|█▍        | 9/61 [00:45<04:37,  5.33s/it]\u001b[A"
          ]
        },
        {
          "output_type": "stream",
          "name": "stdout",
          "text": [
            "✅ Saved keypoints for bench press_27.mp4 to CSV\n",
            "\n",
            "🎥 Processing Video: bench press_19.mp4\n"
          ]
        },
        {
          "output_type": "stream",
          "name": "stderr",
          "text": [
            "\n",
            "Processing Videos in bench press:  16%|█▋        | 10/61 [00:49<04:16,  5.04s/it]\u001b[A"
          ]
        },
        {
          "output_type": "stream",
          "name": "stdout",
          "text": [
            "✅ Saved keypoints for bench press_19.mp4 to CSV\n",
            "\n",
            "🎥 Processing Video: bench press_13.mp4\n"
          ]
        },
        {
          "output_type": "stream",
          "name": "stderr",
          "text": [
            "\n",
            "Processing Videos in bench press:  18%|█▊        | 11/61 [00:53<03:53,  4.68s/it]\u001b[A"
          ]
        },
        {
          "output_type": "stream",
          "name": "stdout",
          "text": [
            "✅ Saved keypoints for bench press_13.mp4 to CSV\n",
            "\n",
            "🎥 Processing Video: bench press_23.mp4\n"
          ]
        },
        {
          "output_type": "stream",
          "name": "stderr",
          "text": [
            "\n",
            "Processing Videos in bench press:  20%|█▉        | 12/61 [00:56<03:27,  4.23s/it]\u001b[A"
          ]
        },
        {
          "output_type": "stream",
          "name": "stdout",
          "text": [
            "✅ Saved keypoints for bench press_23.mp4 to CSV\n",
            "\n",
            "🎥 Processing Video: bench press_18.mp4\n"
          ]
        },
        {
          "output_type": "stream",
          "name": "stderr",
          "text": [
            "\n",
            "Processing Videos in bench press:  21%|██▏       | 13/61 [01:02<03:44,  4.68s/it]\u001b[A"
          ]
        },
        {
          "output_type": "stream",
          "name": "stdout",
          "text": [
            "✅ Saved keypoints for bench press_18.mp4 to CSV\n",
            "\n",
            "🎥 Processing Video: bench press_15.mp4\n"
          ]
        },
        {
          "output_type": "stream",
          "name": "stderr",
          "text": [
            "\n",
            "Processing Videos in bench press:  23%|██▎       | 14/61 [01:07<03:41,  4.71s/it]\u001b[A"
          ]
        },
        {
          "output_type": "stream",
          "name": "stdout",
          "text": [
            "✅ Saved keypoints for bench press_15.mp4 to CSV\n",
            "\n",
            "🎥 Processing Video: bench press_22.mp4\n"
          ]
        },
        {
          "output_type": "stream",
          "name": "stderr",
          "text": [
            "\n",
            "Processing Videos in bench press:  25%|██▍       | 15/61 [01:10<03:21,  4.39s/it]\u001b[A"
          ]
        },
        {
          "output_type": "stream",
          "name": "stdout",
          "text": [
            "✅ Saved keypoints for bench press_22.mp4 to CSV\n",
            "\n",
            "🎥 Processing Video: bench press_17.mp4\n"
          ]
        },
        {
          "output_type": "stream",
          "name": "stderr",
          "text": [
            "\n",
            "Processing Videos in bench press:  26%|██▌       | 16/61 [01:20<04:31,  6.03s/it]\u001b[A"
          ]
        },
        {
          "output_type": "stream",
          "name": "stdout",
          "text": [
            "✅ Saved keypoints for bench press_17.mp4 to CSV\n",
            "\n",
            "🎥 Processing Video: bench press_12.mp4\n"
          ]
        },
        {
          "output_type": "stream",
          "name": "stderr",
          "text": [
            "\n",
            "Processing Videos in bench press:  28%|██▊       | 17/61 [01:27<04:34,  6.24s/it]\u001b[A"
          ]
        },
        {
          "output_type": "stream",
          "name": "stdout",
          "text": [
            "✅ Saved keypoints for bench press_12.mp4 to CSV\n",
            "\n",
            "🎥 Processing Video: bench press_20.mp4\n"
          ]
        },
        {
          "output_type": "stream",
          "name": "stderr",
          "text": [
            "\n",
            "Processing Videos in bench press:  30%|██▉       | 18/61 [01:30<03:53,  5.44s/it]\u001b[A"
          ]
        },
        {
          "output_type": "stream",
          "name": "stdout",
          "text": [
            "✅ Saved keypoints for bench press_20.mp4 to CSV\n",
            "\n",
            "🎥 Processing Video: bench press_25.mp4\n"
          ]
        },
        {
          "output_type": "stream",
          "name": "stderr",
          "text": [
            "\n",
            "Processing Videos in bench press:  31%|███       | 19/61 [01:35<03:30,  5.02s/it]\u001b[A"
          ]
        },
        {
          "output_type": "stream",
          "name": "stdout",
          "text": [
            "✅ Saved keypoints for bench press_25.mp4 to CSV\n",
            "\n",
            "🎥 Processing Video: bench press_24.mp4\n"
          ]
        },
        {
          "output_type": "stream",
          "name": "stderr",
          "text": [
            "\n",
            "Processing Videos in bench press:  33%|███▎      | 20/61 [01:38<03:08,  4.60s/it]\u001b[A"
          ]
        },
        {
          "output_type": "stream",
          "name": "stdout",
          "text": [
            "✅ Saved keypoints for bench press_24.mp4 to CSV\n",
            "\n",
            "🎥 Processing Video: bench press_1.mp4\n"
          ]
        },
        {
          "output_type": "stream",
          "name": "stderr",
          "text": [
            "\n",
            "Processing Videos in bench press:  34%|███▍      | 21/61 [01:41<02:45,  4.14s/it]\u001b[A"
          ]
        },
        {
          "output_type": "stream",
          "name": "stdout",
          "text": [
            "✅ Saved keypoints for bench press_1.mp4 to CSV\n",
            "\n",
            "🎥 Processing Video: bench press_33.mp4\n"
          ]
        },
        {
          "output_type": "stream",
          "name": "stderr",
          "text": [
            "\n",
            "Processing Videos in bench press:  36%|███▌      | 22/61 [01:45<02:37,  4.03s/it]\u001b[A"
          ]
        },
        {
          "output_type": "stream",
          "name": "stdout",
          "text": [
            "✅ Saved keypoints for bench press_33.mp4 to CSV\n",
            "\n",
            "🎥 Processing Video: bench press_21.mp4\n"
          ]
        },
        {
          "output_type": "stream",
          "name": "stderr",
          "text": [
            "\n",
            "Processing Videos in bench press:  38%|███▊      | 23/61 [01:50<02:43,  4.31s/it]\u001b[A"
          ]
        },
        {
          "output_type": "stream",
          "name": "stdout",
          "text": [
            "✅ Saved keypoints for bench press_21.mp4 to CSV\n",
            "\n",
            "🎥 Processing Video: bench press_31.mp4\n"
          ]
        },
        {
          "output_type": "stream",
          "name": "stderr",
          "text": [
            "\n",
            "Processing Videos in bench press:  39%|███▉      | 24/61 [01:54<02:32,  4.13s/it]\u001b[A"
          ]
        },
        {
          "output_type": "stream",
          "name": "stdout",
          "text": [
            "✅ Saved keypoints for bench press_31.mp4 to CSV\n",
            "\n",
            "🎥 Processing Video: bench press_3.mp4\n"
          ]
        },
        {
          "output_type": "stream",
          "name": "stderr",
          "text": [
            "\n",
            "Processing Videos in bench press:  41%|████      | 25/61 [01:58<02:29,  4.15s/it]\u001b[A"
          ]
        },
        {
          "output_type": "stream",
          "name": "stdout",
          "text": [
            "✅ Saved keypoints for bench press_3.mp4 to CSV\n",
            "\n",
            "🎥 Processing Video: bench press_16.mp4\n"
          ]
        },
        {
          "output_type": "stream",
          "name": "stderr",
          "text": [
            "\n",
            "Processing Videos in bench press:  43%|████▎     | 26/61 [02:03<02:34,  4.40s/it]\u001b[A"
          ]
        },
        {
          "output_type": "stream",
          "name": "stdout",
          "text": [
            "✅ Saved keypoints for bench press_16.mp4 to CSV\n",
            "\n",
            "🎥 Processing Video: bench press_30.mp4\n"
          ]
        },
        {
          "output_type": "stream",
          "name": "stderr",
          "text": [
            "\n",
            "Processing Videos in bench press:  44%|████▍     | 27/61 [02:06<02:15,  4.00s/it]\u001b[A"
          ]
        },
        {
          "output_type": "stream",
          "name": "stdout",
          "text": [
            "✅ Saved keypoints for bench press_30.mp4 to CSV\n",
            "\n",
            "🎥 Processing Video: bench press_32.mp4\n"
          ]
        },
        {
          "output_type": "stream",
          "name": "stderr",
          "text": [
            "\n",
            "Processing Videos in bench press:  46%|████▌     | 28/61 [02:11<02:23,  4.36s/it]\u001b[A"
          ]
        },
        {
          "output_type": "stream",
          "name": "stdout",
          "text": [
            "✅ Saved keypoints for bench press_32.mp4 to CSV\n",
            "\n",
            "🎥 Processing Video: bench press_44.mp4\n"
          ]
        },
        {
          "output_type": "stream",
          "name": "stderr",
          "text": [
            "\n",
            "Processing Videos in bench press:  48%|████▊     | 29/61 [02:18<02:47,  5.24s/it]\u001b[A"
          ]
        },
        {
          "output_type": "stream",
          "name": "stdout",
          "text": [
            "✅ Saved keypoints for bench press_44.mp4 to CSV\n",
            "\n",
            "🎥 Processing Video: bench press_54.mp4\n"
          ]
        },
        {
          "output_type": "stream",
          "name": "stderr",
          "text": [
            "\n",
            "Processing Videos in bench press:  49%|████▉     | 30/61 [02:23<02:34,  4.98s/it]\u001b[A"
          ]
        },
        {
          "output_type": "stream",
          "name": "stdout",
          "text": [
            "✅ Saved keypoints for bench press_54.mp4 to CSV\n",
            "\n",
            "🎥 Processing Video: bench press_50.mp4\n"
          ]
        },
        {
          "output_type": "stream",
          "name": "stderr",
          "text": [
            "\n",
            "Processing Videos in bench press:  51%|█████     | 31/61 [02:25<02:07,  4.26s/it]\u001b[A"
          ]
        },
        {
          "output_type": "stream",
          "name": "stdout",
          "text": [
            "✅ Saved keypoints for bench press_50.mp4 to CSV\n",
            "\n",
            "🎥 Processing Video: bench press_5.mp4\n"
          ]
        },
        {
          "output_type": "stream",
          "name": "stderr",
          "text": [
            "\n",
            "Processing Videos in bench press:  52%|█████▏    | 32/61 [02:29<01:55,  3.98s/it]\u001b[A"
          ]
        },
        {
          "output_type": "stream",
          "name": "stdout",
          "text": [
            "✅ Saved keypoints for bench press_5.mp4 to CSV\n",
            "\n",
            "🎥 Processing Video: bench press_35.mp4\n"
          ]
        },
        {
          "output_type": "stream",
          "name": "stderr",
          "text": [
            "\n",
            "Processing Videos in bench press:  54%|█████▍    | 33/61 [02:32<01:49,  3.91s/it]\u001b[A"
          ]
        },
        {
          "output_type": "stream",
          "name": "stdout",
          "text": [
            "✅ Saved keypoints for bench press_35.mp4 to CSV\n",
            "\n",
            "🎥 Processing Video: bench press_4.mp4\n"
          ]
        },
        {
          "output_type": "stream",
          "name": "stderr",
          "text": [
            "\n",
            "Processing Videos in bench press:  56%|█████▌    | 34/61 [02:36<01:38,  3.67s/it]\u001b[A"
          ]
        },
        {
          "output_type": "stream",
          "name": "stdout",
          "text": [
            "✅ Saved keypoints for bench press_4.mp4 to CSV\n",
            "\n",
            "🎥 Processing Video: bench press_49.mp4\n"
          ]
        },
        {
          "output_type": "stream",
          "name": "stderr",
          "text": [
            "\n",
            "Processing Videos in bench press:  57%|█████▋    | 35/61 [02:39<01:36,  3.71s/it]\u001b[A"
          ]
        },
        {
          "output_type": "stream",
          "name": "stdout",
          "text": [
            "✅ Saved keypoints for bench press_49.mp4 to CSV\n",
            "\n",
            "🎥 Processing Video: bench press_41.mp4\n"
          ]
        },
        {
          "output_type": "stream",
          "name": "stderr",
          "text": [
            "\n",
            "Processing Videos in bench press:  59%|█████▉    | 36/61 [02:44<01:40,  4.01s/it]\u001b[A"
          ]
        },
        {
          "output_type": "stream",
          "name": "stdout",
          "text": [
            "✅ Saved keypoints for bench press_41.mp4 to CSV\n",
            "\n",
            "🎥 Processing Video: bench press_40.mp4\n"
          ]
        },
        {
          "output_type": "stream",
          "name": "stderr",
          "text": [
            "\n",
            "Processing Videos in bench press:  61%|██████    | 37/61 [02:54<02:21,  5.88s/it]\u001b[A"
          ]
        },
        {
          "output_type": "stream",
          "name": "stdout",
          "text": [
            "✅ Saved keypoints for bench press_40.mp4 to CSV\n",
            "\n",
            "🎥 Processing Video: bench press_55.mp4\n"
          ]
        },
        {
          "output_type": "stream",
          "name": "stderr",
          "text": [
            "\n",
            "Processing Videos in bench press:  62%|██████▏   | 38/61 [02:57<01:51,  4.85s/it]\u001b[A"
          ]
        },
        {
          "output_type": "stream",
          "name": "stdout",
          "text": [
            "✅ Saved keypoints for bench press_55.mp4 to CSV\n",
            "\n",
            "🎥 Processing Video: bench press_53.mp4\n"
          ]
        },
        {
          "output_type": "stream",
          "name": "stderr",
          "text": [
            "\n",
            "Processing Videos in bench press:  64%|██████▍   | 39/61 [02:59<01:32,  4.21s/it]\u001b[A"
          ]
        },
        {
          "output_type": "stream",
          "name": "stdout",
          "text": [
            "✅ Saved keypoints for bench press_53.mp4 to CSV\n",
            "\n",
            "🎥 Processing Video: bench press_45.mp4\n"
          ]
        },
        {
          "output_type": "stream",
          "name": "stderr",
          "text": [
            "\n",
            "Processing Videos in bench press:  66%|██████▌   | 40/61 [03:04<01:30,  4.29s/it]\u001b[A"
          ]
        },
        {
          "output_type": "stream",
          "name": "stdout",
          "text": [
            "✅ Saved keypoints for bench press_45.mp4 to CSV\n",
            "\n",
            "🎥 Processing Video: bench press_38.mp4\n"
          ]
        },
        {
          "output_type": "stream",
          "name": "stderr",
          "text": [
            "\n",
            "Processing Videos in bench press:  67%|██████▋   | 41/61 [03:07<01:17,  3.89s/it]\u001b[A"
          ]
        },
        {
          "output_type": "stream",
          "name": "stdout",
          "text": [
            "✅ Saved keypoints for bench press_38.mp4 to CSV\n",
            "\n",
            "🎥 Processing Video: bench press_36.mp4\n"
          ]
        },
        {
          "output_type": "stream",
          "name": "stderr",
          "text": [
            "\n",
            "Processing Videos in bench press:  69%|██████▉   | 42/61 [03:15<01:36,  5.06s/it]\u001b[A"
          ]
        },
        {
          "output_type": "stream",
          "name": "stdout",
          "text": [
            "✅ Saved keypoints for bench press_36.mp4 to CSV\n",
            "\n",
            "🎥 Processing Video: bench press_51.mp4\n"
          ]
        },
        {
          "output_type": "stream",
          "name": "stderr",
          "text": [
            "\n",
            "Processing Videos in bench press:  70%|███████   | 43/61 [03:18<01:19,  4.42s/it]\u001b[A"
          ]
        },
        {
          "output_type": "stream",
          "name": "stdout",
          "text": [
            "✅ Saved keypoints for bench press_51.mp4 to CSV\n",
            "\n",
            "🎥 Processing Video: bench press_43.mp4\n"
          ]
        },
        {
          "output_type": "stream",
          "name": "stderr",
          "text": [
            "\n",
            "Processing Videos in bench press:  72%|███████▏  | 44/61 [03:21<01:10,  4.15s/it]\u001b[A"
          ]
        },
        {
          "output_type": "stream",
          "name": "stdout",
          "text": [
            "✅ Saved keypoints for bench press_43.mp4 to CSV\n",
            "\n",
            "🎥 Processing Video: bench press_37.mp4\n"
          ]
        },
        {
          "output_type": "stream",
          "name": "stderr",
          "text": [
            "\n",
            "Processing Videos in bench press:  74%|███████▍  | 45/61 [03:39<02:11,  8.22s/it]\u001b[A"
          ]
        },
        {
          "output_type": "stream",
          "name": "stdout",
          "text": [
            "✅ Saved keypoints for bench press_37.mp4 to CSV\n",
            "\n",
            "🎥 Processing Video: bench press_52.mp4\n"
          ]
        },
        {
          "output_type": "stream",
          "name": "stderr",
          "text": [
            "\n",
            "Processing Videos in bench press:  75%|███████▌  | 46/61 [03:42<01:39,  6.66s/it]\u001b[A"
          ]
        },
        {
          "output_type": "stream",
          "name": "stdout",
          "text": [
            "✅ Saved keypoints for bench press_52.mp4 to CSV\n",
            "\n",
            "🎥 Processing Video: bench press_42.mp4\n"
          ]
        },
        {
          "output_type": "stream",
          "name": "stderr",
          "text": [
            "\n",
            "Processing Videos in bench press:  77%|███████▋  | 47/61 [03:48<01:29,  6.36s/it]\u001b[A"
          ]
        },
        {
          "output_type": "stream",
          "name": "stdout",
          "text": [
            "✅ Saved keypoints for bench press_42.mp4 to CSV\n",
            "\n",
            "🎥 Processing Video: bench press_48.mp4\n"
          ]
        },
        {
          "output_type": "stream",
          "name": "stderr",
          "text": [
            "\n",
            "Processing Videos in bench press:  79%|███████▊  | 48/61 [03:57<01:33,  7.22s/it]\u001b[A"
          ]
        },
        {
          "output_type": "stream",
          "name": "stdout",
          "text": [
            "✅ Saved keypoints for bench press_48.mp4 to CSV\n",
            "\n",
            "🎥 Processing Video: bench press_46.mp4\n"
          ]
        },
        {
          "output_type": "stream",
          "name": "stderr",
          "text": [
            "\n",
            "Processing Videos in bench press:  80%|████████  | 49/61 [03:59<01:09,  5.76s/it]\u001b[A"
          ]
        },
        {
          "output_type": "stream",
          "name": "stdout",
          "text": [
            "✅ Saved keypoints for bench press_46.mp4 to CSV\n",
            "\n",
            "🎥 Processing Video: bench press_39.mp4\n"
          ]
        },
        {
          "output_type": "stream",
          "name": "stderr",
          "text": [
            "\n",
            "Processing Videos in bench press:  82%|████████▏ | 50/61 [04:39<02:54, 15.90s/it]\u001b[A"
          ]
        },
        {
          "output_type": "stream",
          "name": "stdout",
          "text": [
            "✅ Saved keypoints for bench press_39.mp4 to CSV\n",
            "\n",
            "🎥 Processing Video: bench press_47.mp4\n"
          ]
        },
        {
          "output_type": "stream",
          "name": "stderr",
          "text": [
            "\n",
            "Processing Videos in bench press:  84%|████████▎ | 51/61 [04:43<02:04, 12.41s/it]\u001b[A"
          ]
        },
        {
          "output_type": "stream",
          "name": "stdout",
          "text": [
            "✅ Saved keypoints for bench press_47.mp4 to CSV\n",
            "\n",
            "🎥 Processing Video: bench press_56.mp4\n"
          ]
        },
        {
          "output_type": "stream",
          "name": "stderr",
          "text": [
            "\n",
            "Processing Videos in bench press:  85%|████████▌ | 52/61 [04:48<01:30, 10.06s/it]\u001b[A"
          ]
        },
        {
          "output_type": "stream",
          "name": "stdout",
          "text": [
            "✅ Saved keypoints for bench press_56.mp4 to CSV\n",
            "\n",
            "🎥 Processing Video: bench press_60.mp4\n"
          ]
        },
        {
          "output_type": "stream",
          "name": "stderr",
          "text": [
            "\n",
            "Processing Videos in bench press:  87%|████████▋ | 53/61 [04:56<01:16,  9.50s/it]\u001b[A"
          ]
        },
        {
          "output_type": "stream",
          "name": "stdout",
          "text": [
            "✅ Saved keypoints for bench press_60.mp4 to CSV\n",
            "\n",
            "🎥 Processing Video: bench press_61.mp4\n"
          ]
        },
        {
          "output_type": "stream",
          "name": "stderr",
          "text": [
            "\n",
            "Processing Videos in bench press:  89%|████████▊ | 54/61 [05:00<00:56,  8.08s/it]\u001b[A"
          ]
        },
        {
          "output_type": "stream",
          "name": "stdout",
          "text": [
            "✅ Saved keypoints for bench press_61.mp4 to CSV\n",
            "\n",
            "🎥 Processing Video: bench press_7.mp4\n"
          ]
        },
        {
          "output_type": "stream",
          "name": "stderr",
          "text": [
            "\n",
            "Processing Videos in bench press:  90%|█████████ | 55/61 [05:05<00:41,  6.87s/it]\u001b[A"
          ]
        },
        {
          "output_type": "stream",
          "name": "stdout",
          "text": [
            "✅ Saved keypoints for bench press_7.mp4 to CSV\n",
            "\n",
            "🎥 Processing Video: bench press_6.mp4\n"
          ]
        },
        {
          "output_type": "stream",
          "name": "stderr",
          "text": [
            "\n",
            "Processing Videos in bench press:  92%|█████████▏| 56/61 [05:10<00:32,  6.42s/it]\u001b[A"
          ]
        },
        {
          "output_type": "stream",
          "name": "stdout",
          "text": [
            "✅ Saved keypoints for bench press_6.mp4 to CSV\n",
            "\n",
            "🎥 Processing Video: bench press_9.mp4\n"
          ]
        },
        {
          "output_type": "stream",
          "name": "stderr",
          "text": [
            "\n",
            "Processing Videos in bench press:  93%|█████████▎| 57/61 [05:12<00:20,  5.23s/it]\u001b[A"
          ]
        },
        {
          "output_type": "stream",
          "name": "stdout",
          "text": [
            "✅ Saved keypoints for bench press_9.mp4 to CSV\n",
            "\n",
            "🎥 Processing Video: bench press_8.mp4\n"
          ]
        },
        {
          "output_type": "stream",
          "name": "stderr",
          "text": [
            "\n",
            "Processing Videos in bench press:  95%|█████████▌| 58/61 [05:17<00:14,  4.90s/it]\u001b[A"
          ]
        },
        {
          "output_type": "stream",
          "name": "stdout",
          "text": [
            "✅ Saved keypoints for bench press_8.mp4 to CSV\n",
            "\n",
            "🎥 Processing Video: bench press_58.mp4\n"
          ]
        },
        {
          "output_type": "stream",
          "name": "stderr",
          "text": [
            "\n",
            "Processing Videos in bench press:  97%|█████████▋| 59/61 [05:19<00:08,  4.14s/it]\u001b[A"
          ]
        },
        {
          "output_type": "stream",
          "name": "stdout",
          "text": [
            "✅ Saved keypoints for bench press_58.mp4 to CSV\n",
            "\n",
            "🎥 Processing Video: bench press_57.mp4\n"
          ]
        },
        {
          "output_type": "stream",
          "name": "stderr",
          "text": [
            "\n",
            "Processing Videos in bench press:  98%|█████████▊| 60/61 [05:25<00:04,  4.85s/it]\u001b[A"
          ]
        },
        {
          "output_type": "stream",
          "name": "stdout",
          "text": [
            "✅ Saved keypoints for bench press_57.mp4 to CSV\n",
            "\n",
            "🎥 Processing Video: bench press_59.mp4\n"
          ]
        },
        {
          "output_type": "stream",
          "name": "stderr",
          "text": [
            "\n",
            "Processing Videos in bench press: 100%|██████████| 61/61 [05:32<00:00,  5.44s/it]\n",
            "Processing Exercise Folders:  95%|█████████▌| 21/22 [1:28:21<04:29, 269.47s/it]"
          ]
        },
        {
          "output_type": "stream",
          "name": "stdout",
          "text": [
            "✅ Saved keypoints for bench press_59.mp4 to CSV\n",
            "\n",
            "📂 Processing Exercise: barbell biceps curl\n",
            "\n"
          ]
        },
        {
          "output_type": "stream",
          "name": "stderr",
          "text": [
            "\n",
            "Processing Videos in barbell biceps curl:   0%|          | 0/62 [00:00<?, ?it/s]\u001b[A"
          ]
        },
        {
          "output_type": "stream",
          "name": "stdout",
          "text": [
            "🎥 Processing Video: barbell biceps curl_15.mp4\n"
          ]
        },
        {
          "output_type": "stream",
          "name": "stderr",
          "text": [
            "\n",
            "Processing Videos in barbell biceps curl:   2%|▏         | 1/62 [00:03<03:32,  3.48s/it]\u001b[A"
          ]
        },
        {
          "output_type": "stream",
          "name": "stdout",
          "text": [
            "✅ Saved keypoints for barbell biceps curl_15.mp4 to CSV\n",
            "\n",
            "🎥 Processing Video: barbell biceps curl_32.mp4\n"
          ]
        },
        {
          "output_type": "stream",
          "name": "stderr",
          "text": [
            "\n",
            "Processing Videos in barbell biceps curl:   3%|▎         | 2/62 [00:08<04:06,  4.12s/it]\u001b[A"
          ]
        },
        {
          "output_type": "stream",
          "name": "stdout",
          "text": [
            "✅ Saved keypoints for barbell biceps curl_32.mp4 to CSV\n",
            "\n",
            "🎥 Processing Video: barbell biceps curl_3.mp4\n"
          ]
        },
        {
          "output_type": "stream",
          "name": "stderr",
          "text": [
            "\n",
            "Processing Videos in barbell biceps curl:   5%|▍         | 3/62 [00:11<03:44,  3.80s/it]\u001b[A"
          ]
        },
        {
          "output_type": "stream",
          "name": "stdout",
          "text": [
            "✅ Saved keypoints for barbell biceps curl_3.mp4 to CSV\n",
            "\n",
            "🎥 Processing Video: barbell biceps curl_29.mp4\n"
          ]
        },
        {
          "output_type": "stream",
          "name": "stderr",
          "text": [
            "\n",
            "Processing Videos in barbell biceps curl:   6%|▋         | 4/62 [00:14<03:27,  3.57s/it]\u001b[A"
          ]
        },
        {
          "output_type": "stream",
          "name": "stdout",
          "text": [
            "✅ Saved keypoints for barbell biceps curl_29.mp4 to CSV\n",
            "\n",
            "🎥 Processing Video: barbell biceps curl_16.mp4\n"
          ]
        },
        {
          "output_type": "stream",
          "name": "stderr",
          "text": [
            "\n",
            "Processing Videos in barbell biceps curl:   8%|▊         | 5/62 [00:19<03:56,  4.15s/it]\u001b[A"
          ]
        },
        {
          "output_type": "stream",
          "name": "stdout",
          "text": [
            "✅ Saved keypoints for barbell biceps curl_16.mp4 to CSV\n",
            "\n",
            "🎥 Processing Video: barbell biceps curl_26.mp4\n"
          ]
        },
        {
          "output_type": "stream",
          "name": "stderr",
          "text": [
            "\n",
            "Processing Videos in barbell biceps curl:  10%|▉         | 6/62 [00:24<03:54,  4.19s/it]\u001b[A"
          ]
        },
        {
          "output_type": "stream",
          "name": "stdout",
          "text": [
            "✅ Saved keypoints for barbell biceps curl_26.mp4 to CSV\n",
            "\n",
            "🎥 Processing Video: barbell biceps curl_31.mp4\n"
          ]
        },
        {
          "output_type": "stream",
          "name": "stderr",
          "text": [
            "\n",
            "Processing Videos in barbell biceps curl:  11%|█▏        | 7/62 [00:27<03:34,  3.91s/it]\u001b[A"
          ]
        },
        {
          "output_type": "stream",
          "name": "stdout",
          "text": [
            "✅ Saved keypoints for barbell biceps curl_31.mp4 to CSV\n",
            "\n",
            "🎥 Processing Video: barbell biceps curl_10.mp4\n"
          ]
        },
        {
          "output_type": "stream",
          "name": "stderr",
          "text": [
            "\n",
            "Processing Videos in barbell biceps curl:  13%|█▎        | 8/62 [00:32<03:46,  4.19s/it]\u001b[A"
          ]
        },
        {
          "output_type": "stream",
          "name": "stdout",
          "text": [
            "✅ Saved keypoints for barbell biceps curl_10.mp4 to CSV\n",
            "\n",
            "🎥 Processing Video: barbell biceps curl_13.mp4\n"
          ]
        },
        {
          "output_type": "stream",
          "name": "stderr",
          "text": [
            "\n",
            "Processing Videos in barbell biceps curl:  15%|█▍        | 9/62 [00:38<04:22,  4.95s/it]\u001b[A"
          ]
        },
        {
          "output_type": "stream",
          "name": "stdout",
          "text": [
            "✅ Saved keypoints for barbell biceps curl_13.mp4 to CSV\n",
            "\n",
            "🎥 Processing Video: barbell biceps curl_25.mp4\n"
          ]
        },
        {
          "output_type": "stream",
          "name": "stderr",
          "text": [
            "\n",
            "Processing Videos in barbell biceps curl:  16%|█▌        | 10/62 [00:42<03:57,  4.57s/it]\u001b[A"
          ]
        },
        {
          "output_type": "stream",
          "name": "stdout",
          "text": [
            "✅ Saved keypoints for barbell biceps curl_25.mp4 to CSV\n",
            "\n",
            "🎥 Processing Video: barbell biceps curl_24.mp4\n"
          ]
        },
        {
          "output_type": "stream",
          "name": "stderr",
          "text": [
            "\n",
            "Processing Videos in barbell biceps curl:  18%|█▊        | 11/62 [00:47<03:54,  4.60s/it]\u001b[A"
          ]
        },
        {
          "output_type": "stream",
          "name": "stdout",
          "text": [
            "✅ Saved keypoints for barbell biceps curl_24.mp4 to CSV\n",
            "\n",
            "🎥 Processing Video: barbell biceps curl_12.mp4\n"
          ]
        },
        {
          "output_type": "stream",
          "name": "stderr",
          "text": [
            "\n",
            "Processing Videos in barbell biceps curl:  19%|█▉        | 12/62 [00:53<04:15,  5.12s/it]\u001b[A"
          ]
        },
        {
          "output_type": "stream",
          "name": "stdout",
          "text": [
            "✅ Saved keypoints for barbell biceps curl_12.mp4 to CSV\n",
            "\n",
            "🎥 Processing Video: barbell biceps curl_20.mp4\n"
          ]
        },
        {
          "output_type": "stream",
          "name": "stderr",
          "text": [
            "\n",
            "Processing Videos in barbell biceps curl:  21%|██        | 13/62 [00:56<03:37,  4.44s/it]\u001b[A"
          ]
        },
        {
          "output_type": "stream",
          "name": "stdout",
          "text": [
            "✅ Saved keypoints for barbell biceps curl_20.mp4 to CSV\n",
            "\n",
            "🎥 Processing Video: barbell biceps curl_1.mp4\n"
          ]
        },
        {
          "output_type": "stream",
          "name": "stderr",
          "text": [
            "\n",
            "Processing Videos in barbell biceps curl:  23%|██▎       | 14/62 [01:03<04:05,  5.11s/it]\u001b[A"
          ]
        },
        {
          "output_type": "stream",
          "name": "stdout",
          "text": [
            "✅ Saved keypoints for barbell biceps curl_1.mp4 to CSV\n",
            "\n",
            "🎥 Processing Video: barbell biceps curl_30.mp4\n"
          ]
        },
        {
          "output_type": "stream",
          "name": "stderr",
          "text": [
            "\n",
            "Processing Videos in barbell biceps curl:  24%|██▍       | 15/62 [01:05<03:28,  4.43s/it]\u001b[A"
          ]
        },
        {
          "output_type": "stream",
          "name": "stdout",
          "text": [
            "✅ Saved keypoints for barbell biceps curl_30.mp4 to CSV\n",
            "\n",
            "🎥 Processing Video: barbell biceps curl_17.mp4\n"
          ]
        },
        {
          "output_type": "stream",
          "name": "stderr",
          "text": [
            "\n",
            "Processing Videos in barbell biceps curl:  26%|██▌       | 16/62 [01:08<03:04,  4.00s/it]\u001b[A"
          ]
        },
        {
          "output_type": "stream",
          "name": "stdout",
          "text": [
            "✅ Saved keypoints for barbell biceps curl_17.mp4 to CSV\n",
            "\n",
            "🎥 Processing Video: barbell biceps curl_23.mp4\n"
          ]
        },
        {
          "output_type": "stream",
          "name": "stderr",
          "text": [
            "\n",
            "Processing Videos in barbell biceps curl:  27%|██▋       | 17/62 [01:12<02:51,  3.81s/it]\u001b[A"
          ]
        },
        {
          "output_type": "stream",
          "name": "stdout",
          "text": [
            "✅ Saved keypoints for barbell biceps curl_23.mp4 to CSV\n",
            "\n",
            "🎥 Processing Video: barbell biceps curl_27.mp4\n"
          ]
        },
        {
          "output_type": "stream",
          "name": "stderr",
          "text": [
            "\n",
            "Processing Videos in barbell biceps curl:  29%|██▉       | 18/62 [01:15<02:44,  3.75s/it]\u001b[A"
          ]
        },
        {
          "output_type": "stream",
          "name": "stdout",
          "text": [
            "✅ Saved keypoints for barbell biceps curl_27.mp4 to CSV\n",
            "\n",
            "🎥 Processing Video: barbell biceps curl_11.mp4\n"
          ]
        },
        {
          "output_type": "stream",
          "name": "stderr",
          "text": [
            "\n",
            "Processing Videos in barbell biceps curl:  31%|███       | 19/62 [01:20<02:47,  3.89s/it]\u001b[A"
          ]
        },
        {
          "output_type": "stream",
          "name": "stdout",
          "text": [
            "✅ Saved keypoints for barbell biceps curl_11.mp4 to CSV\n",
            "\n",
            "🎥 Processing Video: barbell biceps curl_34.mp4\n"
          ]
        },
        {
          "output_type": "stream",
          "name": "stderr",
          "text": [
            "\n",
            "Processing Videos in barbell biceps curl:  32%|███▏      | 20/62 [01:23<02:33,  3.66s/it]\u001b[A"
          ]
        },
        {
          "output_type": "stream",
          "name": "stdout",
          "text": [
            "✅ Saved keypoints for barbell biceps curl_34.mp4 to CSV\n",
            "\n",
            "🎥 Processing Video: barbell biceps curl_28.mp4\n"
          ]
        },
        {
          "output_type": "stream",
          "name": "stderr",
          "text": [
            "\n",
            "Processing Videos in barbell biceps curl:  34%|███▍      | 21/62 [01:26<02:25,  3.55s/it]\u001b[A"
          ]
        },
        {
          "output_type": "stream",
          "name": "stdout",
          "text": [
            "✅ Saved keypoints for barbell biceps curl_28.mp4 to CSV\n",
            "\n",
            "🎥 Processing Video: barbell biceps curl_33.mp4\n"
          ]
        },
        {
          "output_type": "stream",
          "name": "stderr",
          "text": [
            "\n",
            "Processing Videos in barbell biceps curl:  35%|███▌      | 22/62 [01:30<02:29,  3.74s/it]\u001b[A"
          ]
        },
        {
          "output_type": "stream",
          "name": "stdout",
          "text": [
            "✅ Saved keypoints for barbell biceps curl_33.mp4 to CSV\n",
            "\n",
            "🎥 Processing Video: barbell biceps curl_18.mp4\n"
          ]
        },
        {
          "output_type": "stream",
          "name": "stderr",
          "text": [
            "\n",
            "Processing Videos in barbell biceps curl:  37%|███▋      | 23/62 [01:34<02:25,  3.73s/it]\u001b[A"
          ]
        },
        {
          "output_type": "stream",
          "name": "stdout",
          "text": [
            "✅ Saved keypoints for barbell biceps curl_18.mp4 to CSV\n",
            "\n",
            "🎥 Processing Video: barbell biceps curl_2.mp4\n"
          ]
        },
        {
          "output_type": "stream",
          "name": "stderr",
          "text": [
            "\n",
            "Processing Videos in barbell biceps curl:  39%|███▊      | 24/62 [01:38<02:24,  3.81s/it]\u001b[A"
          ]
        },
        {
          "output_type": "stream",
          "name": "stdout",
          "text": [
            "✅ Saved keypoints for barbell biceps curl_2.mp4 to CSV\n",
            "\n",
            "🎥 Processing Video: barbell biceps curl_19.mp4\n"
          ]
        },
        {
          "output_type": "stream",
          "name": "stderr",
          "text": [
            "\n",
            "Processing Videos in barbell biceps curl:  40%|████      | 25/62 [01:41<02:12,  3.57s/it]\u001b[A"
          ]
        },
        {
          "output_type": "stream",
          "name": "stdout",
          "text": [
            "✅ Saved keypoints for barbell biceps curl_19.mp4 to CSV\n",
            "\n",
            "🎥 Processing Video: barbell biceps curl_22.mp4\n"
          ]
        },
        {
          "output_type": "stream",
          "name": "stderr",
          "text": [
            "\n",
            "Processing Videos in barbell biceps curl:  42%|████▏     | 26/62 [01:46<02:20,  3.90s/it]\u001b[A"
          ]
        },
        {
          "output_type": "stream",
          "name": "stdout",
          "text": [
            "✅ Saved keypoints for barbell biceps curl_22.mp4 to CSV\n",
            "\n",
            "🎥 Processing Video: barbell biceps curl_14.mp4\n"
          ]
        },
        {
          "output_type": "stream",
          "name": "stderr",
          "text": [
            "\n",
            "Processing Videos in barbell biceps curl:  44%|████▎     | 27/62 [01:49<02:11,  3.77s/it]\u001b[A"
          ]
        },
        {
          "output_type": "stream",
          "name": "stdout",
          "text": [
            "✅ Saved keypoints for barbell biceps curl_14.mp4 to CSV\n",
            "\n",
            "🎥 Processing Video: barbell biceps curl_21.mp4\n"
          ]
        },
        {
          "output_type": "stream",
          "name": "stderr",
          "text": [
            "\n",
            "Processing Videos in barbell biceps curl:  45%|████▌     | 28/62 [01:53<02:05,  3.68s/it]\u001b[A"
          ]
        },
        {
          "output_type": "stream",
          "name": "stdout",
          "text": [
            "✅ Saved keypoints for barbell biceps curl_21.mp4 to CSV\n",
            "\n",
            "🎥 Processing Video: barbell biceps curl_5.mp4\n"
          ]
        },
        {
          "output_type": "stream",
          "name": "stderr",
          "text": [
            "\n",
            "Processing Videos in barbell biceps curl:  47%|████▋     | 29/62 [01:57<02:07,  3.85s/it]\u001b[A"
          ]
        },
        {
          "output_type": "stream",
          "name": "stdout",
          "text": [
            "✅ Saved keypoints for barbell biceps curl_5.mp4 to CSV\n",
            "\n",
            "🎥 Processing Video: barbell biceps curl_50.mp4\n"
          ]
        },
        {
          "output_type": "stream",
          "name": "stderr",
          "text": [
            "\n",
            "Processing Videos in barbell biceps curl:  48%|████▊     | 30/62 [02:04<02:35,  4.86s/it]\u001b[A"
          ]
        },
        {
          "output_type": "stream",
          "name": "stdout",
          "text": [
            "✅ Saved keypoints for barbell biceps curl_50.mp4 to CSV\n",
            "\n",
            "🎥 Processing Video: barbell biceps curl_54.mp4\n"
          ]
        },
        {
          "output_type": "stream",
          "name": "stderr",
          "text": [
            "\n",
            "Processing Videos in barbell biceps curl:  50%|█████     | 31/62 [02:11<02:51,  5.53s/it]\u001b[A"
          ]
        },
        {
          "output_type": "stream",
          "name": "stdout",
          "text": [
            "✅ Saved keypoints for barbell biceps curl_54.mp4 to CSV\n",
            "\n",
            "🎥 Processing Video: barbell biceps curl_35.mp4\n"
          ]
        },
        {
          "output_type": "stream",
          "name": "stderr",
          "text": [
            "\n",
            "Processing Videos in barbell biceps curl:  52%|█████▏    | 32/62 [02:16<02:37,  5.25s/it]\u001b[A"
          ]
        },
        {
          "output_type": "stream",
          "name": "stdout",
          "text": [
            "✅ Saved keypoints for barbell biceps curl_35.mp4 to CSV\n",
            "\n",
            "🎥 Processing Video: barbell biceps curl_36.mp4\n"
          ]
        },
        {
          "output_type": "stream",
          "name": "stderr",
          "text": [
            "\n",
            "Processing Videos in barbell biceps curl:  53%|█████▎    | 33/62 [02:18<02:08,  4.43s/it]\u001b[A"
          ]
        },
        {
          "output_type": "stream",
          "name": "stdout",
          "text": [
            "✅ Saved keypoints for barbell biceps curl_36.mp4 to CSV\n",
            "\n",
            "🎥 Processing Video: barbell biceps curl_44.mp4\n"
          ]
        },
        {
          "output_type": "stream",
          "name": "stderr",
          "text": [
            "\n",
            "Processing Videos in barbell biceps curl:  55%|█████▍    | 34/62 [02:29<02:53,  6.20s/it]\u001b[A"
          ]
        },
        {
          "output_type": "stream",
          "name": "stdout",
          "text": [
            "✅ Saved keypoints for barbell biceps curl_44.mp4 to CSV\n",
            "\n",
            "🎥 Processing Video: barbell biceps curl_46.mp4\n"
          ]
        },
        {
          "output_type": "stream",
          "name": "stderr",
          "text": [
            "\n",
            "Processing Videos in barbell biceps curl:  56%|█████▋    | 35/62 [02:33<02:30,  5.59s/it]\u001b[A"
          ]
        },
        {
          "output_type": "stream",
          "name": "stdout",
          "text": [
            "✅ Saved keypoints for barbell biceps curl_46.mp4 to CSV\n",
            "\n",
            "🎥 Processing Video: barbell biceps curl_51.mp4\n"
          ]
        },
        {
          "output_type": "stream",
          "name": "stderr",
          "text": [
            "\n",
            "Processing Videos in barbell biceps curl:  58%|█████▊    | 36/62 [02:46<03:23,  7.82s/it]\u001b[A"
          ]
        },
        {
          "output_type": "stream",
          "name": "stdout",
          "text": [
            "✅ Saved keypoints for barbell biceps curl_51.mp4 to CSV\n",
            "\n",
            "🎥 Processing Video: barbell biceps curl_55.mp4\n"
          ]
        },
        {
          "output_type": "stream",
          "name": "stderr",
          "text": [
            "\n",
            "Processing Videos in barbell biceps curl:  60%|█████▉    | 37/62 [02:52<03:02,  7.32s/it]\u001b[A"
          ]
        },
        {
          "output_type": "stream",
          "name": "stdout",
          "text": [
            "✅ Saved keypoints for barbell biceps curl_55.mp4 to CSV\n",
            "\n",
            "🎥 Processing Video: barbell biceps curl_38.mp4\n"
          ]
        },
        {
          "output_type": "stream",
          "name": "stderr",
          "text": [
            "\n",
            "Processing Videos in barbell biceps curl:  61%|██████▏   | 38/62 [02:55<02:27,  6.15s/it]\u001b[A"
          ]
        },
        {
          "output_type": "stream",
          "name": "stdout",
          "text": [
            "✅ Saved keypoints for barbell biceps curl_38.mp4 to CSV\n",
            "\n",
            "🎥 Processing Video: barbell biceps curl_40.mp4\n"
          ]
        },
        {
          "output_type": "stream",
          "name": "stderr",
          "text": [
            "\n",
            "Processing Videos in barbell biceps curl:  63%|██████▎   | 39/62 [03:04<02:41,  7.04s/it]\u001b[A"
          ]
        },
        {
          "output_type": "stream",
          "name": "stdout",
          "text": [
            "✅ Saved keypoints for barbell biceps curl_40.mp4 to CSV\n",
            "\n",
            "🎥 Processing Video: barbell biceps curl_52.mp4\n"
          ]
        },
        {
          "output_type": "stream",
          "name": "stderr",
          "text": [
            "\n",
            "Processing Videos in barbell biceps curl:  65%|██████▍   | 40/62 [03:21<03:37,  9.88s/it]\u001b[A"
          ]
        },
        {
          "output_type": "stream",
          "name": "stdout",
          "text": [
            "✅ Saved keypoints for barbell biceps curl_52.mp4 to CSV\n",
            "\n",
            "🎥 Processing Video: barbell biceps curl_42.mp4\n"
          ]
        },
        {
          "output_type": "stream",
          "name": "stderr",
          "text": [
            "\n",
            "Processing Videos in barbell biceps curl:  66%|██████▌   | 41/62 [03:28<03:12,  9.16s/it]\u001b[A"
          ]
        },
        {
          "output_type": "stream",
          "name": "stdout",
          "text": [
            "✅ Saved keypoints for barbell biceps curl_42.mp4 to CSV\n",
            "\n",
            "🎥 Processing Video: barbell biceps curl_45.mp4\n"
          ]
        },
        {
          "output_type": "stream",
          "name": "stderr",
          "text": [
            "\n",
            "Processing Videos in barbell biceps curl:  68%|██████▊   | 42/62 [03:46<03:50, 11.54s/it]\u001b[A"
          ]
        },
        {
          "output_type": "stream",
          "name": "stdout",
          "text": [
            "✅ Saved keypoints for barbell biceps curl_45.mp4 to CSV\n",
            "\n",
            "🎥 Processing Video: barbell biceps curl_57.mp4\n"
          ]
        },
        {
          "output_type": "stream",
          "name": "stderr",
          "text": [
            "\n",
            "Processing Videos in barbell biceps curl:  69%|██████▉   | 43/62 [03:57<03:38, 11.48s/it]\u001b[A"
          ]
        },
        {
          "output_type": "stream",
          "name": "stdout",
          "text": [
            "✅ Saved keypoints for barbell biceps curl_57.mp4 to CSV\n",
            "\n",
            "🎥 Processing Video: barbell biceps curl_39.mp4\n"
          ]
        },
        {
          "output_type": "stream",
          "name": "stderr",
          "text": [
            "\n",
            "Processing Videos in barbell biceps curl:  71%|███████   | 44/62 [04:00<02:39,  8.85s/it]\u001b[A"
          ]
        },
        {
          "output_type": "stream",
          "name": "stdout",
          "text": [
            "✅ Saved keypoints for barbell biceps curl_39.mp4 to CSV\n",
            "\n",
            "🎥 Processing Video: barbell biceps curl_43.mp4\n"
          ]
        },
        {
          "output_type": "stream",
          "name": "stderr",
          "text": [
            "\n",
            "Processing Videos in barbell biceps curl:  73%|███████▎  | 45/62 [04:05<02:13,  7.85s/it]\u001b[A"
          ]
        },
        {
          "output_type": "stream",
          "name": "stdout",
          "text": [
            "✅ Saved keypoints for barbell biceps curl_43.mp4 to CSV\n",
            "\n",
            "🎥 Processing Video: barbell biceps curl_56.mp4\n"
          ]
        },
        {
          "output_type": "stream",
          "name": "stderr",
          "text": [
            "\n",
            "Processing Videos in barbell biceps curl:  74%|███████▍  | 46/62 [04:16<02:18,  8.64s/it]\u001b[A"
          ]
        },
        {
          "output_type": "stream",
          "name": "stdout",
          "text": [
            "✅ Saved keypoints for barbell biceps curl_56.mp4 to CSV\n",
            "\n",
            "🎥 Processing Video: barbell biceps curl_47.mp4\n"
          ]
        },
        {
          "output_type": "stream",
          "name": "stderr",
          "text": [
            "\n",
            "Processing Videos in barbell biceps curl:  76%|███████▌  | 47/62 [04:21<01:54,  7.61s/it]\u001b[A"
          ]
        },
        {
          "output_type": "stream",
          "name": "stdout",
          "text": [
            "✅ Saved keypoints for barbell biceps curl_47.mp4 to CSV\n",
            "\n",
            "🎥 Processing Video: barbell biceps curl_53.mp4\n"
          ]
        },
        {
          "output_type": "stream",
          "name": "stderr",
          "text": [
            "\n",
            "Processing Videos in barbell biceps curl:  77%|███████▋  | 48/62 [04:29<01:50,  7.89s/it]\u001b[A"
          ]
        },
        {
          "output_type": "stream",
          "name": "stdout",
          "text": [
            "✅ Saved keypoints for barbell biceps curl_53.mp4 to CSV\n",
            "\n",
            "🎥 Processing Video: barbell biceps curl_49.mp4\n"
          ]
        },
        {
          "output_type": "stream",
          "name": "stderr",
          "text": [
            "\n",
            "Processing Videos in barbell biceps curl:  79%|███████▉  | 49/62 [04:33<01:27,  6.73s/it]\u001b[A"
          ]
        },
        {
          "output_type": "stream",
          "name": "stdout",
          "text": [
            "✅ Saved keypoints for barbell biceps curl_49.mp4 to CSV\n",
            "\n",
            "🎥 Processing Video: barbell biceps curl_41.mp4\n"
          ]
        },
        {
          "output_type": "stream",
          "name": "stderr",
          "text": [
            "\n",
            "Processing Videos in barbell biceps curl:  81%|████████  | 50/62 [04:43<01:31,  7.60s/it]\u001b[A"
          ]
        },
        {
          "output_type": "stream",
          "name": "stdout",
          "text": [
            "✅ Saved keypoints for barbell biceps curl_41.mp4 to CSV\n",
            "\n",
            "🎥 Processing Video: barbell biceps curl_4.mp4\n"
          ]
        },
        {
          "output_type": "stream",
          "name": "stderr",
          "text": [
            "\n",
            "Processing Videos in barbell biceps curl:  82%|████████▏ | 51/62 [04:46<01:07,  6.16s/it]\u001b[A"
          ]
        },
        {
          "output_type": "stream",
          "name": "stdout",
          "text": [
            "✅ Saved keypoints for barbell biceps curl_4.mp4 to CSV\n",
            "\n",
            "🎥 Processing Video: barbell biceps curl_58.mp4\n"
          ]
        },
        {
          "output_type": "stream",
          "name": "stderr",
          "text": [
            "\n",
            "Processing Videos in barbell biceps curl:  84%|████████▍ | 52/62 [04:54<01:07,  6.75s/it]\u001b[A"
          ]
        },
        {
          "output_type": "stream",
          "name": "stdout",
          "text": [
            "✅ Saved keypoints for barbell biceps curl_58.mp4 to CSV\n",
            "\n",
            "🎥 Processing Video: barbell biceps curl_48.mp4\n"
          ]
        },
        {
          "output_type": "stream",
          "name": "stderr",
          "text": [
            "\n",
            "Processing Videos in barbell biceps curl:  85%|████████▌ | 53/62 [04:57<00:50,  5.64s/it]\u001b[A"
          ]
        },
        {
          "output_type": "stream",
          "name": "stdout",
          "text": [
            "✅ Saved keypoints for barbell biceps curl_48.mp4 to CSV\n",
            "\n",
            "🎥 Processing Video: barbell biceps curl_37.mp4\n"
          ]
        },
        {
          "output_type": "stream",
          "name": "stderr",
          "text": [
            "\n",
            "Processing Videos in barbell biceps curl:  87%|████████▋ | 54/62 [05:00<00:38,  4.83s/it]\u001b[A"
          ]
        },
        {
          "output_type": "stream",
          "name": "stdout",
          "text": [
            "✅ Saved keypoints for barbell biceps curl_37.mp4 to CSV\n",
            "\n",
            "🎥 Processing Video: barbell biceps curl_8.mp4\n"
          ]
        },
        {
          "output_type": "stream",
          "name": "stderr",
          "text": [
            "\n",
            "Processing Videos in barbell biceps curl:  89%|████████▊ | 55/62 [05:05<00:34,  4.89s/it]\u001b[A"
          ]
        },
        {
          "output_type": "stream",
          "name": "stdout",
          "text": [
            "✅ Saved keypoints for barbell biceps curl_8.mp4 to CSV\n",
            "\n",
            "🎥 Processing Video: barbell biceps curl_62.mp4\n"
          ]
        },
        {
          "output_type": "stream",
          "name": "stderr",
          "text": [
            "\n",
            "Processing Videos in barbell biceps curl:  90%|█████████ | 56/62 [05:10<00:30,  5.01s/it]\u001b[A"
          ]
        },
        {
          "output_type": "stream",
          "name": "stdout",
          "text": [
            "✅ Saved keypoints for barbell biceps curl_62.mp4 to CSV\n",
            "\n",
            "🎥 Processing Video: barbell biceps curl_6.mp4\n"
          ]
        },
        {
          "output_type": "stream",
          "name": "stderr",
          "text": [
            "\n",
            "Processing Videos in barbell biceps curl:  92%|█████████▏| 57/62 [05:16<00:26,  5.23s/it]\u001b[A"
          ]
        },
        {
          "output_type": "stream",
          "name": "stdout",
          "text": [
            "✅ Saved keypoints for barbell biceps curl_6.mp4 to CSV\n",
            "\n",
            "🎥 Processing Video: barbell biceps curl_7.mp4\n"
          ]
        },
        {
          "output_type": "stream",
          "name": "stderr",
          "text": [
            "\n",
            "Processing Videos in barbell biceps curl:  94%|█████████▎| 58/62 [05:24<00:24,  6.05s/it]\u001b[A"
          ]
        },
        {
          "output_type": "stream",
          "name": "stdout",
          "text": [
            "✅ Saved keypoints for barbell biceps curl_7.mp4 to CSV\n",
            "\n",
            "🎥 Processing Video: barbell biceps curl_60.mp4\n"
          ]
        },
        {
          "output_type": "stream",
          "name": "stderr",
          "text": [
            "\n",
            "Processing Videos in barbell biceps curl:  95%|█████████▌| 59/62 [05:35<00:22,  7.58s/it]\u001b[A"
          ]
        },
        {
          "output_type": "stream",
          "name": "stdout",
          "text": [
            "✅ Saved keypoints for barbell biceps curl_60.mp4 to CSV\n",
            "\n",
            "🎥 Processing Video: barbell biceps curl_59.mp4\n"
          ]
        },
        {
          "output_type": "stream",
          "name": "stderr",
          "text": [
            "\n",
            "Processing Videos in barbell biceps curl:  97%|█████████▋| 60/62 [05:45<00:16,  8.36s/it]\u001b[A"
          ]
        },
        {
          "output_type": "stream",
          "name": "stdout",
          "text": [
            "✅ Saved keypoints for barbell biceps curl_59.mp4 to CSV\n",
            "\n",
            "🎥 Processing Video: barbell biceps curl_9.mp4\n"
          ]
        },
        {
          "output_type": "stream",
          "name": "stderr",
          "text": [
            "\n",
            "Processing Videos in barbell biceps curl:  98%|█████████▊| 61/62 [05:50<00:07,  7.41s/it]\u001b[A"
          ]
        },
        {
          "output_type": "stream",
          "name": "stdout",
          "text": [
            "✅ Saved keypoints for barbell biceps curl_9.mp4 to CSV\n",
            "\n",
            "🎥 Processing Video: barbell biceps curl_61.mp4\n"
          ]
        },
        {
          "output_type": "stream",
          "name": "stderr",
          "text": [
            "\n",
            "Processing Videos in barbell biceps curl: 100%|██████████| 62/62 [05:54<00:00,  5.72s/it]\n",
            "Processing Exercise Folders: 100%|██████████| 22/22 [1:34:16<00:00, 257.10s/it]"
          ]
        },
        {
          "output_type": "stream",
          "name": "stdout",
          "text": [
            "✅ Saved keypoints for barbell biceps curl_61.mp4 to CSV\n",
            "\n",
            "🚀 All videos processed and CSV files saved!\n"
          ]
        },
        {
          "output_type": "stream",
          "name": "stderr",
          "text": [
            "\n"
          ]
        }
      ]
    }
  ]
}